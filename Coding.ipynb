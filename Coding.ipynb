{
 "cells": [
  {
   "cell_type": "markdown",
   "id": "4de46b72-6822-468c-9a93-603e69a047c8",
   "metadata": {},
   "source": [
    "# List comprehension\n",
    "\n",
    "Understanding list comprehensions lets you define long lists in a manner that\n",
    "is both both elegant and saves you a lot of time. The first time you see a list\n",
    "comprehension it may seem daunting, but they’re relatively simple once you\n",
    "understand how they work.\n",
    "\n",
    "Here’s a challenge for you: Using a single line of code, get a list of the squares of each number between 0 and 100! "
   ]
  },
  {
   "cell_type": "code",
   "execution_count": 1,
   "id": "68918ea0-2dec-4f04-9444-8807a0cbff09",
   "metadata": {},
   "outputs": [],
   "source": [
    "nums_squared = [num**2 for num in range(0,101)]"
   ]
  },
  {
   "cell_type": "markdown",
   "id": "f9cbd21f-e08c-434f-b116-ca2abaa88fc5",
   "metadata": {},
   "source": [
    "Then do it again, but only include those\n",
    "squares which are even numbers."
   ]
  },
  {
   "cell_type": "code",
   "execution_count": 2,
   "id": "62bf9789-a251-46bf-9f76-ba2d30f31468",
   "metadata": {},
   "outputs": [],
   "source": [
    "even_squares = [num_squared for num_squared in nums_squared if num_squared%2==0]"
   ]
  },
  {
   "cell_type": "markdown",
   "id": "14c04abe-8723-41f6-8599-d6648b24459f",
   "metadata": {},
   "source": [
    "# Generators\n",
    "\n",
    "Generators are an important tool for training deep neural networks. because\n",
    "they let you iterate over data without cluttering your computer’s memory all\n",
    "that much. \n",
    "\n",
    "Implement a generator function which returns a meow the first time\n",
    "you call it, and then twice the number of meows on each consecutive call."
   ]
  },
  {
   "cell_type": "code",
   "execution_count": 3,
   "id": "9a241646-1bb4-4547-a494-878b81272cbe",
   "metadata": {},
   "outputs": [],
   "source": [
    "def infinite_meows():\n",
    "    num_of_meows = 1\n",
    "    while True:\n",
    "        yield 'Meow '* num_of_meows\n",
    "        num_of_meows *= 2\n",
    "        \n",
    "def definite_meows(steps):\n",
    "    num_of_meows, step_cnt = 1, 0\n",
    "    while step_cnt < steps: \n",
    "        yield 'Meow '* num_of_meows\n",
    "        num_of_meows *= 2\n",
    "        step_cnt += 1"
   ]
  },
  {
   "cell_type": "code",
   "execution_count": 4,
   "id": "f6c70a42-5eee-482d-b73b-aefbb759d46f",
   "metadata": {},
   "outputs": [
    {
     "name": "stdout",
     "output_type": "stream",
     "text": [
      "Meow \n",
      "Meow Meow \n",
      "Meow Meow Meow Meow \n",
      "Meow Meow Meow Meow Meow Meow Meow Meow \n"
     ]
    }
   ],
   "source": [
    "meowerator = infinite_meows()\n",
    "for i in range(0,4):\n",
    "    print(next(meowerator))"
   ]
  },
  {
   "cell_type": "code",
   "execution_count": 5,
   "id": "fabdd7da-3091-40d5-a515-b58851041e9e",
   "metadata": {},
   "outputs": [
    {
     "name": "stdout",
     "output_type": "stream",
     "text": [
      "Meow \n",
      "Meow Meow \n",
      "Meow Meow Meow Meow \n",
      "Meow Meow Meow Meow Meow Meow Meow Meow \n"
     ]
    }
   ],
   "source": [
    "purrator = definite_meows(4)\n",
    "for purr in purrator:\n",
    "    print(purr)"
   ]
  },
  {
   "cell_type": "markdown",
   "id": "823a93f5-ec60-4b63-8353-7f34afc0e86d",
   "metadata": {},
   "source": [
    "# NumPy\n",
    "\n",
    "NumPy is an important library for working with multidimensional arrays, matri-\n",
    "ces and doing math in general. If you don’t have NumPy, use conda to install it\n",
    "now; though if you followed our setup guide, NumPy should have been installed\n",
    "into your virtual environment along with it TensorFlow. See if you can:\n",
    "\n",
    "1. Create a $5\\times5$ NumPy array filled with normally distributed (i.e. $\\mu = 0,\\sigma = 1$)"
   ]
  },
  {
   "cell_type": "code",
   "execution_count": 6,
   "id": "a6540a90-a1d6-4d21-9fbc-b7dd4630a5e8",
   "metadata": {},
   "outputs": [],
   "source": [
    "import numpy as np"
   ]
  },
  {
   "cell_type": "code",
   "execution_count": 7,
   "id": "89717418-25ad-4731-b513-e500586f9c81",
   "metadata": {},
   "outputs": [
    {
     "name": "stdout",
     "output_type": "stream",
     "text": [
      "[[ 0.18091865 -0.40209879 -2.36505738  0.30965682  0.75883653]\n",
      " [ 0.25544035  1.20033303 -1.18238236  1.3241387  -0.59347757]\n",
      " [-0.07991821 -0.85971944  0.91403091 -1.18320835  0.63361677]\n",
      " [ 0.3779571   0.57658194  0.37953265 -0.58622556  0.72576244]\n",
      " [ 0.71324125 -0.00407147 -0.314887    0.78522693 -1.19270914]]\n"
     ]
    }
   ],
   "source": [
    "mu, sigma, shape = 0,1,(5,5)\n",
    "norm_arr = np.random.normal(mu, sigma, shape)\n",
    "print(norm_arr)"
   ]
  },
  {
   "cell_type": "markdown",
   "id": "5f349bcc-b44d-4a6b-b1b3-acf97fa6ebd5",
   "metadata": {},
   "source": [
    "2. If the value of an entry is greater than $0.09$, replace it with its square. Else, replace it with $42$."
   ]
  },
  {
   "cell_type": "code",
   "execution_count": 11,
   "id": "0a20526a-f739-416a-a2f9-390776ff1008",
   "metadata": {},
   "outputs": [
    {
     "name": "stdout",
     "output_type": "stream",
     "text": [
      "[[   1764 3111696 3111696      42       0]\n",
      " [   1764       4 3111696       9 3111696]\n",
      " [3111696 3111696       0 3111696       0]\n",
      " [     42       0      42 3111696       0]\n",
      " [      0 3111696 3111696       0 3111696]]\n"
     ]
    }
   ],
   "source": [
    "norm_arr = np.where(norm_arr > 0.09, norm_arr**2, 42.0)\n",
    "print(norm_arr.astype('int'))"
   ]
  },
  {
   "cell_type": "markdown",
   "id": "8fe60c30-5c1e-40e1-9bd6-6ee1c3d08d39",
   "metadata": {},
   "source": [
    "3. Use slicing to print just the fourth column of your array."
   ]
  },
  {
   "cell_type": "code",
   "execution_count": 9,
   "id": "8a2cb7bf-f295-42c3-831f-11d37d7562d0",
   "metadata": {},
   "outputs": [
    {
     "name": "stdout",
     "output_type": "stream",
     "text": [
      "[ 0.09588735  1.7533433  42.         42.          0.61658133]\n"
     ]
    }
   ],
   "source": [
    "print(norm_arr[:,3])"
   ]
  }
 ],
 "metadata": {
  "kernelspec": {
   "display_name": "iannwtf",
   "language": "python",
   "name": "iannwtf"
  },
  "language_info": {
   "codemirror_mode": {
    "name": "ipython",
    "version": 3
   },
   "file_extension": ".py",
   "mimetype": "text/x-python",
   "name": "python",
   "nbconvert_exporter": "python",
   "pygments_lexer": "ipython3",
   "version": "3.7.13"
  }
 },
 "nbformat": 4,
 "nbformat_minor": 5
}
