{
 "cells": [
  {
   "cell_type": "markdown",
   "id": "4de46b72-6822-468c-9a93-603e69a047c8",
   "metadata": {},
   "source": [
    "# List comprehension\n",
    "\n",
    "Understanding list comprehensions lets you define long lists in a manner that\n",
    "is both both elegant and saves you a lot of time. The first time you see a list\n",
    "comprehension it may seem daunting, but they’re relatively simple once you\n",
    "understand how they work.\n",
    "\n",
    "Here’s a challenge for you: Using a single line of code, get a list of the squares of each number between 0 and 100! "
   ]
  },
  {
   "cell_type": "code",
   "execution_count": 1,
   "id": "68918ea0-2dec-4f04-9444-8807a0cbff09",
   "metadata": {},
   "outputs": [],
   "source": [
    "nums_squared = [num**2 for num in range(0,101)]"
   ]
  },
  {
   "cell_type": "markdown",
   "id": "f9cbd21f-e08c-434f-b116-ca2abaa88fc5",
   "metadata": {},
   "source": [
    "Then do it again, but only include those\n",
    "squares which are even numbers."
   ]
  },
  {
   "cell_type": "code",
   "execution_count": 2,
   "id": "62bf9789-a251-46bf-9f76-ba2d30f31468",
   "metadata": {},
   "outputs": [],
   "source": [
    "even_squares = [num_squared for num_squared in nums_squared if num_squared%2==0]"
   ]
  },
  {
   "cell_type": "markdown",
   "id": "14c04abe-8723-41f6-8599-d6648b24459f",
   "metadata": {},
   "source": [
    "# Generators\n",
    "\n",
    "Generators are an important tool for training deep neural networks. because\n",
    "they let you iterate over data without cluttering your computer’s memory all\n",
    "that much. \n",
    "\n",
    "Implement a generator function which returns a meow the first time\n",
    "you call it, and then twice the number of meows on each consecutive call."
   ]
  },
  {
   "cell_type": "code",
   "execution_count": 3,
   "id": "9a241646-1bb4-4547-a494-878b81272cbe",
   "metadata": {},
   "outputs": [],
   "source": [
    "def infinite_meows():\n",
    "    num_of_meows = 1\n",
    "    while True:\n",
    "        yield 'Meow '* num_of_meows\n",
    "        num_of_meows *= 2\n",
    "        \n",
    "def definite_meows(steps):\n",
    "    num_of_meows, step_cnt = 1, 0\n",
    "    while step_cnt < steps: \n",
    "        yield 'Meow '* num_of_meows\n",
    "        num_of_meows *= 2\n",
    "        step_cnt += 1"
   ]
  },
  {
   "cell_type": "code",
   "execution_count": 4,
   "id": "f6c70a42-5eee-482d-b73b-aefbb759d46f",
   "metadata": {},
   "outputs": [
    {
     "name": "stdout",
     "output_type": "stream",
     "text": [
      "Meow \n",
      "Meow Meow \n",
      "Meow Meow Meow Meow \n",
      "Meow Meow Meow Meow Meow Meow Meow Meow \n"
     ]
    }
   ],
   "source": [
    "meowerator = infinite_meows()\n",
    "for i in range(0,4):\n",
    "    print(next(meowerator))"
   ]
  },
  {
   "cell_type": "code",
   "execution_count": 5,
   "id": "fabdd7da-3091-40d5-a515-b58851041e9e",
   "metadata": {},
   "outputs": [
    {
     "name": "stdout",
     "output_type": "stream",
     "text": [
      "Meow \n",
      "Meow Meow \n",
      "Meow Meow Meow Meow \n",
      "Meow Meow Meow Meow Meow Meow Meow Meow \n"
     ]
    }
   ],
   "source": [
    "purrator = definite_meows(4)\n",
    "for purr in purrator:\n",
    "    print(purr)"
   ]
  },
  {
   "cell_type": "markdown",
   "id": "823a93f5-ec60-4b63-8353-7f34afc0e86d",
   "metadata": {},
   "source": [
    "# NumPy\n",
    "\n",
    "NumPy is an important library for working with multidimensional arrays, matri-\n",
    "ces and doing math in general. If you don’t have NumPy, use conda to install it\n",
    "now; though if you followed our setup guide, NumPy should have been installed\n",
    "into your virtual environment along with it TensorFlow. See if you can:\n",
    "\n",
    "1. Create a $5\\times5$ NumPy array filled with normally distributed values (i.e. $\\mu = 0,\\sigma = 1$)"
   ]
  },
  {
   "cell_type": "code",
   "execution_count": 6,
   "id": "a6540a90-a1d6-4d21-9fbc-b7dd4630a5e8",
   "metadata": {},
   "outputs": [],
   "source": [
    "import numpy as np"
   ]
  },
  {
   "cell_type": "code",
   "execution_count": 7,
   "id": "89717418-25ad-4731-b513-e500586f9c81",
   "metadata": {},
   "outputs": [
    {
     "name": "stdout",
     "output_type": "stream",
     "text": [
      "[[-0.16637519  0.39438085 -0.03124798 -0.25515333 -1.04627336]\n",
      " [ 1.20230955 -0.48253939  2.06279043  0.13411895 -0.16891235]\n",
      " [-1.41980568 -0.46816122  0.65750857 -0.42412813 -0.53039695]\n",
      " [ 1.0104455  -2.11688961  0.25790714 -0.14159368 -0.76017949]\n",
      " [ 0.8185031  -0.19728216  2.51042469  0.15429421 -0.64156073]]\n"
     ]
    }
   ],
   "source": [
    "mu, sigma, shape = 0,1,(5,5)\n",
    "norm_arr = np.random.normal(mu, sigma, shape)\n",
    "print(norm_arr)"
   ]
  },
  {
   "cell_type": "markdown",
   "id": "5f349bcc-b44d-4a6b-b1b3-acf97fa6ebd5",
   "metadata": {},
   "source": [
    "2. If the value of an entry is greater than $0.09$, replace it with its square. Else, replace it with $42$."
   ]
  },
  {
   "cell_type": "code",
   "execution_count": 8,
   "id": "0a20526a-f739-416a-a2f9-390776ff1008",
   "metadata": {},
   "outputs": [
    {
     "name": "stdout",
     "output_type": "stream",
     "text": [
      "[[4.20000000e+01 1.55536255e-01 4.20000000e+01 4.20000000e+01\n",
      "  4.20000000e+01]\n",
      " [1.44554826e+00 4.20000000e+01 4.25510438e+00 1.79878938e-02\n",
      "  4.20000000e+01]\n",
      " [4.20000000e+01 4.20000000e+01 4.32317524e-01 4.20000000e+01\n",
      "  4.20000000e+01]\n",
      " [1.02100010e+00 4.20000000e+01 6.65160951e-02 4.20000000e+01\n",
      "  4.20000000e+01]\n",
      " [6.69947320e-01 4.20000000e+01 6.30223212e+00 2.38067024e-02\n",
      "  4.20000000e+01]]\n"
     ]
    }
   ],
   "source": [
    "norm_arr = np.where(norm_arr > 0.09, norm_arr**2, 42)\n",
    "print(norm_arr)"
   ]
  },
  {
   "cell_type": "markdown",
   "id": "8fe60c30-5c1e-40e1-9bd6-6ee1c3d08d39",
   "metadata": {},
   "source": [
    "3. Use slicing to print just the fourth column of your array."
   ]
  },
  {
   "cell_type": "code",
   "execution_count": 9,
   "id": "8a2cb7bf-f295-42c3-831f-11d37d7562d0",
   "metadata": {},
   "outputs": [
    {
     "name": "stdout",
     "output_type": "stream",
     "text": [
      "[4.20000000e+01 1.79878938e-02 4.20000000e+01 4.20000000e+01\n",
      " 2.38067024e-02]\n"
     ]
    }
   ],
   "source": [
    "print(norm_arr[:,3])"
   ]
  }
 ],
 "metadata": {
  "kernelspec": {
   "display_name": "iannwtf",
   "language": "python",
   "name": "iannwtf"
  },
  "language_info": {
   "codemirror_mode": {
    "name": "ipython",
    "version": 3
   },
   "file_extension": ".py",
   "mimetype": "text/x-python",
   "name": "python",
   "nbconvert_exporter": "python",
   "pygments_lexer": "ipython3",
   "version": "3.7.13"
  }
 },
 "nbformat": 4,
 "nbformat_minor": 5
}
