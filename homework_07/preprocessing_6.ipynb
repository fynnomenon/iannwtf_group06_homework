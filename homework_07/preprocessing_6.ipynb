{
  "nbformat": 4,
  "nbformat_minor": 0,
  "metadata": {
    "colab": {
      "provenance": []
    },
    "kernelspec": {
      "name": "python3",
      "display_name": "Python 3"
    },
    "language_info": {
      "name": "python"
    }
  },
  "cells": [
    {
      "cell_type": "code",
      "execution_count": 1,
      "metadata": {
        "id": "EL2aQKxSSl9t"
      },
      "outputs": [],
      "source": [
        "\"\"\"\n",
        "@authors: faurand, chardes, ehagensieker\n",
        "\"\"\"\n",
        "import tensorflow_datasets as tfds\n",
        "import tensorflow as tf\n",
        "import numpy as np\n",
        "import matplotlib.pyplot as plt\n",
        "import math\n",
        "import datetime\n",
        "import tqdm\n",
        "import pprint\n",
        "\n",
        "# in a notebook, load the tensorboard extension, not needed for scripts\n",
        "%load_ext tensorboard"
      ]
    },
    {
      "cell_type": "code",
      "source": [
        "train_ds, test_ds = tfds.load('mnist', split=['train', 'test'], as_supervised=True)"
      ],
      "metadata": {
        "id": "n0p9QXm_XyyX"
      },
      "execution_count": 7,
      "outputs": []
    },
    {
      "cell_type": "code",
      "source": [
        "def new_target_fnc(ds, sequence_len):\n",
        "\n",
        "  l = list()\n",
        "  for i, elem in enumerate(ds):\n",
        "    if (i % sequence_len) == 0:\n",
        "      l.append(int(elem[1]))\n",
        "    else:\n",
        "      if (i % 2) == 0:\n",
        "        l.append(int(l[i-1] + elem[1]))\n",
        "      else:\n",
        "        l.append(int(l[i-1] - elem[1]))\n",
        "  return l"
      ],
      "metadata": {
        "id": "O4m-qKzH0J_O"
      },
      "execution_count": 78,
      "outputs": []
    },
    {
      "cell_type": "code",
      "source": [
        "def prepare_data(data,batch_size = 32, seq_length = 4, augmentation = None): \n",
        "    '''\n",
        "    prepare the dataset to have one-hot-vectors and values between -1 and 1\n",
        "    '''\n",
        "    #train_ds, test_ds = tfds.load('mnist', split=['train', 'test'], as_supervised=True)\n",
        "\n",
        "     #flatten the images into one dimensional vector\n",
        "    data = data.map(lambda img, target: (img[0], target))\n",
        "    data = data.map(lambda img, target: (tf.reshape(img, (-1,)), target))\n",
        "    #convert data from uint8 to float32\n",
        "    data = data.map(lambda img, target: (tf.cast(img, tf.float32), tf.cast(target,tf.int32)))\n",
        "    #normalization to have input of range [-1,1]\n",
        "    data = data.map(lambda img, target: ((img/128.)-1., target))\n",
        "\n",
        "\n",
        "\n",
        "    data = data.batch(seq_length).cache().shuffle(1028).batch(batch_size).prefetch(tf.data.AUTOTUNE)\n",
        "        \n",
        "    return data "
      ],
      "metadata": {
        "id": "26L6GqICSpUW"
      },
      "execution_count": 80,
      "outputs": []
    },
    {
      "cell_type": "code",
      "source": [
        "train_targets = tf.data.Dataset.from_tensor_slices(new_target_fnc(train_ds, 4))\n",
        "test_targets = tf.data.Dataset.from_tensor_slices(new_target_fnc(test_ds, 4))\n",
        "\n",
        "#Zip up datasets and new targets\n",
        "train_ds = tf.data.Dataset.zip((train_ds, train_targets))\n",
        "test_ds = tf.data.Dataset.zip((test_ds, test_targets))\n",
        "\n",
        "#Prepare the new datasets\n",
        "train = prepare_data(train_ds)\n",
        "test = prepare_data(test_ds)"
      ],
      "metadata": {
        "id": "ef3tRcxnz5hg"
      },
      "execution_count": 81,
      "outputs": []
    },
    {
      "cell_type": "code",
      "source": [
        "for e in train.take(1):\n",
        "  #print(train_ds.take(1))\n",
        "  print(e[1])"
      ],
      "metadata": {
        "id": "Ii-TGksD2l8l"
      },
      "execution_count": null,
      "outputs": []
    }
  ]
}