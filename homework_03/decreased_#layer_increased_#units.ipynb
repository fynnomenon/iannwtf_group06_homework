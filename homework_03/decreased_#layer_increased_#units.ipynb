{
  "nbformat": 4,
  "nbformat_minor": 0,
  "metadata": {
    "colab": {
      "provenance": []
    },
    "kernelspec": {
      "name": "python3",
      "display_name": "Python 3"
    },
    "language_info": {
      "name": "python"
    },
    "widgets": {
      "application/vnd.jupyter.widget-state+json": {
        "ec0cf7d277394bc8a61665730e5278ab": {
          "model_module": "@jupyter-widgets/controls",
          "model_name": "HBoxModel",
          "model_module_version": "1.5.0",
          "state": {
            "_dom_classes": [],
            "_model_module": "@jupyter-widgets/controls",
            "_model_module_version": "1.5.0",
            "_model_name": "HBoxModel",
            "_view_count": null,
            "_view_module": "@jupyter-widgets/controls",
            "_view_module_version": "1.5.0",
            "_view_name": "HBoxView",
            "box_style": "",
            "children": [
              "IPY_MODEL_0f7f3765ce354462b2d7ce80e66b8a1f",
              "IPY_MODEL_c4a4dd21c14149278a94d677143986e0",
              "IPY_MODEL_346edb2236214efd99e486e745fd9427"
            ],
            "layout": "IPY_MODEL_9a5234302daa46c98645b752a37eed4f"
          }
        },
        "0f7f3765ce354462b2d7ce80e66b8a1f": {
          "model_module": "@jupyter-widgets/controls",
          "model_name": "HTMLModel",
          "model_module_version": "1.5.0",
          "state": {
            "_dom_classes": [],
            "_model_module": "@jupyter-widgets/controls",
            "_model_module_version": "1.5.0",
            "_model_name": "HTMLModel",
            "_view_count": null,
            "_view_module": "@jupyter-widgets/controls",
            "_view_module_version": "1.5.0",
            "_view_name": "HTMLView",
            "description": "",
            "description_tooltip": null,
            "layout": "IPY_MODEL_5639695af2ce48f9a5853cf0972c1e11",
            "placeholder": "​",
            "style": "IPY_MODEL_d9e7b7cc04b14f4d80a62e415f2fec2b",
            "value": "Dl Completed...: 100%"
          }
        },
        "c4a4dd21c14149278a94d677143986e0": {
          "model_module": "@jupyter-widgets/controls",
          "model_name": "FloatProgressModel",
          "model_module_version": "1.5.0",
          "state": {
            "_dom_classes": [],
            "_model_module": "@jupyter-widgets/controls",
            "_model_module_version": "1.5.0",
            "_model_name": "FloatProgressModel",
            "_view_count": null,
            "_view_module": "@jupyter-widgets/controls",
            "_view_module_version": "1.5.0",
            "_view_name": "ProgressView",
            "bar_style": "success",
            "description": "",
            "description_tooltip": null,
            "layout": "IPY_MODEL_ea5a3e3329584bf6ad179902c0e3ace6",
            "max": 4,
            "min": 0,
            "orientation": "horizontal",
            "style": "IPY_MODEL_b74e9e75ff3c4a978204094e9ed05d47",
            "value": 4
          }
        },
        "346edb2236214efd99e486e745fd9427": {
          "model_module": "@jupyter-widgets/controls",
          "model_name": "HTMLModel",
          "model_module_version": "1.5.0",
          "state": {
            "_dom_classes": [],
            "_model_module": "@jupyter-widgets/controls",
            "_model_module_version": "1.5.0",
            "_model_name": "HTMLModel",
            "_view_count": null,
            "_view_module": "@jupyter-widgets/controls",
            "_view_module_version": "1.5.0",
            "_view_name": "HTMLView",
            "description": "",
            "description_tooltip": null,
            "layout": "IPY_MODEL_fe525343860540f3ba57f810954d857b",
            "placeholder": "​",
            "style": "IPY_MODEL_bbe9aac614fb4dee9a9f1780b9dfe5ce",
            "value": " 4/4 [00:00&lt;00:00, 10.75 file/s]"
          }
        },
        "9a5234302daa46c98645b752a37eed4f": {
          "model_module": "@jupyter-widgets/base",
          "model_name": "LayoutModel",
          "model_module_version": "1.2.0",
          "state": {
            "_model_module": "@jupyter-widgets/base",
            "_model_module_version": "1.2.0",
            "_model_name": "LayoutModel",
            "_view_count": null,
            "_view_module": "@jupyter-widgets/base",
            "_view_module_version": "1.2.0",
            "_view_name": "LayoutView",
            "align_content": null,
            "align_items": null,
            "align_self": null,
            "border": null,
            "bottom": null,
            "display": null,
            "flex": null,
            "flex_flow": null,
            "grid_area": null,
            "grid_auto_columns": null,
            "grid_auto_flow": null,
            "grid_auto_rows": null,
            "grid_column": null,
            "grid_gap": null,
            "grid_row": null,
            "grid_template_areas": null,
            "grid_template_columns": null,
            "grid_template_rows": null,
            "height": null,
            "justify_content": null,
            "justify_items": null,
            "left": null,
            "margin": null,
            "max_height": null,
            "max_width": null,
            "min_height": null,
            "min_width": null,
            "object_fit": null,
            "object_position": null,
            "order": null,
            "overflow": null,
            "overflow_x": null,
            "overflow_y": null,
            "padding": null,
            "right": null,
            "top": null,
            "visibility": null,
            "width": null
          }
        },
        "5639695af2ce48f9a5853cf0972c1e11": {
          "model_module": "@jupyter-widgets/base",
          "model_name": "LayoutModel",
          "model_module_version": "1.2.0",
          "state": {
            "_model_module": "@jupyter-widgets/base",
            "_model_module_version": "1.2.0",
            "_model_name": "LayoutModel",
            "_view_count": null,
            "_view_module": "@jupyter-widgets/base",
            "_view_module_version": "1.2.0",
            "_view_name": "LayoutView",
            "align_content": null,
            "align_items": null,
            "align_self": null,
            "border": null,
            "bottom": null,
            "display": null,
            "flex": null,
            "flex_flow": null,
            "grid_area": null,
            "grid_auto_columns": null,
            "grid_auto_flow": null,
            "grid_auto_rows": null,
            "grid_column": null,
            "grid_gap": null,
            "grid_row": null,
            "grid_template_areas": null,
            "grid_template_columns": null,
            "grid_template_rows": null,
            "height": null,
            "justify_content": null,
            "justify_items": null,
            "left": null,
            "margin": null,
            "max_height": null,
            "max_width": null,
            "min_height": null,
            "min_width": null,
            "object_fit": null,
            "object_position": null,
            "order": null,
            "overflow": null,
            "overflow_x": null,
            "overflow_y": null,
            "padding": null,
            "right": null,
            "top": null,
            "visibility": null,
            "width": null
          }
        },
        "d9e7b7cc04b14f4d80a62e415f2fec2b": {
          "model_module": "@jupyter-widgets/controls",
          "model_name": "DescriptionStyleModel",
          "model_module_version": "1.5.0",
          "state": {
            "_model_module": "@jupyter-widgets/controls",
            "_model_module_version": "1.5.0",
            "_model_name": "DescriptionStyleModel",
            "_view_count": null,
            "_view_module": "@jupyter-widgets/base",
            "_view_module_version": "1.2.0",
            "_view_name": "StyleView",
            "description_width": ""
          }
        },
        "ea5a3e3329584bf6ad179902c0e3ace6": {
          "model_module": "@jupyter-widgets/base",
          "model_name": "LayoutModel",
          "model_module_version": "1.2.0",
          "state": {
            "_model_module": "@jupyter-widgets/base",
            "_model_module_version": "1.2.0",
            "_model_name": "LayoutModel",
            "_view_count": null,
            "_view_module": "@jupyter-widgets/base",
            "_view_module_version": "1.2.0",
            "_view_name": "LayoutView",
            "align_content": null,
            "align_items": null,
            "align_self": null,
            "border": null,
            "bottom": null,
            "display": null,
            "flex": null,
            "flex_flow": null,
            "grid_area": null,
            "grid_auto_columns": null,
            "grid_auto_flow": null,
            "grid_auto_rows": null,
            "grid_column": null,
            "grid_gap": null,
            "grid_row": null,
            "grid_template_areas": null,
            "grid_template_columns": null,
            "grid_template_rows": null,
            "height": null,
            "justify_content": null,
            "justify_items": null,
            "left": null,
            "margin": null,
            "max_height": null,
            "max_width": null,
            "min_height": null,
            "min_width": null,
            "object_fit": null,
            "object_position": null,
            "order": null,
            "overflow": null,
            "overflow_x": null,
            "overflow_y": null,
            "padding": null,
            "right": null,
            "top": null,
            "visibility": null,
            "width": null
          }
        },
        "b74e9e75ff3c4a978204094e9ed05d47": {
          "model_module": "@jupyter-widgets/controls",
          "model_name": "ProgressStyleModel",
          "model_module_version": "1.5.0",
          "state": {
            "_model_module": "@jupyter-widgets/controls",
            "_model_module_version": "1.5.0",
            "_model_name": "ProgressStyleModel",
            "_view_count": null,
            "_view_module": "@jupyter-widgets/base",
            "_view_module_version": "1.2.0",
            "_view_name": "StyleView",
            "bar_color": null,
            "description_width": ""
          }
        },
        "fe525343860540f3ba57f810954d857b": {
          "model_module": "@jupyter-widgets/base",
          "model_name": "LayoutModel",
          "model_module_version": "1.2.0",
          "state": {
            "_model_module": "@jupyter-widgets/base",
            "_model_module_version": "1.2.0",
            "_model_name": "LayoutModel",
            "_view_count": null,
            "_view_module": "@jupyter-widgets/base",
            "_view_module_version": "1.2.0",
            "_view_name": "LayoutView",
            "align_content": null,
            "align_items": null,
            "align_self": null,
            "border": null,
            "bottom": null,
            "display": null,
            "flex": null,
            "flex_flow": null,
            "grid_area": null,
            "grid_auto_columns": null,
            "grid_auto_flow": null,
            "grid_auto_rows": null,
            "grid_column": null,
            "grid_gap": null,
            "grid_row": null,
            "grid_template_areas": null,
            "grid_template_columns": null,
            "grid_template_rows": null,
            "height": null,
            "justify_content": null,
            "justify_items": null,
            "left": null,
            "margin": null,
            "max_height": null,
            "max_width": null,
            "min_height": null,
            "min_width": null,
            "object_fit": null,
            "object_position": null,
            "order": null,
            "overflow": null,
            "overflow_x": null,
            "overflow_y": null,
            "padding": null,
            "right": null,
            "top": null,
            "visibility": null,
            "width": null
          }
        },
        "bbe9aac614fb4dee9a9f1780b9dfe5ce": {
          "model_module": "@jupyter-widgets/controls",
          "model_name": "DescriptionStyleModel",
          "model_module_version": "1.5.0",
          "state": {
            "_model_module": "@jupyter-widgets/controls",
            "_model_module_version": "1.5.0",
            "_model_name": "DescriptionStyleModel",
            "_view_count": null,
            "_view_module": "@jupyter-widgets/base",
            "_view_module_version": "1.2.0",
            "_view_name": "StyleView",
            "description_width": ""
          }
        }
      }
    }
  },
  "cells": [
    {
      "cell_type": "code",
      "execution_count": 1,
      "metadata": {
        "id": "oZls_gB8r-BP",
        "colab": {
          "base_uri": "https://localhost:8080/",
          "height": 104,
          "referenced_widgets": [
            "ec0cf7d277394bc8a61665730e5278ab",
            "0f7f3765ce354462b2d7ce80e66b8a1f",
            "c4a4dd21c14149278a94d677143986e0",
            "346edb2236214efd99e486e745fd9427",
            "9a5234302daa46c98645b752a37eed4f",
            "5639695af2ce48f9a5853cf0972c1e11",
            "d9e7b7cc04b14f4d80a62e415f2fec2b",
            "ea5a3e3329584bf6ad179902c0e3ace6",
            "b74e9e75ff3c4a978204094e9ed05d47",
            "fe525343860540f3ba57f810954d857b",
            "bbe9aac614fb4dee9a9f1780b9dfe5ce"
          ]
        },
        "outputId": "66e1b29f-cf1a-4ae0-826c-d48162395466"
      },
      "outputs": [
        {
          "output_type": "stream",
          "name": "stdout",
          "text": [
            "Downloading and preparing dataset 11.06 MiB (download: 11.06 MiB, generated: 21.00 MiB, total: 32.06 MiB) to ~/tensorflow_datasets/mnist/3.0.1...\n"
          ]
        },
        {
          "output_type": "display_data",
          "data": {
            "text/plain": [
              "Dl Completed...:   0%|          | 0/4 [00:00<?, ? file/s]"
            ],
            "application/vnd.jupyter.widget-view+json": {
              "version_major": 2,
              "version_minor": 0,
              "model_id": "ec0cf7d277394bc8a61665730e5278ab"
            }
          },
          "metadata": {}
        },
        {
          "output_type": "stream",
          "name": "stdout",
          "text": [
            "Dataset mnist downloaded and prepared to ~/tensorflow_datasets/mnist/3.0.1. Subsequent calls will reuse this data.\n"
          ]
        }
      ],
      "source": [
        "\"\"\"\n",
        "@authors: faurand, chardes, ehagensieker\n",
        "\"\"\"\n",
        "import tensorflow_datasets as tfds\n",
        "import tensorflow as tf\n",
        "import numpy as np \n",
        "\n",
        "#load the mnist dataset\n",
        "(train_ds, test_ds), ds_info = tfds.load('mnist', split=['train', 'test'], as_supervised=True, with_info = True)\n"
      ]
    },
    {
      "cell_type": "code",
      "source": [
        "def prepare_mnist_data(mnist):\n",
        "  \n",
        "  #flatten the images into one dimensional vector\n",
        "  mnist = mnist.map(lambda img, target: (tf.reshape(img, (-1,)), target))\n",
        "  #convert data from uint8 to float32\n",
        "  mnist = mnist.map(lambda img, target: (tf.cast(img, tf.float32), target))\n",
        "  #normalization to have input of range [-1,1]\n",
        "  mnist = mnist.map(lambda img, target: ((img/128.)-1., target))\n",
        "  #create one-hot vector targets\n",
        "  mnist = mnist.map(lambda img, target: (img, tf.one_hot(target, depth=10)))\n",
        "  \n",
        "  #cache this progress in memory - improve performance\n",
        "  mnist = mnist.cache()\n",
        "  #shuffle, batch, prefetch\n",
        "  mnist = mnist.shuffle(1000)\n",
        "  mnist = mnist.batch(32)\n",
        "  mnist = mnist.prefetch(20)\n",
        "\n",
        "  #return preprocessed dataset\n",
        "  return mnist\n",
        "\n",
        "#apply the preprocessing to both data sets\n",
        "train_dataset = train_ds.apply(prepare_mnist_data)\n",
        "test_dataset = test_ds.apply(prepare_mnist_data)"
      ],
      "metadata": {
        "id": "C9keSyWGr_bp"
      },
      "execution_count": 2,
      "outputs": []
    },
    {
      "cell_type": "code",
      "source": [
        "\"\"\"\n",
        "@authors: faurand, chardes, ehagensieker\n",
        "\"\"\"\n",
        "from tensorflow.keras.layers import Dense\n",
        "\n",
        "class MyModel(tf.keras.Model):\n",
        "    \n",
        "    def __init__(self):\n",
        "        #initialize the model with n fully connected layer\n",
        "        #inherits from tf.keras.Model\n",
        "        super(MyModel, self).__init__()\n",
        "        self.dense1 = tf.keras.layers.Dense(1000, activation=tf.nn.relu)\n",
        "        #self.dense2 = tf.keras.layers.Dense(256, activation=tf.nn.relu)\n",
        "        #self.dense3 = tf.keras.layers.Dense(12, activation=tf.nn.relu)\n",
        "        #self.dense4 = tf.keras.layers.Dense(12, activation=tf.nn.relu)\n",
        "        #self.dense5 = tf.keras.layers.Dense(12, activation=tf.nn.relu)\n",
        "        self.out = tf.keras.layers.Dense(10, activation=tf.nn.softmax)\n",
        "\n",
        "    @tf.function\n",
        "    def call(self, inputs):\n",
        "        #implementation of the model's forward process\n",
        "        x = self.dense1(inputs)\n",
        "        #x = self.dense2(x)\n",
        "        #x = self.dense3(x)\n",
        "        #x = self.dense4(x)\n",
        "        #x = self.dense5(x)\n",
        "        x = self.out(x)\n",
        "        return x\n",
        "    "
      ],
      "metadata": {
        "id": "gW2dxVX_sCBh"
      },
      "execution_count": 3,
      "outputs": []
    },
    {
      "cell_type": "code",
      "source": [
        "def train_step(model, input, target, loss_function, optimizer):\n",
        "\n",
        "  #computation of the model's prediciton and the loss \n",
        "  with tf.GradientTape() as tape:\n",
        "    prediction = model(input)\n",
        "    loss = loss_function(target, prediction)\n",
        "  #calculate the gradient to apply the optimizer\n",
        "  gradients = tape.gradient(loss, model.trainable_variables)\n",
        "  optimizer.apply_gradients(zip(gradients, model.trainable_variables))\n",
        "\n",
        "  #get the accuracy of the train_step\n",
        "  sample_train_accuracy =  np.argmax(target, axis=1) == np.argmax(prediction, axis=1)\n",
        "  sample_train_accuracy = np.mean(sample_train_accuracy)\n",
        "\n",
        "  train_accuracy_aggregator = [] \n",
        "  train_accuracy_aggregator.append(np.mean(sample_train_accuracy))\n",
        "  train_accuracy = tf.reduce_mean(train_accuracy_aggregator)\n",
        "\n",
        "  return loss, train_accuracy\n",
        "\n",
        "def test(model, test_data, loss_function):\n",
        "\n",
        "  #get a list saving all accuracies and losses to get the mean at the end\n",
        "  test_accuracy_aggregator = []\n",
        "  test_loss_aggregator = []\n",
        "\n",
        "  #test over complete test data\n",
        "  for (input, target) in test_data:\n",
        "    prediction = model(input)\n",
        "    sample_test_loss = loss_function(target, prediction)\n",
        "    sample_test_accuracy =  np.argmax(target, axis=1) == np.argmax(prediction, axis=1)\n",
        "    sample_test_accuracy = np.mean(sample_test_accuracy)\n",
        "    test_loss_aggregator.append(sample_test_loss.numpy())\n",
        "    test_accuracy_aggregator.append(np.mean(sample_test_accuracy))\n",
        "\n",
        "  test_loss = tf.reduce_mean(test_loss_aggregator)\n",
        "  test_accuracy = tf.reduce_mean(test_accuracy_aggregator)\n",
        "\n",
        "  return test_loss, test_accuracy"
      ],
      "metadata": {
        "id": "yujOC-GUsEyj"
      },
      "execution_count": 4,
      "outputs": []
    },
    {
      "cell_type": "code",
      "source": [
        "tf.keras.backend.clear_session()\n",
        "\n",
        "# subset of the train and test data set\n",
        "train_dataset = train_dataset.take(1000)\n",
        "test_dataset = test_dataset.take(100)\n",
        "\n",
        "### Hyperparameters\n",
        "num_epochs = 7\n",
        "learning_rate = 0.001\n",
        "\n",
        "# Initialize the model.\n",
        "model = MyModel()\n",
        "# Initialize the loss: categorical cross entropy. Check out 'tf.keras.losses'.\n",
        "cross_entropy_loss = tf.keras.losses.CategoricalCrossentropy()\n",
        "# Initialize the optimizer: SGD with default parameters. Check out 'tf.keras.optimizers'\n",
        "optimizer = tf.keras.optimizers.SGD(learning_rate)\n",
        "\n",
        "# lists for later visualization.\n",
        "train_losses = []\n",
        "test_losses = []\n",
        "test_accuracies = []\n",
        "train_accuracies = [] \n",
        "\n",
        "#performance on accuracy and loss before we start the training (on test and train data)\n",
        "test_loss, test_accuracy = test(model, test_dataset, cross_entropy_loss)\n",
        "test_losses.append(test_loss)\n",
        "test_accuracies.append(test_accuracy)\n",
        "\n",
        "train_loss, train_accuracy = test(model, train_dataset, cross_entropy_loss)\n",
        "train_losses.append(train_loss)\n",
        "train_accuracies.append(train_accuracy)\n",
        "\n",
        "#outputs the values for the test data\n",
        "print(\"{:9}{:20}{:15}\".format(\"Epoche\", \"Accuracy\", \"Loss\"))\n",
        "\n",
        "for epoch in range(num_epochs):\n",
        "    #outputs the values for the test data after each epoch \n",
        "    print(\"{:<9d}{:<20f}{:<15f}\".format(epoch, test_accuracies[-1], test_losses[-1]))\n",
        "\n",
        "    #training (and checking in with training)\n",
        "    epoch_loss_agg = []\n",
        "    epoch_accuracy_agg = []\n",
        "\n",
        "    #train the data\n",
        "    for input,target in train_dataset:\n",
        "        train_loss, train_accuracy = train_step(model, input, target, cross_entropy_loss, optimizer)\n",
        "        epoch_loss_agg.append(train_loss)\n",
        "        epoch_accuracy_agg.append(train_accuracy)\n",
        "\n",
        "    #track training loss\n",
        "    train_losses.append(tf.reduce_mean(epoch_loss_agg))\n",
        "    train_accuracies.append(tf.reduce_mean(epoch_accuracy_agg))\n",
        "\n",
        "    #testing, so we can track accuracy and test loss\n",
        "    test_loss, test_accuracy = test(model, test_dataset, cross_entropy_loss)\n",
        "    test_losses.append(test_loss)\n",
        "    test_accuracies.append(test_accuracy)\n",
        "\n",
        " "
      ],
      "metadata": {
        "colab": {
          "base_uri": "https://localhost:8080/"
        },
        "id": "zQrfSo2lsHlX",
        "outputId": "efe71d6e-9763-4322-d447-4b8603ac11ba"
      },
      "execution_count": 5,
      "outputs": [
        {
          "output_type": "stream",
          "name": "stdout",
          "text": [
            "Epoche   Accuracy            Loss           \n",
            "0        0.092188            2.982143       \n",
            "1        0.846562            0.671048       \n",
            "2        0.880313            0.490731       \n",
            "3        0.880313            0.445478       \n",
            "4        0.894062            0.400368       \n",
            "5        0.898750            0.372972       \n",
            "6        0.905000            0.355288       \n"
          ]
        }
      ]
    },
    {
      "cell_type": "code",
      "source": [
        "import matplotlib.pyplot as plt\n",
        "\n",
        "def visualization(train_loss, test_loss, train_accuracies, test_accuracies): \n",
        "  #create two different plots for losses and accuracies\n",
        "  fig, ax = plt.subplots(1, 2)\n",
        "\n",
        "  #plot the losses\n",
        "  ax[0].plot(train_loss, \"b-\", label = \"train loss\")\n",
        "  ax[0].plot(test_loss, \"r-\", label = \"test_loss\")\n",
        "  ax[0].legend(loc = \"best\")\n",
        "  ax[0].set_xlabel(\"Training steps\")\n",
        "  ax[0].set_ylabel(\"Loss performance\")\n",
        "\n",
        "  #plot the accuracies\n",
        "  ax[1].plot(train_accuracies , \"b:\", label = \"train_accuracies\")\n",
        "  ax[1].plot(test_accuracies , \"r:\", label = \"test_accuracies\")\n",
        "  ax[1].legend(loc = \"best\")\n",
        "  ax[1].set_xlabel(\"Training steps\")\n",
        "  ax[1].set_ylabel(\"Accuracy performance\")\n",
        "\n",
        "  #move the plot to the right (to not have the label inside the ax[0] plot)\n",
        "  box = ax[1].get_position() \n",
        "  box.x0 = box.x0 + 0.05\n",
        "  box.x1 = box.x1 + 0.05\n",
        "  ax[1].set_position(box)\n",
        "\n",
        "  #set the title \n",
        "  fig.suptitle(\"Performance of the model\")\n",
        "\n",
        "  plt.show()"
      ],
      "metadata": {
        "id": "8cVl3ca0sJPn"
      },
      "execution_count": null,
      "outputs": []
    },
    {
      "cell_type": "code",
      "source": [
        "#visualize the losses and accuracies\n",
        "visualization(train_losses, test_losses, train_accuracies, test_accuracies)"
      ],
      "metadata": {
        "colab": {
          "base_uri": "https://localhost:8080/",
          "height": 308
        },
        "id": "LdP2HgR2sK-o",
        "outputId": "d9c8a717-bd99-48af-effc-e86bb5b45112"
      },
      "execution_count": null,
      "outputs": [
        {
          "output_type": "display_data",
          "data": {
            "text/plain": [
              "<Figure size 432x288 with 2 Axes>"
            ],
            "image/png": "[encoded data removed]"
          },
          "metadata": {
            "needs_background": "light"
          }
        }
      ]
    },
    {
      "cell_type": "markdown",
      "source": [
        "Batch size: 32  \\\\\n",
        "Num_epoch: 7 \\\\\n",
        "Learning_rate: 0.001 \\\\\n",
        "1 hidden layer with each 1000 units \\\\\n",
        "\n",
        "There seems to be no huge difference compared to the performance with 2 hidden layer having 256 units per layer. After one epoch the performance increased a lot. After that the improvement is a little slower compared to the model with 2 layer, each having 256 units. This suggests, that it is favorable to have more layers with many units. \n",
        "However, it is difficult to name an optimal model. You have to test your model with different numbers of layer and units and find out what suits best for your specific problem.  "
      ],
      "metadata": {
        "id": "Twu76rrFcqv1"
      }
    }
  ]
}