{
 "cells": [
  {
   "cell_type": "code",
   "execution_count": 1,
   "metadata": {
    "colab": {
     "base_uri": "https://localhost:8080/",
     "height": 105,
     "referenced_widgets": [
      "33d75e62e09d45358850748e1dc929c8",
      "1a82a6487e6c40bb842b54b27772fdca",
      "b0a9657c889a49dfab38ef22463e5b6a",
      "fd76816091b24e968a772846b2cc39be",
      "e3d3218ca6b84439b00c533843274016",
      "bd1f408302b847fbad9896540192dc19",
      "0eede157c68449c8bd2f3f242c7b933d",
      "3fd34b6608e54f939e6019aa0cc4e26c",
      "6f767210e699477eafee2196924b0662",
      "61ddc1edbc9f4147ad38c87615613e5b",
      "0cac761504414290bbc295717621641e"
     ]
    },
    "id": "3eQD_OhqmeeB",
    "outputId": "c6fdd7f6-afc0-4fe0-e87a-b81d7a4bca86"
   },
   "outputs": [],
   "source": [
    "\"\"\"\n",
    "@authors: faurand, chardes, ehagensieker\n",
    "\"\"\"\n",
    "import tensorflow_datasets as tfds\n",
    "import tensorflow as tf\n",
    "import numpy as np\n",
    "import math\n",
    "import datetime\n",
    "import tqdm\n",
    "import pprint\n",
    "\n",
    "# in a notebook, load the tensorboard extension, not needed for scripts\n",
    "%load_ext tensorboard"
   ]
  },
  {
   "cell_type": "code",
   "execution_count": 2,
   "metadata": {},
   "outputs": [
    {
     "name": "stderr",
     "output_type": "stream",
     "text": [
      "2022-11-27 17:56:10.559164: I tensorflow/core/platform/cpu_feature_guard.cc:193] This TensorFlow binary is optimized with oneAPI Deep Neural Network Library (oneDNN) to use the following CPU instructions in performance-critical operations:  SSE4.1 SSE4.2 AVX AVX2 FMA\n",
      "To enable them in other operations, rebuild TensorFlow with the appropriate compiler flags.\n",
      "2022-11-27 17:56:10.560612: I tensorflow/core/common_runtime/process_util.cc:146] Creating new thread pool with default inter op setting: 2. Tune using inter_op_parallelism_threads for best performance.\n"
     ]
    }
   ],
   "source": [
    "# load the dataset \n",
    "(train_ds, test_ds) = tfds.load('mnist', split=['train', 'test'], as_supervised=True)"
   ]
  },
  {
   "cell_type": "code",
   "execution_count": 3,
   "metadata": {
    "id": "W-d0ILVuDW9i"
   },
   "outputs": [],
   "source": [
    "def calc(task,mnist):\n",
    "    \"\"\"\n",
    "    define the two subtasks which differ there target values\n",
    "\n",
    "    Args: \n",
    "    task(int): which task to perform\n",
    "    mnist(array): dataset to be used for the task\n",
    "    Return: \n",
    "    mnist(array): preprocessed dataset\n",
    "    \"\"\"\n",
    "    if task == 1:\n",
    "        mnist = mnist.map(lambda pic1,pic2: (pic1[0],pic2[0],tf.cast((pic1[1] + pic2[1] >= 5), tf.int32)))\n",
    "        return mnist\n",
    "    if task == 2:\n",
    "        mnist = mnist.map(lambda pic1,pic2: (pic1[0],pic2[0], tf.cast((pic1[1]-pic2[1]), tf.int32)))\n",
    "        return mnist"
   ]
  },
  {
   "cell_type": "code",
   "execution_count": 4,
   "metadata": {
    "id": "cu6QEg08F9oO"
   },
   "outputs": [],
   "source": [
    "def prepare_mnist_data(task,batch_size,mnist):\n",
    "  \n",
    "    #flatten the images into one dimensional vector\n",
    "    mnist = mnist.map(lambda img, target: (tf.reshape(img, (-1,)), target))\n",
    "    #convert data from uint8 to float32\n",
    "    mnist = mnist.map(lambda img, target: (tf.cast(img, tf.float32), target))\n",
    "    #normalization to have input of range [-1,1]\n",
    "    mnist = mnist.map(lambda img, target: ((img/128.)-1., target))\n",
    "    #create a tuple with shuffled data points \n",
    "    mnist = tf.data.Dataset.zip((mnist.shuffle(1000), mnist.shuffle(1000)))\n",
    "    #create a triple depending on the task to be performed\n",
    "    mnist = calc(task,mnist)\n",
    "    #cache this progress in memory - improve performance\n",
    "    mnist = mnist.cache()\n",
    "    #shuffle, batch, prefetch\n",
    "    mnist = mnist.shuffle(1000)\n",
    "    mnist = mnist.batch(batch_size)\n",
    "    mnist = mnist.prefetch(tf.data.AUTOTUNE)\n",
    "\n",
    "    #return preprocessed dataset\n",
    "    return mnist"
   ]
  },
  {
   "cell_type": "code",
   "execution_count": 5,
   "metadata": {
    "id": "dUQ1Kr1dAPXP"
   },
   "outputs": [],
   "source": [
    "\"\"\"\n",
    "@authors: faurand, chardes, ehagensieker\n",
    "\"\"\"\n",
    "class TwinModel(tf.keras.Model):\n",
    "    \"\"\"\n",
    "    The model we are using for predicting the outcome \n",
    "    \"\"\" \n",
    "    def __init__(self, task=1,optimizer=tf.keras.optimizers.Adam()):\n",
    "        #inherit from parent class\n",
    "        super(TwinModel, self).__init__()\n",
    "\n",
    "        #depending on the task to perform we need different activation functions for the output layer \n",
    "        #and different metrics\n",
    "        if task==1:\n",
    "            self.metrics_list = [tf.keras.metrics.Mean(name = 'loss'),tf.keras.metrics.BinaryAccuracy(name = \"acc\")]\n",
    "            self.loss_function = tf.keras.losses.BinaryCrossentropy()\n",
    "            self.dense1 = tf.keras.layers.Dense(256, activation=tf.nn.relu)\n",
    "            self.dense2 = tf.keras.layers.Dense(256, activation=tf.nn.relu)\n",
    "            self.out_layer = tf.keras.layers.Dense(1, activation=tf.nn.sigmoid)\n",
    "\n",
    "        if task==2:\n",
    "            self.metrics_list = [tf.keras.metrics.Mean(name = 'loss'),tf.keras.metrics.MeanAbsoluteError(name = \"MAD\")]\n",
    "            self.loss_function = tf.keras.losses.MeanSquaredError()\n",
    "            self.dense1 = tf.keras.layers.Dense(256, activation= tf.nn.relu)\n",
    "            self.dense2 = tf.keras.layers.Dense(256, activation= tf.nn.relu)\n",
    "            self.out_layer = tf.keras.layers.Dense(1, activation= \"linear\")\n",
    "\n",
    "        self.optimizer = optimizer\n",
    "\n",
    "    @tf.function \n",
    "    def call(self, images):\n",
    "        \"\"\"\n",
    "        how to forward the images through the layer\n",
    "        \"\"\"\n",
    "        img1, img2 = images \n",
    "\n",
    "        img1_x = self.dense1(img1)\n",
    "        img1_x = self.dense2(img1_x)\n",
    "\n",
    "        img2_x = self.dense1(img2)\n",
    "        img2_x = self.dense2(img2_x)\n",
    "\n",
    "        combined = tf.concat([img1_x, img2_x], axis = 1)\n",
    "        out = self.out_layer(combined)\n",
    "\n",
    "        return out\n",
    "\n",
    "    @property\n",
    "    def metrics(self):\n",
    "        return self.metrics_list\n",
    "\n",
    "\n",
    "    def reset_metric(self):\n",
    "        for metric in self.metrics: \n",
    "            metric.reset_states()\n",
    "\n",
    "    @tf.function \n",
    "    def train_step(self, data):\n",
    "        img1, img2, t = data\n",
    "\n",
    "        with tf.GradientTape() as tape:\n",
    "            output = self((img1, img2), training = True)\n",
    "            loss = self.loss_function(t, output)\n",
    "\n",
    "        gradients = tape.gradient(loss, self.trainable_variables)\n",
    "        self.optimizer.apply_gradients(zip(gradients, self.trainable_variables))\n",
    "\n",
    "        self.metrics[0].update_state(loss)\n",
    "\n",
    "        for metric in self.metrics[1:]:\n",
    "              metric.update_state(t,output)\n",
    "\n",
    "        return {metric.name: metric.result() for metric in self.metrics}\n",
    "\n",
    "    @tf.function\n",
    "    def test_step(self, data):\n",
    "        img1, img2, t = data\n",
    "\n",
    "        output = self((img1,img2), training = False)\n",
    "        loss = self.loss_function(t, output)\n",
    "\n",
    "        self.metrics[0].update_state(loss)\n",
    "\n",
    "        for metric in self.metrics[1:]:\n",
    "              metric.update_state(t,output)\n",
    "\n",
    "        return {metric.name: metric.result() for metric in self.metrics}"
   ]
  },
  {
   "cell_type": "code",
   "execution_count": 6,
   "metadata": {
    "id": "AI2WJpkkMhEO"
   },
   "outputs": [],
   "source": [
    "def training_loop(model, train_ds, val_ds, epochs, train_summary_writer, val_summary_writer): \n",
    "    #iterate over given amount of epochs\n",
    "    for epoch in range(epochs): \n",
    "        print(f\"Epoch {epoch}: \")\n",
    "\n",
    "        #train on all batches of the training data\n",
    "        for data in tqdm.tqdm(train_ds, position = 0, leave = True):\n",
    "            metrics = model.train_step(data)\n",
    "            \n",
    "            with train_summary_writer.as_default(): \n",
    "                for metric in model.metrics: \n",
    "                    tf.summary.scalar(f\"{metric.name}\", metric.result(), step=epoch)\n",
    "\n",
    "        # print the metrics\n",
    "        print([f\"Train {key}: {value.numpy()}\" for (key, value) in metrics.items()])\n",
    "\n",
    "        #reset metric \n",
    "        model.reset_metrics()\n",
    "\n",
    "        #evaluation on validation set\n",
    "        for data in val_ds:\n",
    "            metrics = model.test_step(data)\n",
    "            with val_summary_writer.as_default():\n",
    "                for metric in model.metrics:\n",
    "                    tf.summary.scalar(f\"{metric.name}\", metric.result(), step=epoch)\n",
    "\n",
    "        # print the metrics\n",
    "        print([f\"Test {key}: {value.numpy()}\" for (key, value) in metrics.items()])\n",
    "\n",
    "        #reset metric\n",
    "        model.reset_metric()\n",
    "\n",
    "        print(\"\\n\")"
   ]
  },
  {
   "cell_type": "code",
   "execution_count": 7,
   "metadata": {},
   "outputs": [],
   "source": [
    "def create_summary_writers(config_name):\n",
    "    current_time = datetime.datetime.now().strftime(\"%Y%m%d-%H%M%S\")\n",
    "\n",
    "    train_log_path = f\"logs/submission/{config_name}/{current_time}/train\"\n",
    "    val_log_path = f\"logs/submission/{config_name}/{current_time}/val\"\n",
    "\n",
    "    # log writer\n",
    "    train_summary_writer = tf.summary.create_file_writer(train_log_path)\n",
    "    val_summary_writer = tf.summary.create_file_writer(val_log_path)\n",
    "    \n",
    "    return train_summary_writer, val_summary_writer"
   ]
  },
  {
   "cell_type": "code",
   "execution_count": 8,
   "metadata": {
    "id": "4qLXtIkAFun0"
   },
   "outputs": [],
   "source": [
    "def run(task, optimizer=tf.keras.optimizers.Adam()):\n",
    "    ### Hyperparameters\n",
    "    num_epochs = 15\n",
    "    batch_size = 32\n",
    "\n",
    "    train_dataset = prepare_mnist_data(task,batch_size,train_ds)\n",
    "    test_dataset = prepare_mnist_data(task,batch_size,test_ds)\n",
    "    \n",
    "    # Check the dataset\n",
    "    #print(f'Dataset for subtask {task}: ')\n",
    "    #for train, test in zip(train_dataset.take(1), test_dataset.take(1)):\n",
    "    #    print(f'train_img1: {train[0].shape} \\ntrain_img2: {train[1].shape} \\ntrain_target: {train[2].shape}')\n",
    "    #    print(f'test_img1: {test[0].shape} \\ntest_img2: {test[1].shape} \\ntest_target: {test[2].shape}')\n",
    "\n",
    "    # Initialize the model.\n",
    "    model = TwinModel(task, optimizer)\n",
    "    \n",
    "    # create new summary_writers\n",
    "    train_summary_writer, val_summary_writer = create_summary_writers(config_name=f'RUN_SUBTASK_{task}')\n",
    "    \n",
    "    # Training the model\n",
    "    training_loop(model,train_dataset,test_dataset,num_epochs,train_summary_writer, val_summary_writer)"
   ]
  },
  {
   "cell_type": "code",
   "execution_count": 9,
   "metadata": {
    "colab": {
     "base_uri": "https://localhost:8080/"
    },
    "id": "yh-7_Bnt8xKR",
    "outputId": "2a23cece-61dc-440e-9a8c-8ae347cab47f"
   },
   "outputs": [
    {
     "name": "stdout",
     "output_type": "stream",
     "text": [
      "Task 1, optimizer=SGD, learning_rate=0.001\n",
      "\n",
      "Epoch 0: \n"
     ]
    },
    {
     "name": "stderr",
     "output_type": "stream",
     "text": [
      "100%|███████████████████████████████████████| 1875/1875 [00:32<00:00, 56.88it/s]\n"
     ]
    },
    {
     "name": "stdout",
     "output_type": "stream",
     "text": [
      "['Train loss: 0.3416014313697815', 'Train acc: 0.8556833267211914']\n",
      "['Test loss: 0.29073646664619446', 'Test acc: 0.8784999847412109']\n",
      "\n",
      "\n",
      "Epoch 1: \n"
     ]
    },
    {
     "name": "stderr",
     "output_type": "stream",
     "text": [
      "100%|███████████████████████████████████████| 1875/1875 [00:19<00:00, 94.14it/s]\n"
     ]
    },
    {
     "name": "stdout",
     "output_type": "stream",
     "text": [
      "['Train loss: 0.2684992551803589', 'Train acc: 0.8919166922569275']\n",
      "['Test loss: 0.2580743730068207', 'Test acc: 0.8967000246047974']\n",
      "\n",
      "\n",
      "Epoch 2: \n"
     ]
    },
    {
     "name": "stderr",
     "output_type": "stream",
     "text": [
      "100%|██████████████████████████████████████| 1875/1875 [00:15<00:00, 122.10it/s]\n"
     ]
    },
    {
     "name": "stdout",
     "output_type": "stream",
     "text": [
      "['Train loss: 0.2464093118906021', 'Train acc: 0.902400016784668']\n",
      "['Test loss: 0.24275141954421997', 'Test acc: 0.9042999744415283']\n",
      "\n",
      "\n",
      "Epoch 3: \n"
     ]
    },
    {
     "name": "stderr",
     "output_type": "stream",
     "text": [
      "100%|██████████████████████████████████████| 1875/1875 [00:15<00:00, 124.50it/s]\n"
     ]
    },
    {
     "name": "stdout",
     "output_type": "stream",
     "text": [
      "['Train loss: 0.2339385747909546', 'Train acc: 0.9076333045959473']\n",
      "['Test loss: 0.23269341886043549', 'Test acc: 0.9086999893188477']\n",
      "\n",
      "\n",
      "Epoch 4: \n"
     ]
    },
    {
     "name": "stderr",
     "output_type": "stream",
     "text": [
      "100%|██████████████████████████████████████| 1875/1875 [00:16<00:00, 112.38it/s]\n"
     ]
    },
    {
     "name": "stdout",
     "output_type": "stream",
     "text": [
      "['Train loss: 0.2245645970106125', 'Train acc: 0.9119666814804077']\n",
      "['Test loss: 0.22664710879325867', 'Test acc: 0.9103000164031982']\n",
      "\n",
      "\n",
      "Epoch 5: \n"
     ]
    },
    {
     "name": "stderr",
     "output_type": "stream",
     "text": [
      "100%|███████████████████████████████████████| 1875/1875 [00:20<00:00, 91.58it/s]\n"
     ]
    },
    {
     "name": "stdout",
     "output_type": "stream",
     "text": [
      "['Train loss: 0.2166905701160431', 'Train acc: 0.9154499769210815']\n",
      "['Test loss: 0.21865113079547882', 'Test acc: 0.913100004196167']\n",
      "\n",
      "\n",
      "Epoch 6: \n"
     ]
    },
    {
     "name": "stderr",
     "output_type": "stream",
     "text": [
      "100%|███████████████████████████████████████| 1875/1875 [00:20<00:00, 91.62it/s]\n"
     ]
    },
    {
     "name": "stdout",
     "output_type": "stream",
     "text": [
      "['Train loss: 0.20968574285507202', 'Train acc: 0.918833315372467']\n",
      "['Test loss: 0.2130112498998642', 'Test acc: 0.9157000184059143']\n",
      "\n",
      "\n",
      "Epoch 7: \n"
     ]
    },
    {
     "name": "stderr",
     "output_type": "stream",
     "text": [
      "100%|██████████████████████████████████████| 1875/1875 [00:12<00:00, 147.65it/s]\n"
     ]
    },
    {
     "name": "stdout",
     "output_type": "stream",
     "text": [
      "['Train loss: 0.2033815085887909', 'Train acc: 0.9212999939918518']\n",
      "['Test loss: 0.20618978142738342', 'Test acc: 0.9194999933242798']\n",
      "\n",
      "\n",
      "Epoch 8: \n"
     ]
    },
    {
     "name": "stderr",
     "output_type": "stream",
     "text": [
      "100%|███████████████████████████████████████| 1875/1875 [00:20<00:00, 91.63it/s]\n"
     ]
    },
    {
     "name": "stdout",
     "output_type": "stream",
     "text": [
      "['Train loss: 0.19747622311115265', 'Train acc: 0.9241333603858948']\n",
      "['Test loss: 0.19875819981098175', 'Test acc: 0.921500027179718']\n",
      "\n",
      "\n",
      "Epoch 9: \n"
     ]
    },
    {
     "name": "stderr",
     "output_type": "stream",
     "text": [
      "100%|███████████████████████████████████████| 1875/1875 [00:20<00:00, 91.59it/s]\n"
     ]
    },
    {
     "name": "stdout",
     "output_type": "stream",
     "text": [
      "['Train loss: 0.19175973534584045', 'Train acc: 0.9266166687011719']\n",
      "['Test loss: 0.1973743736743927', 'Test acc: 0.9230999946594238']\n",
      "\n",
      "\n",
      "Epoch 10: \n"
     ]
    },
    {
     "name": "stderr",
     "output_type": "stream",
     "text": [
      "100%|██████████████████████████████████████| 1875/1875 [00:15<00:00, 121.53it/s]\n"
     ]
    },
    {
     "name": "stdout",
     "output_type": "stream",
     "text": [
      "['Train loss: 0.18667402863502502', 'Train acc: 0.9287833571434021']\n",
      "['Test loss: 0.19548332691192627', 'Test acc: 0.9236999750137329']\n",
      "\n",
      "\n",
      "Epoch 11: \n"
     ]
    },
    {
     "name": "stderr",
     "output_type": "stream",
     "text": [
      "100%|███████████████████████████████████████| 1875/1875 [00:20<00:00, 91.63it/s]\n"
     ]
    },
    {
     "name": "stdout",
     "output_type": "stream",
     "text": [
      "['Train loss: 0.18177713453769684', 'Train acc: 0.9305166602134705']\n",
      "['Test loss: 0.1855638027191162', 'Test acc: 0.9269999861717224']\n",
      "\n",
      "\n",
      "Epoch 12: \n"
     ]
    },
    {
     "name": "stderr",
     "output_type": "stream",
     "text": [
      "100%|██████████████████████████████████████| 1875/1875 [00:17<00:00, 109.55it/s]\n"
     ]
    },
    {
     "name": "stdout",
     "output_type": "stream",
     "text": [
      "['Train loss: 0.17704160511493683', 'Train acc: 0.9324333071708679']\n",
      "['Test loss: 0.17979392409324646', 'Test acc: 0.9300000071525574']\n",
      "\n",
      "\n",
      "Epoch 13: \n"
     ]
    },
    {
     "name": "stderr",
     "output_type": "stream",
     "text": [
      "100%|███████████████████████████████████████| 1875/1875 [00:20<00:00, 91.62it/s]\n"
     ]
    },
    {
     "name": "stdout",
     "output_type": "stream",
     "text": [
      "['Train loss: 0.1727904975414276', 'Train acc: 0.9341166615486145']\n",
      "['Test loss: 0.17597731947898865', 'Test acc: 0.9296000003814697']\n",
      "\n",
      "\n",
      "Epoch 14: \n"
     ]
    },
    {
     "name": "stderr",
     "output_type": "stream",
     "text": [
      "100%|██████████████████████████████████████| 1875/1875 [00:15<00:00, 119.95it/s]\n"
     ]
    },
    {
     "name": "stdout",
     "output_type": "stream",
     "text": [
      "['Train loss: 0.16874559223651886', 'Train acc: 0.9360166788101196']\n",
      "['Test loss: 0.17128536105155945', 'Test acc: 0.9330000281333923']\n",
      "\n",
      "\n",
      "Task 1, optimizer=SGD, learning_rate=0.001, momentum=0.9\n",
      "\n",
      "Epoch 0: \n"
     ]
    },
    {
     "name": "stderr",
     "output_type": "stream",
     "text": [
      "100%|███████████████████████████████████████| 1875/1875 [00:28<00:00, 65.21it/s]\n"
     ]
    },
    {
     "name": "stdout",
     "output_type": "stream",
     "text": [
      "['Train loss: 0.24533620476722717', 'Train acc: 0.9012666940689087']\n",
      "['Test loss: 0.19317643344402313', 'Test acc: 0.9283000230789185']\n",
      "\n",
      "\n",
      "Epoch 1: \n"
     ]
    },
    {
     "name": "stderr",
     "output_type": "stream",
     "text": [
      "100%|███████████████████████████████████████| 1875/1875 [00:20<00:00, 91.62it/s]\n"
     ]
    },
    {
     "name": "stdout",
     "output_type": "stream",
     "text": [
      "['Train loss: 0.18167929351329803', 'Train acc: 0.9286999702453613']\n",
      "['Test loss: 0.17627084255218506', 'Test acc: 0.9287999868392944']\n",
      "\n",
      "\n",
      "Epoch 2: \n"
     ]
    },
    {
     "name": "stderr",
     "output_type": "stream",
     "text": [
      "100%|███████████████████████████████████████| 1875/1875 [00:19<00:00, 94.72it/s]\n"
     ]
    },
    {
     "name": "stdout",
     "output_type": "stream",
     "text": [
      "['Train loss: 0.15243694186210632', 'Train acc: 0.9407166838645935']\n",
      "['Test loss: 0.14634624123573303', 'Test acc: 0.9424999952316284']\n",
      "\n",
      "\n",
      "Epoch 3: \n"
     ]
    },
    {
     "name": "stderr",
     "output_type": "stream",
     "text": [
      "100%|███████████████████████████████████████| 1875/1875 [00:20<00:00, 91.62it/s]\n"
     ]
    },
    {
     "name": "stdout",
     "output_type": "stream",
     "text": [
      "['Train loss: 0.13397997617721558', 'Train acc: 0.947950005531311']\n",
      "['Test loss: 0.13225993514060974', 'Test acc: 0.9488000273704529']\n",
      "\n",
      "\n",
      "Epoch 4: \n"
     ]
    },
    {
     "name": "stderr",
     "output_type": "stream",
     "text": [
      "100%|██████████████████████████████████████| 1875/1875 [00:15<00:00, 119.93it/s]\n"
     ]
    },
    {
     "name": "stdout",
     "output_type": "stream",
     "text": [
      "['Train loss: 0.12053593248128891', 'Train acc: 0.9543499946594238']\n",
      "['Test loss: 0.1247917115688324', 'Test acc: 0.9513000249862671']\n",
      "\n",
      "\n",
      "Epoch 5: \n"
     ]
    },
    {
     "name": "stderr",
     "output_type": "stream",
     "text": [
      "100%|██████████████████████████████████████| 1875/1875 [00:16<00:00, 113.79it/s]\n"
     ]
    },
    {
     "name": "stdout",
     "output_type": "stream",
     "text": [
      "['Train loss: 0.10977338254451752', 'Train acc: 0.9592499732971191']\n",
      "['Test loss: 0.11613336205482483', 'Test acc: 0.9564999938011169']\n",
      "\n",
      "\n",
      "Epoch 6: \n"
     ]
    },
    {
     "name": "stderr",
     "output_type": "stream",
     "text": [
      "100%|██████████████████████████████████████| 1875/1875 [00:18<00:00, 101.83it/s]\n"
     ]
    },
    {
     "name": "stdout",
     "output_type": "stream",
     "text": [
      "['Train loss: 0.10205230116844177', 'Train acc: 0.9622499942779541']\n",
      "['Test loss: 0.12050889432430267', 'Test acc: 0.9531999826431274']\n",
      "\n",
      "\n",
      "Epoch 7: \n"
     ]
    },
    {
     "name": "stderr",
     "output_type": "stream",
     "text": [
      "100%|██████████████████████████████████████| 1875/1875 [00:18<00:00, 102.85it/s]\n"
     ]
    },
    {
     "name": "stdout",
     "output_type": "stream",
     "text": [
      "['Train loss: 0.09614457190036774', 'Train acc: 0.9646166563034058']\n",
      "['Test loss: 0.11158145219087601', 'Test acc: 0.9599999785423279']\n",
      "\n",
      "\n",
      "Epoch 8: \n"
     ]
    },
    {
     "name": "stderr",
     "output_type": "stream",
     "text": [
      "100%|███████████████████████████████████████| 1875/1875 [00:20<00:00, 91.63it/s]\n"
     ]
    },
    {
     "name": "stdout",
     "output_type": "stream",
     "text": [
      "['Train loss: 0.08969487994909286', 'Train acc: 0.9681833386421204']\n",
      "['Test loss: 0.10967118293046951', 'Test acc: 0.9602000117301941']\n",
      "\n",
      "\n",
      "Epoch 9: \n"
     ]
    },
    {
     "name": "stderr",
     "output_type": "stream",
     "text": [
      "100%|██████████████████████████████████████| 1875/1875 [00:13<00:00, 139.07it/s]\n"
     ]
    },
    {
     "name": "stdout",
     "output_type": "stream",
     "text": [
      "['Train loss: 0.08440852910280228', 'Train acc: 0.9699333310127258']\n",
      "['Test loss: 0.10735667496919632', 'Test acc: 0.9617999792098999']\n",
      "\n",
      "\n",
      "Epoch 10: \n"
     ]
    },
    {
     "name": "stderr",
     "output_type": "stream",
     "text": [
      "100%|██████████████████████████████████████| 1875/1875 [00:10<00:00, 171.22it/s]\n"
     ]
    },
    {
     "name": "stdout",
     "output_type": "stream",
     "text": [
      "['Train loss: 0.08064907044172287', 'Train acc: 0.9713500142097473']\n",
      "['Test loss: 0.11408864706754684', 'Test acc: 0.9563000202178955']\n",
      "\n",
      "\n",
      "Epoch 11: \n"
     ]
    },
    {
     "name": "stderr",
     "output_type": "stream",
     "text": [
      "100%|██████████████████████████████████████| 1875/1875 [00:14<00:00, 132.91it/s]\n"
     ]
    },
    {
     "name": "stdout",
     "output_type": "stream",
     "text": [
      "['Train loss: 0.07510930299758911', 'Train acc: 0.9741833209991455']\n",
      "['Test loss: 0.10037374496459961', 'Test acc: 0.965399980545044']\n",
      "\n",
      "\n",
      "Epoch 12: \n"
     ]
    },
    {
     "name": "stderr",
     "output_type": "stream",
     "text": [
      "100%|██████████████████████████████████████| 1875/1875 [00:11<00:00, 163.94it/s]\n"
     ]
    },
    {
     "name": "stdout",
     "output_type": "stream",
     "text": [
      "['Train loss: 0.07158251106739044', 'Train acc: 0.9751166701316833']\n",
      "['Test loss: 0.1016724705696106', 'Test acc: 0.9646000266075134']\n",
      "\n",
      "\n",
      "Epoch 13: \n"
     ]
    },
    {
     "name": "stderr",
     "output_type": "stream",
     "text": [
      "100%|██████████████████████████████████████| 1875/1875 [00:16<00:00, 111.54it/s]\n"
     ]
    },
    {
     "name": "stdout",
     "output_type": "stream",
     "text": [
      "['Train loss: 0.06920614093542099', 'Train acc: 0.9761999845504761']\n",
      "['Test loss: 0.10234148800373077', 'Test acc: 0.9648000001907349']\n",
      "\n",
      "\n",
      "Epoch 14: \n"
     ]
    },
    {
     "name": "stderr",
     "output_type": "stream",
     "text": [
      "100%|███████████████████████████████████████| 1875/1875 [00:20<00:00, 91.59it/s]\n"
     ]
    },
    {
     "name": "stdout",
     "output_type": "stream",
     "text": [
      "['Train loss: 0.06505545228719711', 'Train acc: 0.9781166911125183']\n",
      "['Test loss: 0.10672200471162796', 'Test acc: 0.9635000228881836']\n",
      "\n",
      "\n",
      "\n",
      "Task 1, optimizer=Adam, learning_rate=0.001\n",
      "\n",
      "Epoch 0: \n"
     ]
    },
    {
     "name": "stderr",
     "output_type": "stream",
     "text": [
      "100%|███████████████████████████████████████| 1875/1875 [00:28<00:00, 65.51it/s]\n"
     ]
    },
    {
     "name": "stdout",
     "output_type": "stream",
     "text": [
      "['Train loss: 0.17458529770374298', 'Train acc: 0.9314500093460083']\n",
      "['Test loss: 0.12217339128255844', 'Test acc: 0.957099974155426']\n",
      "\n",
      "\n",
      "Epoch 1: \n"
     ]
    },
    {
     "name": "stderr",
     "output_type": "stream",
     "text": [
      "100%|██████████████████████████████████████| 1875/1875 [00:15<00:00, 120.03it/s]\n"
     ]
    },
    {
     "name": "stdout",
     "output_type": "stream",
     "text": [
      "['Train loss: 0.11950504779815674', 'Train acc: 0.9560166597366333']\n",
      "['Test loss: 0.1059187650680542', 'Test acc: 0.9657999873161316']\n",
      "\n",
      "\n",
      "Epoch 2: \n"
     ]
    },
    {
     "name": "stderr",
     "output_type": "stream",
     "text": [
      "100%|███████████████████████████████████████| 1875/1875 [00:19<00:00, 96.55it/s]\n"
     ]
    },
    {
     "name": "stdout",
     "output_type": "stream",
     "text": [
      "['Train loss: 0.10044671595096588', 'Train acc: 0.9652833342552185']\n",
      "['Test loss: 0.10770153999328613', 'Test acc: 0.9613999724388123']\n",
      "\n",
      "\n",
      "Epoch 3: \n"
     ]
    },
    {
     "name": "stderr",
     "output_type": "stream",
     "text": [
      "100%|███████████████████████████████████████| 1875/1875 [00:20<00:00, 91.61it/s]\n"
     ]
    },
    {
     "name": "stdout",
     "output_type": "stream",
     "text": [
      "['Train loss: 0.09052485972642899', 'Train acc: 0.9700333476066589']\n",
      "['Test loss: 0.09707823395729065', 'Test acc: 0.9725000262260437']\n",
      "\n",
      "\n",
      "Epoch 4: \n"
     ]
    },
    {
     "name": "stderr",
     "output_type": "stream",
     "text": [
      "100%|███████████████████████████████████████| 1875/1875 [00:20<00:00, 91.63it/s]\n"
     ]
    },
    {
     "name": "stdout",
     "output_type": "stream",
     "text": [
      "['Train loss: 0.08277295529842377', 'Train acc: 0.9735999703407288']\n",
      "['Test loss: 0.09399820119142532', 'Test acc: 0.9736999869346619']\n",
      "\n",
      "\n",
      "Epoch 5: \n"
     ]
    },
    {
     "name": "stderr",
     "output_type": "stream",
     "text": [
      "100%|██████████████████████████████████████| 1875/1875 [00:15<00:00, 124.43it/s]\n"
     ]
    },
    {
     "name": "stdout",
     "output_type": "stream",
     "text": [
      "['Train loss: 0.07632298767566681', 'Train acc: 0.9756666421890259']\n",
      "['Test loss: 0.09507352858781815', 'Test acc: 0.9757999777793884']\n",
      "\n",
      "\n",
      "Epoch 6: \n"
     ]
    },
    {
     "name": "stderr",
     "output_type": "stream",
     "text": [
      "100%|███████████████████████████████████████| 1875/1875 [00:40<00:00, 45.79it/s]\n"
     ]
    },
    {
     "name": "stdout",
     "output_type": "stream",
     "text": [
      "['Train loss: 0.07185089588165283', 'Train acc: 0.977816641330719']\n",
      "['Test loss: 0.09300774335861206', 'Test acc: 0.9760000109672546']\n",
      "\n",
      "\n",
      "Epoch 7: \n"
     ]
    },
    {
     "name": "stderr",
     "output_type": "stream",
     "text": [
      "100%|███████████████████████████████████████| 1875/1875 [00:40<00:00, 45.79it/s]\n"
     ]
    },
    {
     "name": "stdout",
     "output_type": "stream",
     "text": [
      "['Train loss: 0.06668393313884735', 'Train acc: 0.9799000024795532']\n",
      "['Test loss: 0.10249598324298859', 'Test acc: 0.9763000011444092']\n",
      "\n",
      "\n",
      "Epoch 8: \n"
     ]
    },
    {
     "name": "stderr",
     "output_type": "stream",
     "text": [
      "100%|███████████████████████████████████████| 1875/1875 [00:20<00:00, 91.61it/s]\n"
     ]
    },
    {
     "name": "stdout",
     "output_type": "stream",
     "text": [
      "['Train loss: 0.06319011002779007', 'Train acc: 0.9815000295639038']\n",
      "['Test loss: 0.11393149197101593', 'Test acc: 0.9733999967575073']\n",
      "\n",
      "\n",
      "Epoch 9: \n"
     ]
    },
    {
     "name": "stderr",
     "output_type": "stream",
     "text": [
      "100%|██████████████████████████████████████| 1875/1875 [00:15<00:00, 118.59it/s]\n"
     ]
    },
    {
     "name": "stdout",
     "output_type": "stream",
     "text": [
      "['Train loss: 0.05881164222955704', 'Train acc: 0.9829166531562805']\n",
      "['Test loss: 0.10005193948745728', 'Test acc: 0.9753000140190125']\n",
      "\n",
      "\n",
      "Epoch 10: \n"
     ]
    },
    {
     "name": "stderr",
     "output_type": "stream",
     "text": [
      "100%|██████████████████████████████████████| 1875/1875 [00:17<00:00, 109.64it/s]\n"
     ]
    },
    {
     "name": "stdout",
     "output_type": "stream",
     "text": [
      "['Train loss: 0.05662113428115845', 'Train acc: 0.9833499789237976']\n",
      "['Test loss: 0.11404437571763992', 'Test acc: 0.9728999733924866']\n",
      "\n",
      "\n",
      "Epoch 11: \n"
     ]
    },
    {
     "name": "stderr",
     "output_type": "stream",
     "text": [
      "100%|██████████████████████████████████████| 1875/1875 [00:17<00:00, 107.13it/s]\n"
     ]
    },
    {
     "name": "stdout",
     "output_type": "stream",
     "text": [
      "['Train loss: 0.05281124264001846', 'Train acc: 0.9850666522979736']\n",
      "['Test loss: 0.10450100898742676', 'Test acc: 0.9781000018119812']\n",
      "\n",
      "\n",
      "Epoch 12: \n"
     ]
    },
    {
     "name": "stderr",
     "output_type": "stream",
     "text": [
      "100%|██████████████████████████████████████| 1875/1875 [00:13<00:00, 141.34it/s]\n"
     ]
    },
    {
     "name": "stdout",
     "output_type": "stream",
     "text": [
      "['Train loss: 0.05102371796965599', 'Train acc: 0.9856500029563904']\n",
      "['Test loss: 0.10363858193159103', 'Test acc: 0.9753999710083008']\n",
      "\n",
      "\n",
      "Epoch 13: \n"
     ]
    },
    {
     "name": "stderr",
     "output_type": "stream",
     "text": [
      "100%|███████████████████████████████████████| 1875/1875 [00:19<00:00, 96.11it/s]\n"
     ]
    },
    {
     "name": "stdout",
     "output_type": "stream",
     "text": [
      "['Train loss: 0.04722858965396881', 'Train acc: 0.9871666431427002']\n",
      "['Test loss: 0.09751385450363159', 'Test acc: 0.9789999723434448']\n",
      "\n",
      "\n",
      "Epoch 14: \n"
     ]
    },
    {
     "name": "stderr",
     "output_type": "stream",
     "text": [
      "100%|██████████████████████████████████████| 1875/1875 [00:15<00:00, 122.76it/s]\n"
     ]
    },
    {
     "name": "stdout",
     "output_type": "stream",
     "text": [
      "['Train loss: 0.04583503305912018', 'Train acc: 0.9870833158493042']\n",
      "['Test loss: 0.101227767765522', 'Test acc: 0.9768000245094299']\n",
      "\n",
      "\n",
      "Task 1, optimizer=RMSprop, learning_rate=0.001\n",
      "\n",
      "Epoch 0: \n"
     ]
    },
    {
     "name": "stderr",
     "output_type": "stream",
     "text": [
      "100%|███████████████████████████████████████| 1875/1875 [00:31<00:00, 58.97it/s]\n"
     ]
    },
    {
     "name": "stdout",
     "output_type": "stream",
     "text": [
      "['Train loss: 0.18862861394882202', 'Train acc: 0.9272666573524475']\n",
      "['Test loss: 0.1317289173603058', 'Test acc: 0.9527999758720398']\n",
      "\n",
      "\n",
      "Epoch 1: \n"
     ]
    },
    {
     "name": "stderr",
     "output_type": "stream",
     "text": [
      "100%|███████████████████████████████████████| 1875/1875 [00:19<00:00, 98.06it/s]\n"
     ]
    },
    {
     "name": "stdout",
     "output_type": "stream",
     "text": [
      "['Train loss: 0.13119342923164368', 'Train acc: 0.9525833129882812']\n",
      "['Test loss: 0.11956162005662918', 'Test acc: 0.9592000246047974']\n",
      "\n",
      "\n",
      "Epoch 2: \n"
     ]
    },
    {
     "name": "stderr",
     "output_type": "stream",
     "text": [
      "100%|███████████████████████████████████████| 1875/1875 [00:26<00:00, 70.24it/s]\n"
     ]
    },
    {
     "name": "stdout",
     "output_type": "stream",
     "text": [
      "['Train loss: 0.11720570176839828', 'Train acc: 0.9597499966621399']\n",
      "['Test loss: 0.1273050457239151', 'Test acc: 0.9592000246047974']\n",
      "\n",
      "\n",
      "Epoch 3: \n"
     ]
    },
    {
     "name": "stderr",
     "output_type": "stream",
     "text": [
      "100%|███████████████████████████████████████| 1875/1875 [00:24<00:00, 75.04it/s]\n"
     ]
    },
    {
     "name": "stdout",
     "output_type": "stream",
     "text": [
      "['Train loss: 0.10839095711708069', 'Train acc: 0.9649333357810974']\n",
      "['Test loss: 0.1136430874466896', 'Test acc: 0.9628999829292297']\n",
      "\n",
      "\n",
      "Epoch 4: \n"
     ]
    },
    {
     "name": "stderr",
     "output_type": "stream",
     "text": [
      "100%|███████████████████████████████████████| 1875/1875 [00:40<00:00, 45.79it/s]\n"
     ]
    },
    {
     "name": "stdout",
     "output_type": "stream",
     "text": [
      "['Train loss: 0.09958631545305252', 'Train acc: 0.9683166742324829']\n",
      "['Test loss: 0.14990365505218506', 'Test acc: 0.9524999856948853']\n",
      "\n",
      "\n",
      "Epoch 5: \n"
     ]
    },
    {
     "name": "stderr",
     "output_type": "stream",
     "text": [
      "100%|███████████████████████████████████████| 1875/1875 [00:19<00:00, 98.16it/s]\n"
     ]
    },
    {
     "name": "stdout",
     "output_type": "stream",
     "text": [
      "['Train loss: 0.09774336963891983', 'Train acc: 0.9696999788284302']\n",
      "['Test loss: 0.12379541993141174', 'Test acc: 0.96670001745224']\n",
      "\n",
      "\n",
      "Epoch 6: \n"
     ]
    },
    {
     "name": "stderr",
     "output_type": "stream",
     "text": [
      "100%|██████████████████████████████████████| 1875/1875 [00:18<00:00, 103.98it/s]\n"
     ]
    },
    {
     "name": "stdout",
     "output_type": "stream",
     "text": [
      "['Train loss: 0.09276427328586578', 'Train acc: 0.9715999960899353']\n",
      "['Test loss: 0.12278106808662415', 'Test acc: 0.968999981880188']\n",
      "\n",
      "\n",
      "Epoch 7: \n"
     ]
    },
    {
     "name": "stderr",
     "output_type": "stream",
     "text": [
      "100%|███████████████████████████████████████| 1875/1875 [00:23<00:00, 80.92it/s]\n"
     ]
    },
    {
     "name": "stdout",
     "output_type": "stream",
     "text": [
      "['Train loss: 0.08952783793210983', 'Train acc: 0.9743666648864746']\n",
      "['Test loss: 0.14113445580005646', 'Test acc: 0.9666000008583069']\n",
      "\n",
      "\n",
      "Epoch 8: \n"
     ]
    },
    {
     "name": "stderr",
     "output_type": "stream",
     "text": [
      "100%|███████████████████████████████████████| 1875/1875 [00:23<00:00, 78.76it/s]\n"
     ]
    },
    {
     "name": "stdout",
     "output_type": "stream",
     "text": [
      "['Train loss: 0.08355086296796799', 'Train acc: 0.9756333231925964']\n",
      "['Test loss: 0.17182861268520355', 'Test acc: 0.9659000039100647']\n",
      "\n",
      "\n",
      "Epoch 9: \n"
     ]
    },
    {
     "name": "stderr",
     "output_type": "stream",
     "text": [
      "100%|███████████████████████████████████████| 1875/1875 [00:20<00:00, 89.68it/s]\n"
     ]
    },
    {
     "name": "stdout",
     "output_type": "stream",
     "text": [
      "['Train loss: 0.08468057215213776', 'Train acc: 0.9762166738510132']\n",
      "['Test loss: 0.13465739786624908', 'Test acc: 0.9725000262260437']\n",
      "\n",
      "\n",
      "Epoch 10: \n"
     ]
    },
    {
     "name": "stderr",
     "output_type": "stream",
     "text": [
      "100%|███████████████████████████████████████| 1875/1875 [00:23<00:00, 79.33it/s]\n"
     ]
    },
    {
     "name": "stdout",
     "output_type": "stream",
     "text": [
      "['Train loss: 0.08351831883192062', 'Train acc: 0.977233350276947']\n",
      "['Test loss: 0.1705091893672943', 'Test acc: 0.9695000052452087']\n",
      "\n",
      "\n",
      "Epoch 11: \n"
     ]
    },
    {
     "name": "stderr",
     "output_type": "stream",
     "text": [
      "100%|███████████████████████████████████████| 1875/1875 [00:20<00:00, 91.63it/s]\n"
     ]
    },
    {
     "name": "stdout",
     "output_type": "stream",
     "text": [
      "['Train loss: 0.080437071621418', 'Train acc: 0.9786499738693237']\n",
      "['Test loss: 0.19021598994731903', 'Test acc: 0.9689000248908997']\n",
      "\n",
      "\n",
      "Epoch 12: \n"
     ]
    },
    {
     "name": "stderr",
     "output_type": "stream",
     "text": [
      "100%|███████████████████████████████████████| 1875/1875 [00:22<00:00, 83.56it/s]\n"
     ]
    },
    {
     "name": "stdout",
     "output_type": "stream",
     "text": [
      "['Train loss: 0.07567144930362701', 'Train acc: 0.9793999791145325']\n",
      "['Test loss: 0.13786211609840393', 'Test acc: 0.9700999855995178']\n",
      "\n",
      "\n",
      "Epoch 13: \n"
     ]
    },
    {
     "name": "stderr",
     "output_type": "stream",
     "text": [
      "100%|███████████████████████████████████████| 1875/1875 [00:21<00:00, 87.83it/s]\n"
     ]
    },
    {
     "name": "stdout",
     "output_type": "stream",
     "text": [
      "['Train loss: 0.07453705370426178', 'Train acc: 0.9809333086013794']\n",
      "['Test loss: 0.1804521530866623', 'Test acc: 0.96670001745224']\n",
      "\n",
      "\n",
      "Epoch 14: \n"
     ]
    },
    {
     "name": "stderr",
     "output_type": "stream",
     "text": [
      "100%|███████████████████████████████████████| 1875/1875 [00:22<00:00, 82.57it/s]\n"
     ]
    },
    {
     "name": "stdout",
     "output_type": "stream",
     "text": [
      "['Train loss: 0.07261023670434952', 'Train acc: 0.9818333387374878']\n",
      "['Test loss: 0.2352171391248703', 'Test acc: 0.9646999835968018']\n",
      "\n",
      "\n",
      "Task 1, optimizer=Adagrad, learning_rate=0.001\n",
      "\n",
      "Epoch 0: \n"
     ]
    },
    {
     "name": "stderr",
     "output_type": "stream",
     "text": [
      "100%|███████████████████████████████████████| 1875/1875 [00:27<00:00, 67.84it/s]\n"
     ]
    },
    {
     "name": "stdout",
     "output_type": "stream",
     "text": [
      "['Train loss: 0.2961379587650299', 'Train acc: 0.8786500096321106']\n",
      "['Test loss: 0.24163277447223663', 'Test acc: 0.9049000144004822']\n",
      "\n",
      "\n",
      "Epoch 1: \n"
     ]
    },
    {
     "name": "stderr",
     "output_type": "stream",
     "text": [
      "100%|██████████████████████████████████████| 1875/1875 [00:13<00:00, 137.69it/s]\n"
     ]
    },
    {
     "name": "stdout",
     "output_type": "stream",
     "text": [
      "['Train loss: 0.2348950207233429', 'Train acc: 0.9094333052635193']\n",
      "['Test loss: 0.21881970763206482', 'Test acc: 0.9172999858856201']\n",
      "\n",
      "\n",
      "Epoch 2: \n"
     ]
    },
    {
     "name": "stderr",
     "output_type": "stream",
     "text": [
      "100%|██████████████████████████████████████| 1875/1875 [00:16<00:00, 115.28it/s]\n"
     ]
    },
    {
     "name": "stdout",
     "output_type": "stream",
     "text": [
      "['Train loss: 0.21804004907608032', 'Train acc: 0.9167666435241699']\n",
      "['Test loss: 0.2075093686580658', 'Test acc: 0.9203000068664551']\n",
      "\n",
      "\n",
      "Epoch 3: \n"
     ]
    },
    {
     "name": "stderr",
     "output_type": "stream",
     "text": [
      "100%|██████████████████████████████████████| 1875/1875 [00:16<00:00, 115.01it/s]\n"
     ]
    },
    {
     "name": "stdout",
     "output_type": "stream",
     "text": [
      "['Train loss: 0.20653408765792847', 'Train acc: 0.921500027179718']\n",
      "['Test loss: 0.19648593664169312', 'Test acc: 0.9251999855041504']\n",
      "\n",
      "\n",
      "Epoch 4: \n"
     ]
    },
    {
     "name": "stderr",
     "output_type": "stream",
     "text": [
      "100%|███████████████████████████████████████| 1875/1875 [00:18<00:00, 99.03it/s]\n"
     ]
    },
    {
     "name": "stdout",
     "output_type": "stream",
     "text": [
      "['Train loss: 0.1973148137331009', 'Train acc: 0.9252833127975464']\n",
      "['Test loss: 0.18770888447761536', 'Test acc: 0.9304999709129333']\n",
      "\n",
      "\n",
      "Epoch 5: \n"
     ]
    },
    {
     "name": "stderr",
     "output_type": "stream",
     "text": [
      "100%|██████████████████████████████████████| 1875/1875 [00:15<00:00, 120.20it/s]\n"
     ]
    },
    {
     "name": "stdout",
     "output_type": "stream",
     "text": [
      "['Train loss: 0.1894562989473343', 'Train acc: 0.9284999966621399']\n",
      "['Test loss: 0.1811448335647583', 'Test acc: 0.9344000220298767']\n",
      "\n",
      "\n",
      "Epoch 6: \n"
     ]
    },
    {
     "name": "stderr",
     "output_type": "stream",
     "text": [
      "100%|██████████████████████████████████████| 1875/1875 [00:13<00:00, 136.40it/s]\n"
     ]
    },
    {
     "name": "stdout",
     "output_type": "stream",
     "text": [
      "['Train loss: 0.1826305389404297', 'Train acc: 0.9305999875068665']\n",
      "['Test loss: 0.1755077838897705', 'Test acc: 0.9366999864578247']\n",
      "\n",
      "\n",
      "Epoch 7: \n"
     ]
    },
    {
     "name": "stderr",
     "output_type": "stream",
     "text": [
      "100%|███████████████████████████████████████| 1875/1875 [00:21<00:00, 89.21it/s]\n"
     ]
    },
    {
     "name": "stdout",
     "output_type": "stream",
     "text": [
      "['Train loss: 0.1767473816871643', 'Train acc: 0.9330499768257141']\n",
      "['Test loss: 0.1700734943151474', 'Test acc: 0.9369999766349792']\n",
      "\n",
      "\n",
      "Epoch 8: \n"
     ]
    },
    {
     "name": "stderr",
     "output_type": "stream",
     "text": [
      "100%|██████████████████████████████████████| 1875/1875 [00:17<00:00, 106.94it/s]\n"
     ]
    },
    {
     "name": "stdout",
     "output_type": "stream",
     "text": [
      "['Train loss: 0.17127850651741028', 'Train acc: 0.9348666667938232']\n",
      "['Test loss: 0.16586776077747345', 'Test acc: 0.9387999773025513']\n",
      "\n",
      "\n",
      "Epoch 9: \n"
     ]
    },
    {
     "name": "stderr",
     "output_type": "stream",
     "text": [
      "100%|███████████████████████████████████████| 1875/1875 [00:20<00:00, 91.63it/s]\n"
     ]
    },
    {
     "name": "stdout",
     "output_type": "stream",
     "text": [
      "['Train loss: 0.16645416617393494', 'Train acc: 0.9366499781608582']\n",
      "['Test loss: 0.1617792397737503', 'Test acc: 0.9401000142097473']\n",
      "\n",
      "\n",
      "Epoch 10: \n"
     ]
    },
    {
     "name": "stderr",
     "output_type": "stream",
     "text": [
      "100%|██████████████████████████████████████| 1875/1875 [00:14<00:00, 133.86it/s]\n"
     ]
    },
    {
     "name": "stdout",
     "output_type": "stream",
     "text": [
      "['Train loss: 0.16224083304405212', 'Train acc: 0.9381999969482422']\n",
      "['Test loss: 0.15823568403720856', 'Test acc: 0.9401999711990356']\n",
      "\n",
      "\n",
      "Epoch 11: \n"
     ]
    },
    {
     "name": "stderr",
     "output_type": "stream",
     "text": [
      "100%|██████████████████████████████████████| 1875/1875 [00:17<00:00, 106.90it/s]\n"
     ]
    },
    {
     "name": "stdout",
     "output_type": "stream",
     "text": [
      "['Train loss: 0.1583295613527298', 'Train acc: 0.9394500255584717']\n",
      "['Test loss: 0.15457913279533386', 'Test acc: 0.9412999749183655']\n",
      "\n",
      "\n",
      "Epoch 12: \n"
     ]
    },
    {
     "name": "stderr",
     "output_type": "stream",
     "text": [
      "100%|██████████████████████████████████████| 1875/1875 [00:14<00:00, 125.62it/s]\n"
     ]
    },
    {
     "name": "stdout",
     "output_type": "stream",
     "text": [
      "['Train loss: 0.15468282997608185', 'Train acc: 0.9413666725158691']\n",
      "['Test loss: 0.1518036425113678', 'Test acc: 0.9416000247001648']\n",
      "\n",
      "\n",
      "Epoch 13: \n"
     ]
    },
    {
     "name": "stderr",
     "output_type": "stream",
     "text": [
      "100%|███████████████████████████████████████| 1875/1875 [00:20<00:00, 91.62it/s]\n"
     ]
    },
    {
     "name": "stdout",
     "output_type": "stream",
     "text": [
      "['Train loss: 0.15138961374759674', 'Train acc: 0.9422833323478699']\n",
      "['Test loss: 0.14893004298210144', 'Test acc: 0.9427000284194946']\n",
      "\n",
      "\n",
      "Epoch 14: \n"
     ]
    },
    {
     "name": "stderr",
     "output_type": "stream",
     "text": [
      "100%|██████████████████████████████████████| 1875/1875 [00:18<00:00, 102.59it/s]\n"
     ]
    },
    {
     "name": "stdout",
     "output_type": "stream",
     "text": [
      "['Train loss: 0.14841867983341217', 'Train acc: 0.9439333081245422']\n",
      "['Test loss: 0.14704066514968872', 'Test acc: 0.9437000155448914']\n",
      "\n",
      "\n"
     ]
    }
   ],
   "source": [
    "print(\"Task 1, optimizer=SGD, learning_rate=0.001\\n\")\n",
    "run(1,tf.keras.optimizers.SGD(learning_rate=0.001))\n",
    "print(\"Task 1, optimizer=SGD, learning_rate=0.001, momentum=0.9\\n\")\n",
    "run(1,tf.keras.optimizers.SGD(learning_rate=0.001, momentum=0.9))\n",
    "print(\"\\nTask 1, optimizer=Adam, learning_rate=0.001\\n\")\n",
    "run(1)\n",
    "print(\"Task 1, optimizer=RMSprop, learning_rate=0.001\\n\")\n",
    "run(1,tf.keras.optimizers.RMSprop(learning_rate=0.001))\n",
    "print(\"Task 1, optimizer=Adagrad, learning_rate=0.001\\n\")\n",
    "run(1,tf.keras.optimizers.Adagrad(learning_rate=0.001))"
   ]
  },
  {
   "cell_type": "code",
   "execution_count": 10,
   "metadata": {},
   "outputs": [
    {
     "name": "stdout",
     "output_type": "stream",
     "text": [
      "Task 2, optimizer=SGD, learning_rate=0.001\n",
      "\n",
      "Epoch 0: \n"
     ]
    },
    {
     "name": "stderr",
     "output_type": "stream",
     "text": [
      "100%|███████████████████████████████████████| 1875/1875 [00:23<00:00, 79.97it/s]\n"
     ]
    },
    {
     "name": "stdout",
     "output_type": "stream",
     "text": [
      "['Train loss: 4.486209392547607', 'Train MAD: 1.6087172031402588']\n",
      "['Test loss: 2.725328207015991', 'Test MAD: 1.2292664051055908']\n",
      "\n",
      "\n",
      "Epoch 1: \n"
     ]
    },
    {
     "name": "stderr",
     "output_type": "stream",
     "text": [
      "100%|██████████████████████████████████████| 1875/1875 [00:15<00:00, 118.84it/s]\n"
     ]
    },
    {
     "name": "stdout",
     "output_type": "stream",
     "text": [
      "['Train loss: 2.3490078449249268', 'Train MAD: 1.1410865783691406']\n",
      "['Test loss: 2.13855242729187', 'Test MAD: 1.0633130073547363']\n",
      "\n",
      "\n",
      "Epoch 2: \n"
     ]
    },
    {
     "name": "stderr",
     "output_type": "stream",
     "text": [
      "100%|██████████████████████████████████████| 1875/1875 [00:13<00:00, 135.68it/s]\n"
     ]
    },
    {
     "name": "stdout",
     "output_type": "stream",
     "text": [
      "['Train loss: 1.8841944932937622', 'Train MAD: 1.0058461427688599']\n",
      "['Test loss: 1.9210882186889648', 'Test MAD: 1.004642128944397']\n",
      "\n",
      "\n",
      "Epoch 3: \n"
     ]
    },
    {
     "name": "stderr",
     "output_type": "stream",
     "text": [
      "100%|██████████████████████████████████████| 1875/1875 [00:16<00:00, 117.18it/s]\n"
     ]
    },
    {
     "name": "stdout",
     "output_type": "stream",
     "text": [
      "['Train loss: 1.622949481010437', 'Train MAD: 0.9249054193496704']\n",
      "['Test loss: 1.7402665615081787', 'Test MAD: 0.9420496821403503']\n",
      "\n",
      "\n",
      "Epoch 4: \n"
     ]
    },
    {
     "name": "stderr",
     "output_type": "stream",
     "text": [
      "100%|███████████████████████████████████████| 1875/1875 [00:20<00:00, 91.63it/s]\n"
     ]
    },
    {
     "name": "stdout",
     "output_type": "stream",
     "text": [
      "['Train loss: 1.4445714950561523', 'Train MAD: 0.8698920011520386']\n",
      "['Test loss: 1.6361894607543945', 'Test MAD: 0.9097825288772583']\n",
      "\n",
      "\n",
      "Epoch 5: \n"
     ]
    },
    {
     "name": "stderr",
     "output_type": "stream",
     "text": [
      "100%|██████████████████████████████████████| 1875/1875 [00:16<00:00, 116.50it/s]\n"
     ]
    },
    {
     "name": "stdout",
     "output_type": "stream",
     "text": [
      "['Train loss: 1.310232162475586', 'Train MAD: 0.823521614074707']\n",
      "['Test loss: 1.5307550430297852', 'Test MAD: 0.8652400374412537']\n",
      "\n",
      "\n",
      "Epoch 6: \n"
     ]
    },
    {
     "name": "stderr",
     "output_type": "stream",
     "text": [
      "100%|███████████████████████████████████████| 1875/1875 [00:20<00:00, 91.63it/s]\n"
     ]
    },
    {
     "name": "stdout",
     "output_type": "stream",
     "text": [
      "['Train loss: 1.2009929418563843', 'Train MAD: 0.7857738137245178']\n",
      "['Test loss: 1.4773733615875244', 'Test MAD: 0.8573552966117859']\n",
      "\n",
      "\n",
      "Epoch 7: \n"
     ]
    },
    {
     "name": "stderr",
     "output_type": "stream",
     "text": [
      "100%|██████████████████████████████████████| 1875/1875 [00:12<00:00, 150.17it/s]\n"
     ]
    },
    {
     "name": "stdout",
     "output_type": "stream",
     "text": [
      "['Train loss: 1.1130743026733398', 'Train MAD: 0.7550832629203796']\n",
      "['Test loss: 1.4109728336334229', 'Test MAD: 0.8247260451316833']\n",
      "\n",
      "\n",
      "Epoch 8: \n"
     ]
    },
    {
     "name": "stderr",
     "output_type": "stream",
     "text": [
      "100%|███████████████████████████████████████| 1875/1875 [00:20<00:00, 91.59it/s]\n"
     ]
    },
    {
     "name": "stdout",
     "output_type": "stream",
     "text": [
      "['Train loss: 1.0332753658294678', 'Train MAD: 0.7268390655517578']\n",
      "['Test loss: 1.361305832862854', 'Test MAD: 0.8050827383995056']\n",
      "\n",
      "\n",
      "Epoch 9: \n"
     ]
    },
    {
     "name": "stderr",
     "output_type": "stream",
     "text": [
      "100%|███████████████████████████████████████| 1875/1875 [00:20<00:00, 91.62it/s]\n"
     ]
    },
    {
     "name": "stdout",
     "output_type": "stream",
     "text": [
      "['Train loss: 0.9655813574790955', 'Train MAD: 0.7018285989761353']\n",
      "['Test loss: 1.3274216651916504', 'Test MAD: 0.8009090423583984']\n",
      "\n",
      "\n",
      "Epoch 10: \n"
     ]
    },
    {
     "name": "stderr",
     "output_type": "stream",
     "text": [
      "100%|██████████████████████████████████████| 1875/1875 [00:14<00:00, 126.46it/s]\n"
     ]
    },
    {
     "name": "stdout",
     "output_type": "stream",
     "text": [
      "['Train loss: 0.906559944152832', 'Train MAD: 0.6794396042823792']\n",
      "['Test loss: 1.376171350479126', 'Test MAD: 0.8161876797676086']\n",
      "\n",
      "\n",
      "Epoch 11: \n"
     ]
    },
    {
     "name": "stderr",
     "output_type": "stream",
     "text": [
      "100%|██████████████████████████████████████| 1875/1875 [00:14<00:00, 132.44it/s]\n"
     ]
    },
    {
     "name": "stdout",
     "output_type": "stream",
     "text": [
      "['Train loss: 0.8536111116409302', 'Train MAD: 0.6586565971374512']\n",
      "['Test loss: 1.2690988779067993', 'Test MAD: 0.7684646248817444']\n",
      "\n",
      "\n",
      "Epoch 12: \n"
     ]
    },
    {
     "name": "stderr",
     "output_type": "stream",
     "text": [
      "100%|██████████████████████████████████████| 1875/1875 [00:12<00:00, 151.43it/s]\n"
     ]
    },
    {
     "name": "stdout",
     "output_type": "stream",
     "text": [
      "['Train loss: 0.8067424893379211', 'Train MAD: 0.6398575305938721']\n",
      "['Test loss: 1.2814770936965942', 'Test MAD: 0.779398500919342']\n",
      "\n",
      "\n",
      "Epoch 13: \n"
     ]
    },
    {
     "name": "stderr",
     "output_type": "stream",
     "text": [
      "100%|██████████████████████████████████████| 1875/1875 [00:17<00:00, 106.72it/s]\n"
     ]
    },
    {
     "name": "stdout",
     "output_type": "stream",
     "text": [
      "['Train loss: 0.7640622854232788', 'Train MAD: 0.6247249245643616']\n",
      "['Test loss: 1.2467328310012817', 'Test MAD: 0.7709354162216187']\n",
      "\n",
      "\n",
      "Epoch 14: \n"
     ]
    },
    {
     "name": "stderr",
     "output_type": "stream",
     "text": [
      "100%|███████████████████████████████████████| 1875/1875 [00:20<00:00, 91.59it/s]\n"
     ]
    },
    {
     "name": "stdout",
     "output_type": "stream",
     "text": [
      "['Train loss: 0.7237821817398071', 'Train MAD: 0.6067816019058228']\n",
      "['Test loss: 1.202867865562439', 'Test MAD: 0.7415007948875427']\n",
      "\n",
      "\n",
      "Task 2, optimizer=SGD, learning_rate=0.001, momentum=0.9\n",
      "\n",
      "Epoch 0: \n"
     ]
    },
    {
     "name": "stderr",
     "output_type": "stream",
     "text": [
      "100%|███████████████████████████████████████| 1875/1875 [00:28<00:00, 66.95it/s]\n"
     ]
    },
    {
     "name": "stdout",
     "output_type": "stream",
     "text": [
      "['Train loss: 2.909616708755493', 'Train MAD: 1.2369496822357178']\n",
      "['Test loss: 1.8724277019500732', 'Test MAD: 0.9499576091766357']\n",
      "\n",
      "\n",
      "Epoch 1: \n"
     ]
    },
    {
     "name": "stderr",
     "output_type": "stream",
     "text": [
      "100%|██████████████████████████████████████| 1875/1875 [00:15<00:00, 121.29it/s]\n"
     ]
    },
    {
     "name": "stdout",
     "output_type": "stream",
     "text": [
      "['Train loss: 1.420534372329712', 'Train MAD: 0.8195951581001282']\n",
      "['Test loss: 1.4077210426330566', 'Test MAD: 0.7714724540710449']\n",
      "\n",
      "\n",
      "Epoch 2: \n"
     ]
    },
    {
     "name": "stderr",
     "output_type": "stream",
     "text": [
      "100%|███████████████████████████████████████| 1875/1875 [00:20<00:00, 91.62it/s]\n"
     ]
    },
    {
     "name": "stdout",
     "output_type": "stream",
     "text": [
      "['Train loss: 1.0592796802520752', 'Train MAD: 0.6899653077125549']\n",
      "['Test loss: 1.15609872341156', 'Test MAD: 0.6665223240852356']\n",
      "\n",
      "\n",
      "Epoch 3: \n"
     ]
    },
    {
     "name": "stderr",
     "output_type": "stream",
     "text": [
      "100%|██████████████████████████████████████| 1875/1875 [00:16<00:00, 114.13it/s]\n"
     ]
    },
    {
     "name": "stdout",
     "output_type": "stream",
     "text": [
      "['Train loss: 0.8615031838417053', 'Train MAD: 0.6148244142532349']\n",
      "['Test loss: 1.120123267173767', 'Test MAD: 0.6598111987113953']\n",
      "\n",
      "\n",
      "Epoch 4: \n"
     ]
    },
    {
     "name": "stderr",
     "output_type": "stream",
     "text": [
      "100%|██████████████████████████████████████| 1875/1875 [00:14<00:00, 125.72it/s]\n"
     ]
    },
    {
     "name": "stdout",
     "output_type": "stream",
     "text": [
      "['Train loss: 0.7358494997024536', 'Train MAD: 0.5657538175582886']\n",
      "['Test loss: 0.9501447081565857', 'Test MAD: 0.5871942043304443']\n",
      "\n",
      "\n",
      "Epoch 5: \n"
     ]
    },
    {
     "name": "stderr",
     "output_type": "stream",
     "text": [
      "100%|███████████████████████████████████████| 1875/1875 [00:20<00:00, 91.60it/s]\n"
     ]
    },
    {
     "name": "stdout",
     "output_type": "stream",
     "text": [
      "['Train loss: 0.6234655976295471', 'Train MAD: 0.5178842544555664']\n",
      "['Test loss: 0.9364523887634277', 'Test MAD: 0.5747091174125671']\n",
      "\n",
      "\n",
      "Epoch 6: \n"
     ]
    },
    {
     "name": "stderr",
     "output_type": "stream",
     "text": [
      "100%|██████████████████████████████████████| 1875/1875 [00:16<00:00, 111.08it/s]\n"
     ]
    },
    {
     "name": "stdout",
     "output_type": "stream",
     "text": [
      "['Train loss: 0.5368101596832275', 'Train MAD: 0.4797614514827728']\n",
      "['Test loss: 0.9620711207389832', 'Test MAD: 0.5792427062988281']\n",
      "\n",
      "\n",
      "Epoch 7: \n"
     ]
    },
    {
     "name": "stderr",
     "output_type": "stream",
     "text": [
      "100%|██████████████████████████████████████| 1875/1875 [00:17<00:00, 105.59it/s]\n"
     ]
    },
    {
     "name": "stdout",
     "output_type": "stream",
     "text": [
      "['Train loss: 0.45897307991981506', 'Train MAD: 0.4435960054397583']\n",
      "['Test loss: 0.8841342329978943', 'Test MAD: 0.5422475934028625']\n",
      "\n",
      "\n",
      "Epoch 8: \n"
     ]
    },
    {
     "name": "stderr",
     "output_type": "stream",
     "text": [
      "100%|███████████████████████████████████████| 1875/1875 [00:20<00:00, 92.64it/s]\n"
     ]
    },
    {
     "name": "stdout",
     "output_type": "stream",
     "text": [
      "['Train loss: 0.4030631184577942', 'Train MAD: 0.41462400555610657']\n",
      "['Test loss: 0.8874695897102356', 'Test MAD: 0.5398619771003723']\n",
      "\n",
      "\n",
      "Epoch 9: \n"
     ]
    },
    {
     "name": "stderr",
     "output_type": "stream",
     "text": [
      "100%|███████████████████████████████████████| 1875/1875 [00:20<00:00, 91.63it/s]\n"
     ]
    },
    {
     "name": "stdout",
     "output_type": "stream",
     "text": [
      "['Train loss: 0.35710713267326355', 'Train MAD: 0.39158201217651367']\n",
      "['Test loss: 0.8003153800964355', 'Test MAD: 0.49532952904701233']\n",
      "\n",
      "\n",
      "Epoch 10: \n"
     ]
    },
    {
     "name": "stderr",
     "output_type": "stream",
     "text": [
      "100%|██████████████████████████████████████| 1875/1875 [00:11<00:00, 156.51it/s]\n"
     ]
    },
    {
     "name": "stdout",
     "output_type": "stream",
     "text": [
      "['Train loss: 0.31259989738464355', 'Train MAD: 0.36647453904151917']\n",
      "['Test loss: 0.7882307171821594', 'Test MAD: 0.49411141872406006']\n",
      "\n",
      "\n",
      "Epoch 11: \n"
     ]
    },
    {
     "name": "stderr",
     "output_type": "stream",
     "text": [
      "100%|██████████████████████████████████████| 1875/1875 [00:17<00:00, 108.89it/s]\n"
     ]
    },
    {
     "name": "stdout",
     "output_type": "stream",
     "text": [
      "['Train loss: 0.2805534303188324', 'Train MAD: 0.348442018032074']\n",
      "['Test loss: 0.8181801438331604', 'Test MAD: 0.4912903606891632']\n",
      "\n",
      "\n",
      "Epoch 12: \n"
     ]
    },
    {
     "name": "stderr",
     "output_type": "stream",
     "text": [
      "100%|██████████████████████████████████████| 1875/1875 [00:10<00:00, 186.31it/s]\n"
     ]
    },
    {
     "name": "stdout",
     "output_type": "stream",
     "text": [
      "['Train loss: 0.2556796669960022', 'Train MAD: 0.33504942059516907']\n",
      "['Test loss: 0.7835955023765564', 'Test MAD: 0.4799950420856476']\n",
      "\n",
      "\n",
      "Epoch 13: \n"
     ]
    },
    {
     "name": "stderr",
     "output_type": "stream",
     "text": [
      "100%|██████████████████████████████████████| 1875/1875 [00:11<00:00, 163.82it/s]\n"
     ]
    },
    {
     "name": "stdout",
     "output_type": "stream",
     "text": [
      "['Train loss: 0.22752493619918823', 'Train MAD: 0.3151110112667084']\n",
      "['Test loss: 0.7859172821044922', 'Test MAD: 0.4853277802467346']\n",
      "\n",
      "\n",
      "Epoch 14: \n"
     ]
    },
    {
     "name": "stderr",
     "output_type": "stream",
     "text": [
      "100%|███████████████████████████████████████| 1875/1875 [00:20<00:00, 91.63it/s]\n"
     ]
    },
    {
     "name": "stdout",
     "output_type": "stream",
     "text": [
      "['Train loss: 0.2071387767791748', 'Train MAD: 0.30190780758857727']\n",
      "['Test loss: 0.7659980654716492', 'Test MAD: 0.4600599408149719']\n",
      "\n",
      "\n",
      "Task 2, optimizer=Adam, learning_rate=0.001\n",
      "\n",
      "Epoch 0: \n"
     ]
    },
    {
     "name": "stderr",
     "output_type": "stream",
     "text": [
      "100%|███████████████████████████████████████| 1875/1875 [00:24<00:00, 75.87it/s]\n"
     ]
    },
    {
     "name": "stdout",
     "output_type": "stream",
     "text": [
      "['Train loss: 2.918051242828369', 'Train MAD: 1.1983238458633423']\n",
      "['Test loss: 1.955987572669983', 'Test MAD: 0.9518006443977356']\n",
      "\n",
      "\n",
      "Epoch 1: \n"
     ]
    },
    {
     "name": "stderr",
     "output_type": "stream",
     "text": [
      "100%|██████████████████████████████████████| 1875/1875 [00:14<00:00, 126.68it/s]\n"
     ]
    },
    {
     "name": "stdout",
     "output_type": "stream",
     "text": [
      "['Train loss: 1.5384516716003418', 'Train MAD: 0.8332866430282593']\n",
      "['Test loss: 1.4892014265060425', 'Test MAD: 0.7789363861083984']\n",
      "\n",
      "\n",
      "Epoch 2: \n"
     ]
    },
    {
     "name": "stderr",
     "output_type": "stream",
     "text": [
      "100%|██████████████████████████████████████| 1875/1875 [00:17<00:00, 105.09it/s]\n"
     ]
    },
    {
     "name": "stdout",
     "output_type": "stream",
     "text": [
      "['Train loss: 1.2751051187515259', 'Train MAD: 0.7402092814445496']\n",
      "['Test loss: 1.357433795928955', 'Test MAD: 0.7322176694869995']\n",
      "\n",
      "\n",
      "Epoch 3: \n"
     ]
    },
    {
     "name": "stderr",
     "output_type": "stream",
     "text": [
      "100%|██████████████████████████████████████| 1875/1875 [00:14<00:00, 130.83it/s]\n"
     ]
    },
    {
     "name": "stdout",
     "output_type": "stream",
     "text": [
      "['Train loss: 1.0906122922897339', 'Train MAD: 0.671352207660675']\n",
      "['Test loss: 1.232305645942688', 'Test MAD: 0.6732540726661682']\n",
      "\n",
      "\n",
      "Epoch 4: \n"
     ]
    },
    {
     "name": "stderr",
     "output_type": "stream",
     "text": [
      "100%|███████████████████████████████████████| 1875/1875 [00:19<00:00, 95.10it/s]\n"
     ]
    },
    {
     "name": "stdout",
     "output_type": "stream",
     "text": [
      "['Train loss: 0.9748131632804871', 'Train MAD: 0.625539243221283']\n",
      "['Test loss: 1.2598176002502441', 'Test MAD: 0.6795863509178162']\n",
      "\n",
      "\n",
      "Epoch 5: \n"
     ]
    },
    {
     "name": "stderr",
     "output_type": "stream",
     "text": [
      "100%|███████████████████████████████████████| 1875/1875 [00:20<00:00, 92.19it/s]\n"
     ]
    },
    {
     "name": "stdout",
     "output_type": "stream",
     "text": [
      "['Train loss: 0.877522349357605', 'Train MAD: 0.5858352780342102']\n",
      "['Test loss: 1.1474391222000122', 'Test MAD: 0.6191672086715698']\n",
      "\n",
      "\n",
      "Epoch 6: \n"
     ]
    },
    {
     "name": "stderr",
     "output_type": "stream",
     "text": [
      "100%|██████████████████████████████████████| 1875/1875 [00:16<00:00, 116.12it/s]\n"
     ]
    },
    {
     "name": "stdout",
     "output_type": "stream",
     "text": [
      "['Train loss: 0.7967017292976379', 'Train MAD: 0.556037425994873']\n",
      "['Test loss: 1.115665078163147', 'Test MAD: 0.6374745965003967']\n",
      "\n",
      "\n",
      "Epoch 7: \n"
     ]
    },
    {
     "name": "stderr",
     "output_type": "stream",
     "text": [
      "100%|██████████████████████████████████████| 1875/1875 [00:14<00:00, 129.01it/s]\n"
     ]
    },
    {
     "name": "stdout",
     "output_type": "stream",
     "text": [
      "['Train loss: 0.7406232953071594', 'Train MAD: 0.5358180403709412']\n",
      "['Test loss: 1.0667662620544434', 'Test MAD: 0.6083236336708069']\n",
      "\n",
      "\n",
      "Epoch 8: \n"
     ]
    },
    {
     "name": "stderr",
     "output_type": "stream",
     "text": [
      "100%|███████████████████████████████████████| 1875/1875 [00:20<00:00, 91.63it/s]\n"
     ]
    },
    {
     "name": "stdout",
     "output_type": "stream",
     "text": [
      "['Train loss: 0.6730454564094543', 'Train MAD: 0.5107479095458984']\n",
      "['Test loss: 1.0661007165908813', 'Test MAD: 0.5860351920127869']\n",
      "\n",
      "\n",
      "Epoch 9: \n"
     ]
    },
    {
     "name": "stderr",
     "output_type": "stream",
     "text": [
      "100%|██████████████████████████████████████| 1875/1875 [00:15<00:00, 120.50it/s]\n"
     ]
    },
    {
     "name": "stdout",
     "output_type": "stream",
     "text": [
      "['Train loss: 0.6399688720703125', 'Train MAD: 0.4976474940776825']\n",
      "['Test loss: 1.02121102809906', 'Test MAD: 0.554645836353302']\n",
      "\n",
      "\n",
      "Epoch 10: \n"
     ]
    },
    {
     "name": "stderr",
     "output_type": "stream",
     "text": [
      "100%|██████████████████████████████████████| 1875/1875 [00:13<00:00, 142.37it/s]\n"
     ]
    },
    {
     "name": "stdout",
     "output_type": "stream",
     "text": [
      "['Train loss: 0.5845038890838623', 'Train MAD: 0.4757113754749298']\n",
      "['Test loss: 1.0859673023223877', 'Test MAD: 0.6112198829650879']\n",
      "\n",
      "\n",
      "Epoch 11: \n"
     ]
    },
    {
     "name": "stderr",
     "output_type": "stream",
     "text": [
      "100%|██████████████████████████████████████| 1875/1875 [00:13<00:00, 137.89it/s]\n"
     ]
    },
    {
     "name": "stdout",
     "output_type": "stream",
     "text": [
      "['Train loss: 0.5699352622032166', 'Train MAD: 0.4674713611602783']\n",
      "['Test loss: 1.1305265426635742', 'Test MAD: 0.6101879477500916']\n",
      "\n",
      "\n",
      "Epoch 12: \n"
     ]
    },
    {
     "name": "stderr",
     "output_type": "stream",
     "text": [
      "100%|██████████████████████████████████████| 1875/1875 [00:17<00:00, 107.84it/s]\n"
     ]
    },
    {
     "name": "stdout",
     "output_type": "stream",
     "text": [
      "['Train loss: 0.5445966124534607', 'Train MAD: 0.4575129449367523']\n",
      "['Test loss: 1.0262937545776367', 'Test MAD: 0.5404910445213318']\n",
      "\n",
      "\n",
      "Epoch 13: \n"
     ]
    },
    {
     "name": "stderr",
     "output_type": "stream",
     "text": [
      "100%|███████████████████████████████████████| 1875/1875 [00:20<00:00, 91.63it/s]\n"
     ]
    },
    {
     "name": "stdout",
     "output_type": "stream",
     "text": [
      "['Train loss: 0.5018643736839294', 'Train MAD: 0.4388505816459656']\n",
      "['Test loss: 1.065368890762329', 'Test MAD: 0.5725421905517578']\n",
      "\n",
      "\n",
      "Epoch 14: \n"
     ]
    },
    {
     "name": "stderr",
     "output_type": "stream",
     "text": [
      "100%|██████████████████████████████████████| 1875/1875 [00:16<00:00, 115.10it/s]\n"
     ]
    },
    {
     "name": "stdout",
     "output_type": "stream",
     "text": [
      "['Train loss: 0.4913315176963806', 'Train MAD: 0.43499937653541565']\n",
      "['Test loss: 0.9416885375976562', 'Test MAD: 0.5126327872276306']\n",
      "\n",
      "\n",
      "Task 2, optimizer=RMSprop, learning_rate=0.001\n",
      "\n",
      "Epoch 0: \n"
     ]
    },
    {
     "name": "stderr",
     "output_type": "stream",
     "text": [
      "100%|███████████████████████████████████████| 1875/1875 [00:29<00:00, 63.85it/s]\n"
     ]
    },
    {
     "name": "stdout",
     "output_type": "stream",
     "text": [
      "['Train loss: 2.9867546558380127', 'Train MAD: 1.2396533489227295']\n",
      "['Test loss: 1.5568621158599854', 'Test MAD: 0.8264375925064087']\n",
      "\n",
      "\n",
      "Epoch 1: \n"
     ]
    },
    {
     "name": "stderr",
     "output_type": "stream",
     "text": [
      "100%|███████████████████████████████████████| 1875/1875 [00:22<00:00, 84.00it/s]\n"
     ]
    },
    {
     "name": "stdout",
     "output_type": "stream",
     "text": [
      "['Train loss: 1.3626501560211182', 'Train MAD: 0.7811928391456604']\n",
      "['Test loss: 1.3676128387451172', 'Test MAD: 0.7416249513626099']\n",
      "\n",
      "\n",
      "Epoch 2: \n"
     ]
    },
    {
     "name": "stderr",
     "output_type": "stream",
     "text": [
      "100%|███████████████████████████████████████| 1875/1875 [00:23<00:00, 78.43it/s]\n"
     ]
    },
    {
     "name": "stdout",
     "output_type": "stream",
     "text": [
      "['Train loss: 1.0038690567016602', 'Train MAD: 0.6468371152877808']\n",
      "['Test loss: 1.110337734222412', 'Test MAD: 0.6210483312606812']\n",
      "\n",
      "\n",
      "Epoch 3: \n"
     ]
    },
    {
     "name": "stderr",
     "output_type": "stream",
     "text": [
      "100%|███████████████████████████████████████| 1875/1875 [00:40<00:00, 45.80it/s]\n"
     ]
    },
    {
     "name": "stdout",
     "output_type": "stream",
     "text": [
      "['Train loss: 0.8343428373336792', 'Train MAD: 0.5760552883148193']\n",
      "['Test loss: 1.0348882675170898', 'Test MAD: 0.6048791408538818']\n",
      "\n",
      "\n",
      "Epoch 4: \n"
     ]
    },
    {
     "name": "stderr",
     "output_type": "stream",
     "text": [
      "100%|███████████████████████████████████████| 1875/1875 [00:26<00:00, 70.97it/s]\n"
     ]
    },
    {
     "name": "stdout",
     "output_type": "stream",
     "text": [
      "['Train loss: 0.7090128064155579', 'Train MAD: 0.5256683826446533']\n",
      "['Test loss: 1.0500121116638184', 'Test MAD: 0.607614278793335']\n",
      "\n",
      "\n",
      "Epoch 5: \n"
     ]
    },
    {
     "name": "stderr",
     "output_type": "stream",
     "text": [
      "100%|███████████████████████████████████████| 1875/1875 [00:23<00:00, 81.40it/s]\n"
     ]
    },
    {
     "name": "stdout",
     "output_type": "stream",
     "text": [
      "['Train loss: 0.6147488355636597', 'Train MAD: 0.48398151993751526']\n",
      "['Test loss: 0.9168601632118225', 'Test MAD: 0.5157811045646667']\n",
      "\n",
      "\n",
      "Epoch 6: \n"
     ]
    },
    {
     "name": "stderr",
     "output_type": "stream",
     "text": [
      "100%|███████████████████████████████████████| 1875/1875 [00:24<00:00, 77.67it/s]\n"
     ]
    },
    {
     "name": "stdout",
     "output_type": "stream",
     "text": [
      "['Train loss: 0.5465539693832397', 'Train MAD: 0.45123228430747986']\n",
      "['Test loss: 0.8792200088500977', 'Test MAD: 0.4992467761039734']\n",
      "\n",
      "\n",
      "Epoch 7: \n"
     ]
    },
    {
     "name": "stderr",
     "output_type": "stream",
     "text": [
      "100%|███████████████████████████████████████| 1875/1875 [00:40<00:00, 45.80it/s]\n"
     ]
    },
    {
     "name": "stdout",
     "output_type": "stream",
     "text": [
      "['Train loss: 0.4813447594642639', 'Train MAD: 0.4227946996688843']\n",
      "['Test loss: 0.8815338611602783', 'Test MAD: 0.48773691058158875']\n",
      "\n",
      "\n",
      "Epoch 8: \n"
     ]
    },
    {
     "name": "stderr",
     "output_type": "stream",
     "text": [
      "100%|███████████████████████████████████████| 1875/1875 [00:20<00:00, 90.88it/s]\n"
     ]
    },
    {
     "name": "stdout",
     "output_type": "stream",
     "text": [
      "['Train loss: 0.43865928053855896', 'Train MAD: 0.4026104211807251']\n",
      "['Test loss: 0.8471634984016418', 'Test MAD: 0.4662590026855469']\n",
      "\n",
      "\n",
      "Epoch 9: \n"
     ]
    },
    {
     "name": "stderr",
     "output_type": "stream",
     "text": [
      "100%|███████████████████████████████████████| 1875/1875 [00:20<00:00, 92.51it/s]\n"
     ]
    },
    {
     "name": "stdout",
     "output_type": "stream",
     "text": [
      "['Train loss: 0.39936593174934387', 'Train MAD: 0.3838843107223511']\n",
      "['Test loss: 0.9053672552108765', 'Test MAD: 0.5139841437339783']\n",
      "\n",
      "\n",
      "Epoch 10: \n"
     ]
    },
    {
     "name": "stderr",
     "output_type": "stream",
     "text": [
      "100%|███████████████████████████████████████| 1875/1875 [00:40<00:00, 45.79it/s]\n"
     ]
    },
    {
     "name": "stdout",
     "output_type": "stream",
     "text": [
      "['Train loss: 0.37314680218696594', 'Train MAD: 0.3699818551540375']\n",
      "['Test loss: 0.7821826338768005', 'Test MAD: 0.43376627564430237']\n",
      "\n",
      "\n",
      "Epoch 11: \n"
     ]
    },
    {
     "name": "stderr",
     "output_type": "stream",
     "text": [
      "100%|██████████████████████████████████████| 1875/1875 [00:18<00:00, 100.80it/s]\n"
     ]
    },
    {
     "name": "stdout",
     "output_type": "stream",
     "text": [
      "['Train loss: 0.34487292170524597', 'Train MAD: 0.3556175231933594']\n",
      "['Test loss: 0.7953998446464539', 'Test MAD: 0.4337640702724457']\n",
      "\n",
      "\n",
      "Epoch 12: \n"
     ]
    },
    {
     "name": "stderr",
     "output_type": "stream",
     "text": [
      "100%|███████████████████████████████████████| 1875/1875 [00:24<00:00, 76.61it/s]\n"
     ]
    },
    {
     "name": "stdout",
     "output_type": "stream",
     "text": [
      "['Train loss: 0.31805986166000366', 'Train MAD: 0.3423905372619629']\n",
      "['Test loss: 0.8513932228088379', 'Test MAD: 0.45050209760665894']\n",
      "\n",
      "\n",
      "Epoch 13: \n"
     ]
    },
    {
     "name": "stderr",
     "output_type": "stream",
     "text": [
      "100%|███████████████████████████████████████| 1875/1875 [00:40<00:00, 45.78it/s]\n"
     ]
    },
    {
     "name": "stdout",
     "output_type": "stream",
     "text": [
      "['Train loss: 0.300187885761261', 'Train MAD: 0.332568883895874']\n",
      "['Test loss: 0.8139029741287231', 'Test MAD: 0.4728909432888031']\n",
      "\n",
      "\n",
      "Epoch 14: \n"
     ]
    },
    {
     "name": "stderr",
     "output_type": "stream",
     "text": [
      "100%|███████████████████████████████████████| 1875/1875 [00:23<00:00, 79.63it/s]\n"
     ]
    },
    {
     "name": "stdout",
     "output_type": "stream",
     "text": [
      "['Train loss: 0.2845000922679901', 'Train MAD: 0.32354801893234253']\n",
      "['Test loss: 0.7168518304824829', 'Test MAD: 0.4188748300075531']\n",
      "\n",
      "\n",
      "Task 2, optimizer=Adagrad, learning_rate=0.001\n",
      "\n",
      "Epoch 0: \n"
     ]
    },
    {
     "name": "stderr",
     "output_type": "stream",
     "text": [
      "100%|███████████████████████████████████████| 1875/1875 [00:41<00:00, 45.73it/s]\n"
     ]
    },
    {
     "name": "stdout",
     "output_type": "stream",
     "text": [
      "['Train loss: 5.275700092315674', 'Train MAD: 1.7773058414459229']\n",
      "['Test loss: 3.7230618000030518', 'Test MAD: 1.4759440422058105']\n",
      "\n",
      "\n",
      "Epoch 1: \n"
     ]
    },
    {
     "name": "stderr",
     "output_type": "stream",
     "text": [
      "100%|███████████████████████████████████████| 1875/1875 [00:21<00:00, 88.42it/s]\n"
     ]
    },
    {
     "name": "stdout",
     "output_type": "stream",
     "text": [
      "['Train loss: 3.3455302715301514', 'Train MAD: 1.38279128074646']\n",
      "['Test loss: 3.037687063217163', 'Test MAD: 1.3112878799438477']\n",
      "\n",
      "\n",
      "Epoch 2: \n"
     ]
    },
    {
     "name": "stderr",
     "output_type": "stream",
     "text": [
      "100%|███████████████████████████████████████| 1875/1875 [00:22<00:00, 84.98it/s]\n"
     ]
    },
    {
     "name": "stdout",
     "output_type": "stream",
     "text": [
      "['Train loss: 2.8303802013397217', 'Train MAD: 1.2570430040359497']\n",
      "['Test loss: 2.7050297260284424', 'Test MAD: 1.2255719900131226']\n",
      "\n",
      "\n",
      "Epoch 3: \n"
     ]
    },
    {
     "name": "stderr",
     "output_type": "stream",
     "text": [
      "100%|███████████████████████████████████████| 1875/1875 [00:20<00:00, 91.62it/s]\n"
     ]
    },
    {
     "name": "stdout",
     "output_type": "stream",
     "text": [
      "['Train loss: 2.557190418243408', 'Train MAD: 1.1861188411712646']\n",
      "['Test loss: 2.5323588848114014', 'Test MAD: 1.1777359247207642']\n",
      "\n",
      "\n",
      "Epoch 4: \n"
     ]
    },
    {
     "name": "stderr",
     "output_type": "stream",
     "text": [
      "100%|██████████████████████████████████████| 1875/1875 [00:14<00:00, 128.47it/s]\n"
     ]
    },
    {
     "name": "stdout",
     "output_type": "stream",
     "text": [
      "['Train loss: 2.377553939819336', 'Train MAD: 1.1364452838897705']\n",
      "['Test loss: 2.3883678913116455', 'Test MAD: 1.1393892765045166']\n",
      "\n",
      "\n",
      "Epoch 5: \n"
     ]
    },
    {
     "name": "stderr",
     "output_type": "stream",
     "text": [
      "100%|██████████████████████████████████████| 1875/1875 [00:17<00:00, 106.77it/s]\n"
     ]
    },
    {
     "name": "stdout",
     "output_type": "stream",
     "text": [
      "['Train loss: 2.2438673973083496', 'Train MAD: 1.0993543863296509']\n",
      "['Test loss: 2.283568859100342', 'Test MAD: 1.1077895164489746']\n",
      "\n",
      "\n",
      "Epoch 6: \n"
     ]
    },
    {
     "name": "stderr",
     "output_type": "stream",
     "text": [
      "100%|██████████████████████████████████████| 1875/1875 [00:15<00:00, 124.59it/s]\n"
     ]
    },
    {
     "name": "stdout",
     "output_type": "stream",
     "text": [
      "['Train loss: 2.1394195556640625', 'Train MAD: 1.0686272382736206']\n",
      "['Test loss: 2.205796241760254', 'Test MAD: 1.0843994617462158']\n",
      "\n",
      "\n",
      "Epoch 7: \n"
     ]
    },
    {
     "name": "stderr",
     "output_type": "stream",
     "text": [
      "100%|██████████████████████████████████████| 1875/1875 [00:15<00:00, 124.67it/s]\n"
     ]
    },
    {
     "name": "stdout",
     "output_type": "stream",
     "text": [
      "['Train loss: 2.05413556098938', 'Train MAD: 1.043571949005127']\n",
      "['Test loss: 2.146998405456543', 'Test MAD: 1.0648977756500244']\n",
      "\n",
      "\n",
      "Epoch 8: \n"
     ]
    },
    {
     "name": "stderr",
     "output_type": "stream",
     "text": [
      "100%|███████████████████████████████████████| 1875/1875 [00:20<00:00, 91.63it/s]\n"
     ]
    },
    {
     "name": "stdout",
     "output_type": "stream",
     "text": [
      "['Train loss: 1.9813820123672485', 'Train MAD: 1.022788166999817']\n",
      "['Test loss: 2.0859649181365967', 'Test MAD: 1.0466933250427246']\n",
      "\n",
      "\n",
      "Epoch 9: \n"
     ]
    },
    {
     "name": "stderr",
     "output_type": "stream",
     "text": [
      "100%|███████████████████████████████████████| 1875/1875 [00:20<00:00, 91.62it/s]\n"
     ]
    },
    {
     "name": "stdout",
     "output_type": "stream",
     "text": [
      "['Train loss: 1.9185855388641357', 'Train MAD: 1.0037904977798462']\n",
      "['Test loss: 2.0384645462036133', 'Test MAD: 1.0314388275146484']\n",
      "\n",
      "\n",
      "Epoch 10: \n"
     ]
    },
    {
     "name": "stderr",
     "output_type": "stream",
     "text": [
      "100%|██████████████████████████████████████| 1875/1875 [00:14<00:00, 130.36it/s]\n"
     ]
    },
    {
     "name": "stdout",
     "output_type": "stream",
     "text": [
      "['Train loss: 1.8641228675842285', 'Train MAD: 0.9868170619010925']\n",
      "['Test loss: 1.9976131916046143', 'Test MAD: 1.0179507732391357']\n",
      "\n",
      "\n",
      "Epoch 11: \n"
     ]
    },
    {
     "name": "stderr",
     "output_type": "stream",
     "text": [
      "100%|██████████████████████████████████████| 1875/1875 [00:16<00:00, 115.66it/s]\n"
     ]
    },
    {
     "name": "stdout",
     "output_type": "stream",
     "text": [
      "['Train loss: 1.8154914379119873', 'Train MAD: 0.9724218249320984']\n",
      "['Test loss: 1.9558836221694946', 'Test MAD: 1.0058656930923462']\n",
      "\n",
      "\n",
      "Epoch 12: \n"
     ]
    },
    {
     "name": "stderr",
     "output_type": "stream",
     "text": [
      "100%|███████████████████████████████████████| 1875/1875 [00:20<00:00, 91.60it/s]\n"
     ]
    },
    {
     "name": "stdout",
     "output_type": "stream",
     "text": [
      "['Train loss: 1.7716279029846191', 'Train MAD: 0.958962619304657']\n",
      "['Test loss: 1.9257584810256958', 'Test MAD: 0.9953769445419312']\n",
      "\n",
      "\n",
      "Epoch 13: \n"
     ]
    },
    {
     "name": "stderr",
     "output_type": "stream",
     "text": [
      "100%|██████████████████████████████████████| 1875/1875 [00:17<00:00, 106.16it/s]\n"
     ]
    },
    {
     "name": "stdout",
     "output_type": "stream",
     "text": [
      "['Train loss: 1.7324270009994507', 'Train MAD: 0.9468864798545837']\n",
      "['Test loss: 1.901303768157959', 'Test MAD: 0.9863314628601074']\n",
      "\n",
      "\n",
      "Epoch 14: \n"
     ]
    },
    {
     "name": "stderr",
     "output_type": "stream",
     "text": [
      "100%|███████████████████████████████████████| 1875/1875 [00:20<00:00, 91.59it/s]\n"
     ]
    },
    {
     "name": "stdout",
     "output_type": "stream",
     "text": [
      "['Train loss: 1.6970796585083008', 'Train MAD: 0.9360703229904175']\n",
      "['Test loss: 1.876502275466919', 'Test MAD: 0.9783434271812439']\n",
      "\n",
      "\n"
     ]
    }
   ],
   "source": [
    "print(\"Task 2, optimizer=SGD, learning_rate=0.001\\n\")\n",
    "run(2,tf.keras.optimizers.SGD(learning_rate=0.001))\n",
    "print(\"Task 2, optimizer=SGD, learning_rate=0.001, momentum=0.9\\n\")\n",
    "run(2,tf.keras.optimizers.SGD(learning_rate=0.001, momentum=0.9))\n",
    "print(\"Task 2, optimizer=Adam, learning_rate=0.001\\n\")\n",
    "run(2)\n",
    "print(\"Task 2, optimizer=RMSprop, learning_rate=0.001\\n\")\n",
    "run(2,tf.keras.optimizers.RMSprop(learning_rate=0.001))\n",
    "print(\"Task 2, optimizer=Adagrad, learning_rate=0.001\\n\")\n",
    "run(2,tf.keras.optimizers.Adagrad(learning_rate=0.001))"
   ]
  },
  {
   "cell_type": "code",
   "execution_count": 11,
   "metadata": {},
   "outputs": [
    {
     "data": {
      "text/html": [
       "\n",
       "      <iframe id=\"tensorboard-frame-9a71ba12b42d708f\" width=\"100%\" height=\"800\" frameborder=\"0\">\n",
       "      </iframe>\n",
       "      <script>\n",
       "        (function() {\n",
       "          const frame = document.getElementById(\"tensorboard-frame-9a71ba12b42d708f\");\n",
       "          const url = new URL(\"/\", window.location);\n",
       "          const port = 6006;\n",
       "          if (port) {\n",
       "            url.port = port;\n",
       "          }\n",
       "          frame.src = url;\n",
       "        })();\n",
       "      </script>\n",
       "    "
      ],
      "text/plain": [
       "<IPython.core.display.HTML object>"
      ]
     },
     "metadata": {},
     "output_type": "display_data"
    }
   ],
   "source": [
    "%tensorboard --logdir logs/submission/"
   ]
  }
 ],
 "metadata": {
  "colab": {
   "provenance": []
  },
  "kernelspec": {
   "display_name": "Python [conda env:iannwtf]",
   "language": "python",
   "name": "conda-env-iannwtf-py"
  },
  "language_info": {
   "codemirror_mode": {
    "name": "ipython",
    "version": 3
   },
   "file_extension": ".py",
   "mimetype": "text/x-python",
   "name": "python",
   "nbconvert_exporter": "python",
   "pygments_lexer": "ipython3",
   "version": "3.7.13"
  },
  "widgets": {
   "application/vnd.jupyter.widget-state+json": {
    "0cac761504414290bbc295717621641e": {
     "model_module": "@jupyter-widgets/controls",
     "model_module_version": "1.5.0",
     "model_name": "DescriptionStyleModel",
     "state": {
      "_model_module": "@jupyter-widgets/controls",
      "_model_module_version": "1.5.0",
      "_model_name": "DescriptionStyleModel",
      "_view_count": null,
      "_view_module": "@jupyter-widgets/base",
      "_view_module_version": "1.2.0",
      "_view_name": "StyleView",
      "description_width": ""
     }
    },
    "0eede157c68449c8bd2f3f242c7b933d": {
     "model_module": "@jupyter-widgets/controls",
     "model_module_version": "1.5.0",
     "model_name": "DescriptionStyleModel",
     "state": {
      "_model_module": "@jupyter-widgets/controls",
      "_model_module_version": "1.5.0",
      "_model_name": "DescriptionStyleModel",
      "_view_count": null,
      "_view_module": "@jupyter-widgets/base",
      "_view_module_version": "1.2.0",
      "_view_name": "StyleView",
      "description_width": ""
     }
    },
    "1a82a6487e6c40bb842b54b27772fdca": {
     "model_module": "@jupyter-widgets/controls",
     "model_module_version": "1.5.0",
     "model_name": "HTMLModel",
     "state": {
      "_dom_classes": [],
      "_model_module": "@jupyter-widgets/controls",
      "_model_module_version": "1.5.0",
      "_model_name": "HTMLModel",
      "_view_count": null,
      "_view_module": "@jupyter-widgets/controls",
      "_view_module_version": "1.5.0",
      "_view_name": "HTMLView",
      "description": "",
      "description_tooltip": null,
      "layout": "IPY_MODEL_bd1f408302b847fbad9896540192dc19",
      "placeholder": "​",
      "style": "IPY_MODEL_0eede157c68449c8bd2f3f242c7b933d",
      "value": "Dl Completed...: 100%"
     }
    },
    "33d75e62e09d45358850748e1dc929c8": {
     "model_module": "@jupyter-widgets/controls",
     "model_module_version": "1.5.0",
     "model_name": "HBoxModel",
     "state": {
      "_dom_classes": [],
      "_model_module": "@jupyter-widgets/controls",
      "_model_module_version": "1.5.0",
      "_model_name": "HBoxModel",
      "_view_count": null,
      "_view_module": "@jupyter-widgets/controls",
      "_view_module_version": "1.5.0",
      "_view_name": "HBoxView",
      "box_style": "",
      "children": [
       "IPY_MODEL_1a82a6487e6c40bb842b54b27772fdca",
       "IPY_MODEL_b0a9657c889a49dfab38ef22463e5b6a",
       "IPY_MODEL_fd76816091b24e968a772846b2cc39be"
      ],
      "layout": "IPY_MODEL_e3d3218ca6b84439b00c533843274016"
     }
    },
    "3fd34b6608e54f939e6019aa0cc4e26c": {
     "model_module": "@jupyter-widgets/base",
     "model_module_version": "1.2.0",
     "model_name": "LayoutModel",
     "state": {
      "_model_module": "@jupyter-widgets/base",
      "_model_module_version": "1.2.0",
      "_model_name": "LayoutModel",
      "_view_count": null,
      "_view_module": "@jupyter-widgets/base",
      "_view_module_version": "1.2.0",
      "_view_name": "LayoutView",
      "align_content": null,
      "align_items": null,
      "align_self": null,
      "border": null,
      "bottom": null,
      "display": null,
      "flex": null,
      "flex_flow": null,
      "grid_area": null,
      "grid_auto_columns": null,
      "grid_auto_flow": null,
      "grid_auto_rows": null,
      "grid_column": null,
      "grid_gap": null,
      "grid_row": null,
      "grid_template_areas": null,
      "grid_template_columns": null,
      "grid_template_rows": null,
      "height": null,
      "justify_content": null,
      "justify_items": null,
      "left": null,
      "margin": null,
      "max_height": null,
      "max_width": null,
      "min_height": null,
      "min_width": null,
      "object_fit": null,
      "object_position": null,
      "order": null,
      "overflow": null,
      "overflow_x": null,
      "overflow_y": null,
      "padding": null,
      "right": null,
      "top": null,
      "visibility": null,
      "width": null
     }
    },
    "61ddc1edbc9f4147ad38c87615613e5b": {
     "model_module": "@jupyter-widgets/base",
     "model_module_version": "1.2.0",
     "model_name": "LayoutModel",
     "state": {
      "_model_module": "@jupyter-widgets/base",
      "_model_module_version": "1.2.0",
      "_model_name": "LayoutModel",
      "_view_count": null,
      "_view_module": "@jupyter-widgets/base",
      "_view_module_version": "1.2.0",
      "_view_name": "LayoutView",
      "align_content": null,
      "align_items": null,
      "align_self": null,
      "border": null,
      "bottom": null,
      "display": null,
      "flex": null,
      "flex_flow": null,
      "grid_area": null,
      "grid_auto_columns": null,
      "grid_auto_flow": null,
      "grid_auto_rows": null,
      "grid_column": null,
      "grid_gap": null,
      "grid_row": null,
      "grid_template_areas": null,
      "grid_template_columns": null,
      "grid_template_rows": null,
      "height": null,
      "justify_content": null,
      "justify_items": null,
      "left": null,
      "margin": null,
      "max_height": null,
      "max_width": null,
      "min_height": null,
      "min_width": null,
      "object_fit": null,
      "object_position": null,
      "order": null,
      "overflow": null,
      "overflow_x": null,
      "overflow_y": null,
      "padding": null,
      "right": null,
      "top": null,
      "visibility": null,
      "width": null
     }
    },
    "6f767210e699477eafee2196924b0662": {
     "model_module": "@jupyter-widgets/controls",
     "model_module_version": "1.5.0",
     "model_name": "ProgressStyleModel",
     "state": {
      "_model_module": "@jupyter-widgets/controls",
      "_model_module_version": "1.5.0",
      "_model_name": "ProgressStyleModel",
      "_view_count": null,
      "_view_module": "@jupyter-widgets/base",
      "_view_module_version": "1.2.0",
      "_view_name": "StyleView",
      "bar_color": null,
      "description_width": ""
     }
    },
    "b0a9657c889a49dfab38ef22463e5b6a": {
     "model_module": "@jupyter-widgets/controls",
     "model_module_version": "1.5.0",
     "model_name": "FloatProgressModel",
     "state": {
      "_dom_classes": [],
      "_model_module": "@jupyter-widgets/controls",
      "_model_module_version": "1.5.0",
      "_model_name": "FloatProgressModel",
      "_view_count": null,
      "_view_module": "@jupyter-widgets/controls",
      "_view_module_version": "1.5.0",
      "_view_name": "ProgressView",
      "bar_style": "success",
      "description": "",
      "description_tooltip": null,
      "layout": "IPY_MODEL_3fd34b6608e54f939e6019aa0cc4e26c",
      "max": 4,
      "min": 0,
      "orientation": "horizontal",
      "style": "IPY_MODEL_6f767210e699477eafee2196924b0662",
      "value": 4
     }
    },
    "bd1f408302b847fbad9896540192dc19": {
     "model_module": "@jupyter-widgets/base",
     "model_module_version": "1.2.0",
     "model_name": "LayoutModel",
     "state": {
      "_model_module": "@jupyter-widgets/base",
      "_model_module_version": "1.2.0",
      "_model_name": "LayoutModel",
      "_view_count": null,
      "_view_module": "@jupyter-widgets/base",
      "_view_module_version": "1.2.0",
      "_view_name": "LayoutView",
      "align_content": null,
      "align_items": null,
      "align_self": null,
      "border": null,
      "bottom": null,
      "display": null,
      "flex": null,
      "flex_flow": null,
      "grid_area": null,
      "grid_auto_columns": null,
      "grid_auto_flow": null,
      "grid_auto_rows": null,
      "grid_column": null,
      "grid_gap": null,
      "grid_row": null,
      "grid_template_areas": null,
      "grid_template_columns": null,
      "grid_template_rows": null,
      "height": null,
      "justify_content": null,
      "justify_items": null,
      "left": null,
      "margin": null,
      "max_height": null,
      "max_width": null,
      "min_height": null,
      "min_width": null,
      "object_fit": null,
      "object_position": null,
      "order": null,
      "overflow": null,
      "overflow_x": null,
      "overflow_y": null,
      "padding": null,
      "right": null,
      "top": null,
      "visibility": null,
      "width": null
     }
    },
    "e3d3218ca6b84439b00c533843274016": {
     "model_module": "@jupyter-widgets/base",
     "model_module_version": "1.2.0",
     "model_name": "LayoutModel",
     "state": {
      "_model_module": "@jupyter-widgets/base",
      "_model_module_version": "1.2.0",
      "_model_name": "LayoutModel",
      "_view_count": null,
      "_view_module": "@jupyter-widgets/base",
      "_view_module_version": "1.2.0",
      "_view_name": "LayoutView",
      "align_content": null,
      "align_items": null,
      "align_self": null,
      "border": null,
      "bottom": null,
      "display": null,
      "flex": null,
      "flex_flow": null,
      "grid_area": null,
      "grid_auto_columns": null,
      "grid_auto_flow": null,
      "grid_auto_rows": null,
      "grid_column": null,
      "grid_gap": null,
      "grid_row": null,
      "grid_template_areas": null,
      "grid_template_columns": null,
      "grid_template_rows": null,
      "height": null,
      "justify_content": null,
      "justify_items": null,
      "left": null,
      "margin": null,
      "max_height": null,
      "max_width": null,
      "min_height": null,
      "min_width": null,
      "object_fit": null,
      "object_position": null,
      "order": null,
      "overflow": null,
      "overflow_x": null,
      "overflow_y": null,
      "padding": null,
      "right": null,
      "top": null,
      "visibility": null,
      "width": null
     }
    },
    "fd76816091b24e968a772846b2cc39be": {
     "model_module": "@jupyter-widgets/controls",
     "model_module_version": "1.5.0",
     "model_name": "HTMLModel",
     "state": {
      "_dom_classes": [],
      "_model_module": "@jupyter-widgets/controls",
      "_model_module_version": "1.5.0",
      "_model_name": "HTMLModel",
      "_view_count": null,
      "_view_module": "@jupyter-widgets/controls",
      "_view_module_version": "1.5.0",
      "_view_name": "HTMLView",
      "description": "",
      "description_tooltip": null,
      "layout": "IPY_MODEL_61ddc1edbc9f4147ad38c87615613e5b",
      "placeholder": "​",
      "style": "IPY_MODEL_0cac761504414290bbc295717621641e",
      "value": " 4/4 [00:00&lt;00:00,  6.71 file/s]"
     }
    }
   }
  }
 },
 "nbformat": 4,
 "nbformat_minor": 4
}
