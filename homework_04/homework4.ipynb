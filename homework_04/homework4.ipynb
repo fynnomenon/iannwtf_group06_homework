{
  "nbformat": 4,
  "nbformat_minor": 0,
  "metadata": {
    "colab": {
      "provenance": []
    },
    "kernelspec": {
      "name": "python3",
      "display_name": "Python 3"
    },
    "language_info": {
      "name": "python"
    },
    "widgets": {
      "application/vnd.jupyter.widget-state+json": {
        "33d75e62e09d45358850748e1dc929c8": {
          "model_module": "@jupyter-widgets/controls",
          "model_name": "HBoxModel",
          "model_module_version": "1.5.0",
          "state": {
            "_dom_classes": [],
            "_model_module": "@jupyter-widgets/controls",
            "_model_module_version": "1.5.0",
            "_model_name": "HBoxModel",
            "_view_count": null,
            "_view_module": "@jupyter-widgets/controls",
            "_view_module_version": "1.5.0",
            "_view_name": "HBoxView",
            "box_style": "",
            "children": [
              "IPY_MODEL_1a82a6487e6c40bb842b54b27772fdca",
              "IPY_MODEL_b0a9657c889a49dfab38ef22463e5b6a",
              "IPY_MODEL_fd76816091b24e968a772846b2cc39be"
            ],
            "layout": "IPY_MODEL_e3d3218ca6b84439b00c533843274016"
          }
        },
        "1a82a6487e6c40bb842b54b27772fdca": {
          "model_module": "@jupyter-widgets/controls",
          "model_name": "HTMLModel",
          "model_module_version": "1.5.0",
          "state": {
            "_dom_classes": [],
            "_model_module": "@jupyter-widgets/controls",
            "_model_module_version": "1.5.0",
            "_model_name": "HTMLModel",
            "_view_count": null,
            "_view_module": "@jupyter-widgets/controls",
            "_view_module_version": "1.5.0",
            "_view_name": "HTMLView",
            "description": "",
            "description_tooltip": null,
            "layout": "IPY_MODEL_bd1f408302b847fbad9896540192dc19",
            "placeholder": "​",
            "style": "IPY_MODEL_0eede157c68449c8bd2f3f242c7b933d",
            "value": "Dl Completed...: 100%"
          }
        },
        "b0a9657c889a49dfab38ef22463e5b6a": {
          "model_module": "@jupyter-widgets/controls",
          "model_name": "FloatProgressModel",
          "model_module_version": "1.5.0",
          "state": {
            "_dom_classes": [],
            "_model_module": "@jupyter-widgets/controls",
            "_model_module_version": "1.5.0",
            "_model_name": "FloatProgressModel",
            "_view_count": null,
            "_view_module": "@jupyter-widgets/controls",
            "_view_module_version": "1.5.0",
            "_view_name": "ProgressView",
            "bar_style": "success",
            "description": "",
            "description_tooltip": null,
            "layout": "IPY_MODEL_3fd34b6608e54f939e6019aa0cc4e26c",
            "max": 4,
            "min": 0,
            "orientation": "horizontal",
            "style": "IPY_MODEL_6f767210e699477eafee2196924b0662",
            "value": 4
          }
        },
        "fd76816091b24e968a772846b2cc39be": {
          "model_module": "@jupyter-widgets/controls",
          "model_name": "HTMLModel",
          "model_module_version": "1.5.0",
          "state": {
            "_dom_classes": [],
            "_model_module": "@jupyter-widgets/controls",
            "_model_module_version": "1.5.0",
            "_model_name": "HTMLModel",
            "_view_count": null,
            "_view_module": "@jupyter-widgets/controls",
            "_view_module_version": "1.5.0",
            "_view_name": "HTMLView",
            "description": "",
            "description_tooltip": null,
            "layout": "IPY_MODEL_61ddc1edbc9f4147ad38c87615613e5b",
            "placeholder": "​",
            "style": "IPY_MODEL_0cac761504414290bbc295717621641e",
            "value": " 4/4 [00:00&lt;00:00,  6.71 file/s]"
          }
        },
        "e3d3218ca6b84439b00c533843274016": {
          "model_module": "@jupyter-widgets/base",
          "model_name": "LayoutModel",
          "model_module_version": "1.2.0",
          "state": {
            "_model_module": "@jupyter-widgets/base",
            "_model_module_version": "1.2.0",
            "_model_name": "LayoutModel",
            "_view_count": null,
            "_view_module": "@jupyter-widgets/base",
            "_view_module_version": "1.2.0",
            "_view_name": "LayoutView",
            "align_content": null,
            "align_items": null,
            "align_self": null,
            "border": null,
            "bottom": null,
            "display": null,
            "flex": null,
            "flex_flow": null,
            "grid_area": null,
            "grid_auto_columns": null,
            "grid_auto_flow": null,
            "grid_auto_rows": null,
            "grid_column": null,
            "grid_gap": null,
            "grid_row": null,
            "grid_template_areas": null,
            "grid_template_columns": null,
            "grid_template_rows": null,
            "height": null,
            "justify_content": null,
            "justify_items": null,
            "left": null,
            "margin": null,
            "max_height": null,
            "max_width": null,
            "min_height": null,
            "min_width": null,
            "object_fit": null,
            "object_position": null,
            "order": null,
            "overflow": null,
            "overflow_x": null,
            "overflow_y": null,
            "padding": null,
            "right": null,
            "top": null,
            "visibility": null,
            "width": null
          }
        },
        "bd1f408302b847fbad9896540192dc19": {
          "model_module": "@jupyter-widgets/base",
          "model_name": "LayoutModel",
          "model_module_version": "1.2.0",
          "state": {
            "_model_module": "@jupyter-widgets/base",
            "_model_module_version": "1.2.0",
            "_model_name": "LayoutModel",
            "_view_count": null,
            "_view_module": "@jupyter-widgets/base",
            "_view_module_version": "1.2.0",
            "_view_name": "LayoutView",
            "align_content": null,
            "align_items": null,
            "align_self": null,
            "border": null,
            "bottom": null,
            "display": null,
            "flex": null,
            "flex_flow": null,
            "grid_area": null,
            "grid_auto_columns": null,
            "grid_auto_flow": null,
            "grid_auto_rows": null,
            "grid_column": null,
            "grid_gap": null,
            "grid_row": null,
            "grid_template_areas": null,
            "grid_template_columns": null,
            "grid_template_rows": null,
            "height": null,
            "justify_content": null,
            "justify_items": null,
            "left": null,
            "margin": null,
            "max_height": null,
            "max_width": null,
            "min_height": null,
            "min_width": null,
            "object_fit": null,
            "object_position": null,
            "order": null,
            "overflow": null,
            "overflow_x": null,
            "overflow_y": null,
            "padding": null,
            "right": null,
            "top": null,
            "visibility": null,
            "width": null
          }
        },
        "0eede157c68449c8bd2f3f242c7b933d": {
          "model_module": "@jupyter-widgets/controls",
          "model_name": "DescriptionStyleModel",
          "model_module_version": "1.5.0",
          "state": {
            "_model_module": "@jupyter-widgets/controls",
            "_model_module_version": "1.5.0",
            "_model_name": "DescriptionStyleModel",
            "_view_count": null,
            "_view_module": "@jupyter-widgets/base",
            "_view_module_version": "1.2.0",
            "_view_name": "StyleView",
            "description_width": ""
          }
        },
        "3fd34b6608e54f939e6019aa0cc4e26c": {
          "model_module": "@jupyter-widgets/base",
          "model_name": "LayoutModel",
          "model_module_version": "1.2.0",
          "state": {
            "_model_module": "@jupyter-widgets/base",
            "_model_module_version": "1.2.0",
            "_model_name": "LayoutModel",
            "_view_count": null,
            "_view_module": "@jupyter-widgets/base",
            "_view_module_version": "1.2.0",
            "_view_name": "LayoutView",
            "align_content": null,
            "align_items": null,
            "align_self": null,
            "border": null,
            "bottom": null,
            "display": null,
            "flex": null,
            "flex_flow": null,
            "grid_area": null,
            "grid_auto_columns": null,
            "grid_auto_flow": null,
            "grid_auto_rows": null,
            "grid_column": null,
            "grid_gap": null,
            "grid_row": null,
            "grid_template_areas": null,
            "grid_template_columns": null,
            "grid_template_rows": null,
            "height": null,
            "justify_content": null,
            "justify_items": null,
            "left": null,
            "margin": null,
            "max_height": null,
            "max_width": null,
            "min_height": null,
            "min_width": null,
            "object_fit": null,
            "object_position": null,
            "order": null,
            "overflow": null,
            "overflow_x": null,
            "overflow_y": null,
            "padding": null,
            "right": null,
            "top": null,
            "visibility": null,
            "width": null
          }
        },
        "6f767210e699477eafee2196924b0662": {
          "model_module": "@jupyter-widgets/controls",
          "model_name": "ProgressStyleModel",
          "model_module_version": "1.5.0",
          "state": {
            "_model_module": "@jupyter-widgets/controls",
            "_model_module_version": "1.5.0",
            "_model_name": "ProgressStyleModel",
            "_view_count": null,
            "_view_module": "@jupyter-widgets/base",
            "_view_module_version": "1.2.0",
            "_view_name": "StyleView",
            "bar_color": null,
            "description_width": ""
          }
        },
        "61ddc1edbc9f4147ad38c87615613e5b": {
          "model_module": "@jupyter-widgets/base",
          "model_name": "LayoutModel",
          "model_module_version": "1.2.0",
          "state": {
            "_model_module": "@jupyter-widgets/base",
            "_model_module_version": "1.2.0",
            "_model_name": "LayoutModel",
            "_view_count": null,
            "_view_module": "@jupyter-widgets/base",
            "_view_module_version": "1.2.0",
            "_view_name": "LayoutView",
            "align_content": null,
            "align_items": null,
            "align_self": null,
            "border": null,
            "bottom": null,
            "display": null,
            "flex": null,
            "flex_flow": null,
            "grid_area": null,
            "grid_auto_columns": null,
            "grid_auto_flow": null,
            "grid_auto_rows": null,
            "grid_column": null,
            "grid_gap": null,
            "grid_row": null,
            "grid_template_areas": null,
            "grid_template_columns": null,
            "grid_template_rows": null,
            "height": null,
            "justify_content": null,
            "justify_items": null,
            "left": null,
            "margin": null,
            "max_height": null,
            "max_width": null,
            "min_height": null,
            "min_width": null,
            "object_fit": null,
            "object_position": null,
            "order": null,
            "overflow": null,
            "overflow_x": null,
            "overflow_y": null,
            "padding": null,
            "right": null,
            "top": null,
            "visibility": null,
            "width": null
          }
        },
        "0cac761504414290bbc295717621641e": {
          "model_module": "@jupyter-widgets/controls",
          "model_name": "DescriptionStyleModel",
          "model_module_version": "1.5.0",
          "state": {
            "_model_module": "@jupyter-widgets/controls",
            "_model_module_version": "1.5.0",
            "_model_name": "DescriptionStyleModel",
            "_view_count": null,
            "_view_module": "@jupyter-widgets/base",
            "_view_module_version": "1.2.0",
            "_view_name": "StyleView",
            "description_width": ""
          }
        }
      }
    }
  },
  "cells": [
    {
      "cell_type": "code",
      "execution_count": 1,
      "metadata": {
        "id": "3eQD_OhqmeeB",
        "colab": {
          "base_uri": "https://localhost:8080/",
          "height": 105,
          "referenced_widgets": [
            "33d75e62e09d45358850748e1dc929c8",
            "1a82a6487e6c40bb842b54b27772fdca",
            "b0a9657c889a49dfab38ef22463e5b6a",
            "fd76816091b24e968a772846b2cc39be",
            "e3d3218ca6b84439b00c533843274016",
            "bd1f408302b847fbad9896540192dc19",
            "0eede157c68449c8bd2f3f242c7b933d",
            "3fd34b6608e54f939e6019aa0cc4e26c",
            "6f767210e699477eafee2196924b0662",
            "61ddc1edbc9f4147ad38c87615613e5b",
            "0cac761504414290bbc295717621641e"
          ]
        },
        "outputId": "c6fdd7f6-afc0-4fe0-e87a-b81d7a4bca86"
      },
      "outputs": [
        {
          "output_type": "stream",
          "name": "stdout",
          "text": [
            "Downloading and preparing dataset 11.06 MiB (download: 11.06 MiB, generated: 21.00 MiB, total: 32.06 MiB) to ~/tensorflow_datasets/mnist/3.0.1...\n"
          ]
        },
        {
          "output_type": "display_data",
          "data": {
            "text/plain": [
              "Dl Completed...:   0%|          | 0/4 [00:00<?, ? file/s]"
            ],
            "application/vnd.jupyter.widget-view+json": {
              "version_major": 2,
              "version_minor": 0,
              "model_id": "33d75e62e09d45358850748e1dc929c8"
            }
          },
          "metadata": {}
        },
        {
          "output_type": "stream",
          "name": "stdout",
          "text": [
            "Dataset mnist downloaded and prepared to ~/tensorflow_datasets/mnist/3.0.1. Subsequent calls will reuse this data.\n"
          ]
        }
      ],
      "source": [
        "\"\"\"\n",
        "@authors: faurand, chardes, ehagensieker\n",
        "\"\"\"\n",
        "import tensorflow_datasets as tfds\n",
        "import tensorflow as tf\n",
        "import numpy as np \n",
        "\n",
        "#load the mnist dataset\n",
        "(train_ds, test_ds) = tfds.load('mnist', split=['train', 'test'], as_supervised=True)\n"
      ]
    },
    {
      "cell_type": "code",
      "source": [
        "import math\n",
        "import datetime\n",
        "\n",
        "# in a notebook, load the tensorboard extension, not needed for scripts\n",
        "%load_ext tensorboard"
      ],
      "metadata": {
        "id": "WbbSxfE2peOH"
      },
      "execution_count": 2,
      "outputs": []
    },
    {
      "cell_type": "code",
      "source": [
        "def calc(task,mnist):\n",
        "  '''\n",
        "  define the two subtasks which differ there target values\n",
        "\n",
        "  Args: \n",
        "    task(int): which task to perform\n",
        "    mnist(array): dataset to be used for the task\n",
        "  Return: \n",
        "    mnist(array): preprocessed dataset\n",
        "  '''\n",
        "  if task == 1:\n",
        "    mnist = mnist.map(lambda pic1,pic2: (pic1[0],pic2[0],tf.cast((pic1[1] + pic2[1] >= 5), tf.int32)))\n",
        "    return mnist\n",
        "  if task == 2:\n",
        "    mnist = mnist.map(lambda pic1,pic2: (pic1[0],pic2[0], tf.cast((pic1[1]-pic2[1]), tf.int32)))\n",
        "    return mnist\n",
        "\n",
        "\n"
      ],
      "metadata": {
        "id": "W-d0ILVuDW9i"
      },
      "execution_count": 3,
      "outputs": []
    },
    {
      "cell_type": "code",
      "source": [
        "def prepare_mnist_data(task,batch_size,mnist):\n",
        "  \n",
        "  #flatten the images into one dimensional vector\n",
        "  mnist = mnist.map(lambda img, target: (tf.reshape(img, (-1,)), target))\n",
        "  #convert data from uint8 to float32\n",
        "  mnist = mnist.map(lambda img, target: (tf.cast(img, tf.float32), target))\n",
        "  #normalization to have input of range [-1,1]\n",
        "  mnist = mnist.map(lambda img, target: ((img/128.)-1., target))\n",
        "  #create a tuple with shuffled data points \n",
        "  mnist = tf.data.Dataset.zip((mnist.shuffle(2000), mnist.shuffle(2000)))\n",
        "  #create a triple depending on the task to be performed\n",
        "  mnist = calc(task,mnist)\n",
        "  #cache this progress in memory - improve performance\n",
        "  mnist = mnist.cache()\n",
        "  #shuffle, batch, prefetch\n",
        "  mnist = mnist.shuffle(1000)\n",
        "  mnist = mnist.batch(batch_size)\n",
        "  mnist = mnist.prefetch(20)\n",
        "\n",
        "  #return preprocessed dataset\n",
        "  return mnist\n",
        "\n",
        "#apply the preprocessing to both data sets\n",
        "batch_size = 32\n",
        "train_1 = prepare_mnist_data(1,batch_size,train_ds)\n",
        "test_1 = prepare_mnist_data(1,batch_size,test_ds)\n",
        "\n",
        "train_2 = prepare_mnist_data(2,batch_size,train_ds)\n",
        "test_2 = prepare_mnist_data(2,batch_size,test_ds)"
      ],
      "metadata": {
        "id": "cu6QEg08F9oO"
      },
      "execution_count": 4,
      "outputs": []
    },
    {
      "cell_type": "code",
      "source": [
        "#have a look at the triple \n",
        "for i in train_2.take(1):\n",
        "  print(\"pic1:\", i[0], \"\\npic2: \", i[1], \"\\ntarget: \",i[2], i[2].shape)"
      ],
      "metadata": {
        "colab": {
          "base_uri": "https://localhost:8080/"
        },
        "id": "ICF7qQwSDbRy",
        "outputId": "dfdbebe9-5b89-4ceb-dc98-5a23e69a29fc"
      },
      "execution_count": 5,
      "outputs": [
        {
          "output_type": "stream",
          "name": "stdout",
          "text": [
            "pic1: tf.Tensor(\n",
            "[[-1. -1. -1. ... -1. -1. -1.]\n",
            " [-1. -1. -1. ... -1. -1. -1.]\n",
            " [-1. -1. -1. ... -1. -1. -1.]\n",
            " ...\n",
            " [-1. -1. -1. ... -1. -1. -1.]\n",
            " [-1. -1. -1. ... -1. -1. -1.]\n",
            " [-1. -1. -1. ... -1. -1. -1.]], shape=(32, 784), dtype=float32) \n",
            "pic2:  tf.Tensor(\n",
            "[[-1. -1. -1. ... -1. -1. -1.]\n",
            " [-1. -1. -1. ... -1. -1. -1.]\n",
            " [-1. -1. -1. ... -1. -1. -1.]\n",
            " ...\n",
            " [-1. -1. -1. ... -1. -1. -1.]\n",
            " [-1. -1. -1. ... -1. -1. -1.]\n",
            " [-1. -1. -1. ... -1. -1. -1.]], shape=(32, 784), dtype=float32) \n",
            "target:  tf.Tensor(\n",
            "[ 4  1 -3  6 -6 -3 -7 -5 -1  1  2  6 -2 -5 -5  7  2  6  1  3 -7  2  3  4\n",
            "  0  3  2 -8  3  1 -2  2], shape=(32,), dtype=int32) (32,)\n"
          ]
        }
      ]
    },
    {
      "cell_type": "code",
      "source": [
        "\"\"\"\n",
        "@authors: faurand, chardes, ehagensieker\n",
        "\"\"\"\n",
        "class MyModel(tf.keras.Model):\n",
        "  \"\"\"\n",
        "  The model we are using for predicting the outcome \n",
        "  \"\"\" \n",
        "  def __init__(self, task=1):\n",
        "    \"\"\"\n",
        "    Initializing the model \n",
        "    \"\"\"\n",
        "    #inherit from parent class\n",
        "    super(MyModel, self).__init__()\n",
        "    \n",
        "    #depending on the task to perform we need different activation functions for the output layer \n",
        "    #and different metrics\n",
        "    if task==1:\n",
        "      self.metrics_list = [tf.keras.metrics.Mean(name = 'loss'),tf.keras.metrics.BinaryAccuracy(name = \"acc\")]\n",
        "      self.loss_function = tf.keras.losses.BinaryCrossentropy()\n",
        "      self.dense1 = tf.keras.layers.Dense(256, activation=tf.nn.relu)\n",
        "      self.dense2 = tf.keras.layers.Dense(256, activation=tf.nn.relu)\n",
        "      self.out_layer = tf.keras.layers.Dense(1, activation=tf.nn.sigmoid)\n",
        "\n",
        "    elif task==2:\n",
        "      self.metrics_list = [tf.keras.metrics.Mean(name = 'loss'),tf.keras.metrics.MeanSquaredLogarithmicError(name = \"MSLE\")]\n",
        "      self.loss_function = tf.keras.losses.MeanSquaredError()\n",
        "      self.dense1 = tf.keras.layers.Dense(256, activation= tf.nn.relu)\n",
        "      self.dense2 = tf.keras.layers.Dense(256, activation= tf.nn.relu)\n",
        "      self.out_layer = tf.keras.layers.Dense(1, activation= \"linear\")\n",
        "\n",
        "    else: print(\"Exception\")\n",
        "\n",
        "    #self.learning_rate = 0.001\n",
        "    self.optimizer = tf.keras.optimizers.Adam()\n",
        "\n",
        "  @tf.function \n",
        "  def call(self, images):\n",
        "    \"\"\"\n",
        "    how to forward the images through the layer\n",
        "    \"\"\"\n",
        "    img1, img2 = images \n",
        "\n",
        "    img1_x = self.dense1(img1)\n",
        "    img1_x = self.dense2(img1_x)\n",
        "\n",
        "    img2_x = self.dense1(img2)\n",
        "    img2_x = self.dense2(img2_x)\n",
        "\n",
        "    combined = tf.concat([img1_x, img2_x], axis = 1)\n",
        "    out = self.out_layer(combined)\n",
        "\n",
        "    return out\n",
        "\n",
        "  @property\n",
        "  def metrics(self):\n",
        "    return self.metrics_list\n",
        "\n",
        "\n",
        "  def reset_metric(self):\n",
        "    for metric in self.metrics: \n",
        "      metric.reset_states()\n",
        "\n",
        "  @tf.function \n",
        "  def train_step(self, data):\n",
        "    img1, img2, t = data\n",
        "\n",
        "    with tf.GradientTape() as tape:\n",
        "      output = self((img1, img2), training = True)\n",
        "      loss = self.loss_function(t, output)\n",
        "    \n",
        "    gradients = tape.gradient(loss, self.trainable_variables)\n",
        "    self.optimizer.apply_gradients(zip(gradients, self.trainable_variables))\n",
        "\n",
        "    self.metrics[0].update_state(loss)\n",
        "    \n",
        "    for metric in self.metrics[1:]:\n",
        "          metric.update_state(t,output)\n",
        "\n",
        "    return {metric.name: metric.result() for metric in self.metrics}\n",
        "\n",
        "  @tf.function\n",
        "  def test_step(self, data):\n",
        "    img1, img2, t = data\n",
        "\n",
        "    output = self((img1,img2), training = False)\n",
        "    loss = self.loss_function(t, output)\n",
        "\n",
        "    self.metrics[0].update_state(loss)\n",
        "\n",
        "    for metric in self.metrics[1:]:\n",
        "          metric.update_state(t,output)\n",
        "    \n",
        "    return {metric.name: metric.result() for metric in self.metrics}\n",
        "\n",
        "\n",
        "    \n"
      ],
      "metadata": {
        "id": "dUQ1Kr1dAPXP"
      },
      "execution_count": 6,
      "outputs": []
    },
    {
      "cell_type": "code",
      "source": [
        "import tqdm\n",
        "import pprint \n",
        "\n",
        "def training_loop(model, train_ds, val_ds, epochs, train_summary_writer, val_summary_writer): \n",
        "  #iterate over given amount of epochs\n",
        "  for epoch in range(epochs): \n",
        "    print(f\"Epoch {epoch}: \")\n",
        "\n",
        "    #train on all batches of the training data\n",
        "    for data in tqdm.tqdm(train_ds, position = 0, leave = True):\n",
        "\n",
        "      metrics = model.train_step(data)\n",
        "\n",
        "      with train_summary_writer.as_default(): \n",
        "        for metric in model.metrics: \n",
        "          tf.summary.scalar(f\"{metric.name}\", metric.result(), step=epoch)\n",
        "\n",
        "    # print the metrics\n",
        "    print([f\"Train {key}: {value.numpy()}\" for (key, value) in metrics.items()])\n",
        "\n",
        "    #reset metric \n",
        "    model.reset_metrics()\n",
        "  \n",
        "    #evaluation on validation set\n",
        "    for data in val_ds:\n",
        "      metrics = model.test_step(data)\n",
        "\n",
        "      with val_summary_writer.as_default():\n",
        "        for metric in model.metrics:\n",
        "          tf.summary.scalar(f\"{metric.name}\", metric.result(), step=epoch)\n",
        "      \n",
        "    # print the metrics\n",
        "    print([f\"Test {key}: {value.numpy()}\" for (key, value) in metrics.items()])\n",
        "\n",
        "    #reset metric\n",
        "    model.reset_metric()\n",
        "\n",
        "    print(\"\\n\")\n",
        "      \n",
        "    "
      ],
      "metadata": {
        "id": "AI2WJpkkMhEO"
      },
      "execution_count": 7,
      "outputs": []
    },
    {
      "cell_type": "code",
      "source": [
        "def run(task, train_summary_writer, val_summary_writer):\n",
        "  ### Hyperparameters\n",
        "  num_epochs = 5\n",
        "  batch_size = 32\n",
        "  if task == 1:\n",
        "    train = prepare_mnist_data(1,batch_size,train_ds)\n",
        "    test = prepare_mnist_data(1,batch_size,test_ds)\n",
        "  if task == 2:\n",
        "    train = prepare_mnist_data(2,batch_size,train_ds)\n",
        "    test = prepare_mnist_data(2,batch_size,test_ds)\n",
        "    \n",
        "  train_dataset = train\n",
        "  test_dataset = test\n",
        "\n",
        "  # Initialize the model.\n",
        "  model = MyModel(task)\n",
        "\n",
        "  training_loop(model,train_dataset,test_dataset,num_epochs,train_summary_writer, val_summary_writer)"
      ],
      "metadata": {
        "id": "4qLXtIkAFun0"
      },
      "execution_count": 8,
      "outputs": []
    },
    {
      "cell_type": "code",
      "source": [
        "config_name = \"config_name\"\n",
        "current_time = datetime.datetime.now().strftime(\"%Y%m%d-%H%M%S\")\n",
        "\n",
        "train_log_path = f\"logs/{config_name}/{current_time}/train\"\n",
        "val_log_path = f\"logs/{config_name}/{current_time}/val\"\n",
        "\n",
        "#log writer \n",
        "train_summary_writer = tf.summary.create_file_writer(train_log_path)\n",
        "\n",
        "val_summary_writer = tf.summary.create_file_writer(val_log_path)\n",
        "\n",
        "\n",
        "run(2, train_summary_writer, val_summary_writer)"
      ],
      "metadata": {
        "id": "yh-7_Bnt8xKR",
        "colab": {
          "base_uri": "https://localhost:8080/"
        },
        "outputId": "2a23cece-61dc-440e-9a8c-8ae347cab47f"
      },
      "execution_count": 9,
      "outputs": [
        {
          "output_type": "stream",
          "name": "stdout",
          "text": [
            "Epoch 0: \n"
          ]
        },
        {
          "output_type": "stream",
          "name": "stderr",
          "text": [
            "100%|██████████| 1875/1875 [01:22<00:00, 22.81it/s] \n"
          ]
        },
        {
          "output_type": "stream",
          "name": "stdout",
          "text": [
            "['Train loss: 2.985417127609253', 'Train MSLE: 0.1555890291929245']\n",
            "['Test loss: 1.7492034435272217', 'Test MSLE: 0.0990067720413208']\n",
            "\n",
            "\n",
            "Epoch 1: \n"
          ]
        },
        {
          "output_type": "stream",
          "name": "stderr",
          "text": [
            "100%|██████████| 1875/1875 [00:20<00:00, 91.62it/s] \n"
          ]
        },
        {
          "output_type": "stream",
          "name": "stdout",
          "text": [
            "['Train loss: 1.4656702280044556', 'Train MSLE: 0.07983618974685669']\n",
            "['Test loss: 1.3469080924987793', 'Test MSLE: 0.07447585463523865']\n",
            "\n",
            "\n",
            "Epoch 2: \n"
          ]
        },
        {
          "output_type": "stream",
          "name": "stderr",
          "text": [
            "100%|██████████| 1875/1875 [00:20<00:00, 91.62it/s] \n"
          ]
        },
        {
          "output_type": "stream",
          "name": "stdout",
          "text": [
            "['Train loss: 1.1286773681640625', 'Train MSLE: 0.06307133287191391']\n",
            "['Test loss: 1.1361355781555176', 'Test MSLE: 0.06461934745311737']\n",
            "\n",
            "\n",
            "Epoch 3: \n"
          ]
        },
        {
          "output_type": "stream",
          "name": "stderr",
          "text": [
            "100%|██████████| 1875/1875 [00:16<00:00, 110.99it/s]\n"
          ]
        },
        {
          "output_type": "stream",
          "name": "stdout",
          "text": [
            "['Train loss: 0.9393724203109741', 'Train MSLE: 0.05256935581564903']\n",
            "['Test loss: 1.0879449844360352', 'Test MSLE: 0.061035655438899994']\n",
            "\n",
            "\n",
            "Epoch 4: \n"
          ]
        },
        {
          "output_type": "stream",
          "name": "stderr",
          "text": [
            "100%|██████████| 1875/1875 [00:17<00:00, 109.73it/s]\n"
          ]
        },
        {
          "output_type": "stream",
          "name": "stdout",
          "text": [
            "['Train loss: 0.798486053943634', 'Train MSLE: 0.04503233730792999']\n",
            "['Test loss: 1.0625007152557373', 'Test MSLE: 0.05864708125591278']\n",
            "\n",
            "\n"
          ]
        }
      ]
    }
  ]
}