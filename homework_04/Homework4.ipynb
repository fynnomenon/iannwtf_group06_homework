{
  "nbformat": 4,
  "nbformat_minor": 0,
  "metadata": {
    "colab": {
      "provenance": []
    },
    "kernelspec": {
      "name": "python3",
      "display_name": "Python 3"
    },
    "language_info": {
      "name": "python"
    },
    "widgets": {
      "application/vnd.jupyter.widget-state+json": {
        "0ad4c6786c3c4404864f871d5672e9ef": {
          "model_module": "@jupyter-widgets/controls",
          "model_name": "HBoxModel",
          "model_module_version": "1.5.0",
          "state": {
            "_dom_classes": [],
            "_model_module": "@jupyter-widgets/controls",
            "_model_module_version": "1.5.0",
            "_model_name": "HBoxModel",
            "_view_count": null,
            "_view_module": "@jupyter-widgets/controls",
            "_view_module_version": "1.5.0",
            "_view_name": "HBoxView",
            "box_style": "",
            "children": [
              "IPY_MODEL_ef88315d23054c6bae998e01c0302a75",
              "IPY_MODEL_3590baa3ba9e45febaddbe6efa29aae3",
              "IPY_MODEL_07d9d69ca36c420196dc230da2b3147a"
            ],
            "layout": "IPY_MODEL_61df8557a66746489dd06a3bb5a2b997"
          }
        },
        "ef88315d23054c6bae998e01c0302a75": {
          "model_module": "@jupyter-widgets/controls",
          "model_name": "HTMLModel",
          "model_module_version": "1.5.0",
          "state": {
            "_dom_classes": [],
            "_model_module": "@jupyter-widgets/controls",
            "_model_module_version": "1.5.0",
            "_model_name": "HTMLModel",
            "_view_count": null,
            "_view_module": "@jupyter-widgets/controls",
            "_view_module_version": "1.5.0",
            "_view_name": "HTMLView",
            "description": "",
            "description_tooltip": null,
            "layout": "IPY_MODEL_0929c3796bee45e9abcfd0b635aa9d1b",
            "placeholder": "​",
            "style": "IPY_MODEL_1114d81f55b842c78154a2ec3cabb718",
            "value": "Dl Completed...: 100%"
          }
        },
        "3590baa3ba9e45febaddbe6efa29aae3": {
          "model_module": "@jupyter-widgets/controls",
          "model_name": "FloatProgressModel",
          "model_module_version": "1.5.0",
          "state": {
            "_dom_classes": [],
            "_model_module": "@jupyter-widgets/controls",
            "_model_module_version": "1.5.0",
            "_model_name": "FloatProgressModel",
            "_view_count": null,
            "_view_module": "@jupyter-widgets/controls",
            "_view_module_version": "1.5.0",
            "_view_name": "ProgressView",
            "bar_style": "success",
            "description": "",
            "description_tooltip": null,
            "layout": "IPY_MODEL_2b1a94d1502546e5bb0efc8886b6a92a",
            "max": 4,
            "min": 0,
            "orientation": "horizontal",
            "style": "IPY_MODEL_c76a3579cc4441638d702fd64140dbf2",
            "value": 4
          }
        },
        "07d9d69ca36c420196dc230da2b3147a": {
          "model_module": "@jupyter-widgets/controls",
          "model_name": "HTMLModel",
          "model_module_version": "1.5.0",
          "state": {
            "_dom_classes": [],
            "_model_module": "@jupyter-widgets/controls",
            "_model_module_version": "1.5.0",
            "_model_name": "HTMLModel",
            "_view_count": null,
            "_view_module": "@jupyter-widgets/controls",
            "_view_module_version": "1.5.0",
            "_view_name": "HTMLView",
            "description": "",
            "description_tooltip": null,
            "layout": "IPY_MODEL_8f5756b435924016ab6fe6f48c74cd6f",
            "placeholder": "​",
            "style": "IPY_MODEL_24da62daac194fb48b86dcd7df8bb39a",
            "value": " 4/4 [00:01&lt;00:00,  3.18 file/s]"
          }
        },
        "61df8557a66746489dd06a3bb5a2b997": {
          "model_module": "@jupyter-widgets/base",
          "model_name": "LayoutModel",
          "model_module_version": "1.2.0",
          "state": {
            "_model_module": "@jupyter-widgets/base",
            "_model_module_version": "1.2.0",
            "_model_name": "LayoutModel",
            "_view_count": null,
            "_view_module": "@jupyter-widgets/base",
            "_view_module_version": "1.2.0",
            "_view_name": "LayoutView",
            "align_content": null,
            "align_items": null,
            "align_self": null,
            "border": null,
            "bottom": null,
            "display": null,
            "flex": null,
            "flex_flow": null,
            "grid_area": null,
            "grid_auto_columns": null,
            "grid_auto_flow": null,
            "grid_auto_rows": null,
            "grid_column": null,
            "grid_gap": null,
            "grid_row": null,
            "grid_template_areas": null,
            "grid_template_columns": null,
            "grid_template_rows": null,
            "height": null,
            "justify_content": null,
            "justify_items": null,
            "left": null,
            "margin": null,
            "max_height": null,
            "max_width": null,
            "min_height": null,
            "min_width": null,
            "object_fit": null,
            "object_position": null,
            "order": null,
            "overflow": null,
            "overflow_x": null,
            "overflow_y": null,
            "padding": null,
            "right": null,
            "top": null,
            "visibility": null,
            "width": null
          }
        },
        "0929c3796bee45e9abcfd0b635aa9d1b": {
          "model_module": "@jupyter-widgets/base",
          "model_name": "LayoutModel",
          "model_module_version": "1.2.0",
          "state": {
            "_model_module": "@jupyter-widgets/base",
            "_model_module_version": "1.2.0",
            "_model_name": "LayoutModel",
            "_view_count": null,
            "_view_module": "@jupyter-widgets/base",
            "_view_module_version": "1.2.0",
            "_view_name": "LayoutView",
            "align_content": null,
            "align_items": null,
            "align_self": null,
            "border": null,
            "bottom": null,
            "display": null,
            "flex": null,
            "flex_flow": null,
            "grid_area": null,
            "grid_auto_columns": null,
            "grid_auto_flow": null,
            "grid_auto_rows": null,
            "grid_column": null,
            "grid_gap": null,
            "grid_row": null,
            "grid_template_areas": null,
            "grid_template_columns": null,
            "grid_template_rows": null,
            "height": null,
            "justify_content": null,
            "justify_items": null,
            "left": null,
            "margin": null,
            "max_height": null,
            "max_width": null,
            "min_height": null,
            "min_width": null,
            "object_fit": null,
            "object_position": null,
            "order": null,
            "overflow": null,
            "overflow_x": null,
            "overflow_y": null,
            "padding": null,
            "right": null,
            "top": null,
            "visibility": null,
            "width": null
          }
        },
        "1114d81f55b842c78154a2ec3cabb718": {
          "model_module": "@jupyter-widgets/controls",
          "model_name": "DescriptionStyleModel",
          "model_module_version": "1.5.0",
          "state": {
            "_model_module": "@jupyter-widgets/controls",
            "_model_module_version": "1.5.0",
            "_model_name": "DescriptionStyleModel",
            "_view_count": null,
            "_view_module": "@jupyter-widgets/base",
            "_view_module_version": "1.2.0",
            "_view_name": "StyleView",
            "description_width": ""
          }
        },
        "2b1a94d1502546e5bb0efc8886b6a92a": {
          "model_module": "@jupyter-widgets/base",
          "model_name": "LayoutModel",
          "model_module_version": "1.2.0",
          "state": {
            "_model_module": "@jupyter-widgets/base",
            "_model_module_version": "1.2.0",
            "_model_name": "LayoutModel",
            "_view_count": null,
            "_view_module": "@jupyter-widgets/base",
            "_view_module_version": "1.2.0",
            "_view_name": "LayoutView",
            "align_content": null,
            "align_items": null,
            "align_self": null,
            "border": null,
            "bottom": null,
            "display": null,
            "flex": null,
            "flex_flow": null,
            "grid_area": null,
            "grid_auto_columns": null,
            "grid_auto_flow": null,
            "grid_auto_rows": null,
            "grid_column": null,
            "grid_gap": null,
            "grid_row": null,
            "grid_template_areas": null,
            "grid_template_columns": null,
            "grid_template_rows": null,
            "height": null,
            "justify_content": null,
            "justify_items": null,
            "left": null,
            "margin": null,
            "max_height": null,
            "max_width": null,
            "min_height": null,
            "min_width": null,
            "object_fit": null,
            "object_position": null,
            "order": null,
            "overflow": null,
            "overflow_x": null,
            "overflow_y": null,
            "padding": null,
            "right": null,
            "top": null,
            "visibility": null,
            "width": null
          }
        },
        "c76a3579cc4441638d702fd64140dbf2": {
          "model_module": "@jupyter-widgets/controls",
          "model_name": "ProgressStyleModel",
          "model_module_version": "1.5.0",
          "state": {
            "_model_module": "@jupyter-widgets/controls",
            "_model_module_version": "1.5.0",
            "_model_name": "ProgressStyleModel",
            "_view_count": null,
            "_view_module": "@jupyter-widgets/base",
            "_view_module_version": "1.2.0",
            "_view_name": "StyleView",
            "bar_color": null,
            "description_width": ""
          }
        },
        "8f5756b435924016ab6fe6f48c74cd6f": {
          "model_module": "@jupyter-widgets/base",
          "model_name": "LayoutModel",
          "model_module_version": "1.2.0",
          "state": {
            "_model_module": "@jupyter-widgets/base",
            "_model_module_version": "1.2.0",
            "_model_name": "LayoutModel",
            "_view_count": null,
            "_view_module": "@jupyter-widgets/base",
            "_view_module_version": "1.2.0",
            "_view_name": "LayoutView",
            "align_content": null,
            "align_items": null,
            "align_self": null,
            "border": null,
            "bottom": null,
            "display": null,
            "flex": null,
            "flex_flow": null,
            "grid_area": null,
            "grid_auto_columns": null,
            "grid_auto_flow": null,
            "grid_auto_rows": null,
            "grid_column": null,
            "grid_gap": null,
            "grid_row": null,
            "grid_template_areas": null,
            "grid_template_columns": null,
            "grid_template_rows": null,
            "height": null,
            "justify_content": null,
            "justify_items": null,
            "left": null,
            "margin": null,
            "max_height": null,
            "max_width": null,
            "min_height": null,
            "min_width": null,
            "object_fit": null,
            "object_position": null,
            "order": null,
            "overflow": null,
            "overflow_x": null,
            "overflow_y": null,
            "padding": null,
            "right": null,
            "top": null,
            "visibility": null,
            "width": null
          }
        },
        "24da62daac194fb48b86dcd7df8bb39a": {
          "model_module": "@jupyter-widgets/controls",
          "model_name": "DescriptionStyleModel",
          "model_module_version": "1.5.0",
          "state": {
            "_model_module": "@jupyter-widgets/controls",
            "_model_module_version": "1.5.0",
            "_model_name": "DescriptionStyleModel",
            "_view_count": null,
            "_view_module": "@jupyter-widgets/base",
            "_view_module_version": "1.2.0",
            "_view_name": "StyleView",
            "description_width": ""
          }
        }
      }
    }
  },
  "cells": [
    {
      "cell_type": "code",
      "execution_count": null,
      "metadata": {
        "id": "oZls_gB8r-BP",
        "colab": {
          "base_uri": "https://localhost:8080/",
          "height": 104,
          "referenced_widgets": [
            "0ad4c6786c3c4404864f871d5672e9ef",
            "ef88315d23054c6bae998e01c0302a75",
            "3590baa3ba9e45febaddbe6efa29aae3",
            "07d9d69ca36c420196dc230da2b3147a",
            "61df8557a66746489dd06a3bb5a2b997",
            "0929c3796bee45e9abcfd0b635aa9d1b",
            "1114d81f55b842c78154a2ec3cabb718",
            "2b1a94d1502546e5bb0efc8886b6a92a",
            "c76a3579cc4441638d702fd64140dbf2",
            "8f5756b435924016ab6fe6f48c74cd6f",
            "24da62daac194fb48b86dcd7df8bb39a"
          ]
        },
        "outputId": "eee14f62-b69d-45ae-e16c-3e5c69664242"
      },
      "outputs": [
        {
          "output_type": "stream",
          "name": "stdout",
          "text": [
            "Downloading and preparing dataset 11.06 MiB (download: 11.06 MiB, generated: 21.00 MiB, total: 32.06 MiB) to ~/tensorflow_datasets/mnist/3.0.1...\n"
          ]
        },
        {
          "output_type": "display_data",
          "data": {
            "text/plain": [
              "Dl Completed...:   0%|          | 0/4 [00:00<?, ? file/s]"
            ],
            "application/vnd.jupyter.widget-view+json": {
              "version_major": 2,
              "version_minor": 0,
              "model_id": "0ad4c6786c3c4404864f871d5672e9ef"
            }
          },
          "metadata": {}
        },
        {
          "output_type": "stream",
          "name": "stdout",
          "text": [
            "Dataset mnist downloaded and prepared to ~/tensorflow_datasets/mnist/3.0.1. Subsequent calls will reuse this data.\n"
          ]
        }
      ],
      "source": [
        "\"\"\"\n",
        "@authors: faurand, chardes, ehagensieker\n",
        "\"\"\"\n",
        "import tensorflow_datasets as tfds\n",
        "import tensorflow as tf\n",
        "import numpy as np \n",
        "\n",
        "#load the mnist dataset\n",
        "(train_ds, test_ds), ds_info = tfds.load('mnist', split=['train', 'test'], as_supervised=True, with_info = True)\n"
      ]
    },
    {
      "cell_type": "code",
      "source": [
        "\n",
        "import math\n",
        "import datetime\n",
        "\n",
        "# in a notebook, load the tensorboard extension, not needed for scripts\n",
        "%load_ext tensorboard"
      ],
      "metadata": {
        "id": "Uqnj33egyzSz"
      },
      "execution_count": null,
      "outputs": []
    },
    {
      "cell_type": "code",
      "source": [
        "def prepare_mnist_data(task,mnist):\n",
        "  \n",
        "  #flatten the images into one dimensional vector\n",
        "  mnist = mnist.map(lambda img, target: (tf.reshape(img, (-1,)), target))\n",
        "  #convert data from uint8 to float32\n",
        "  mnist = mnist.map(lambda img, target: (tf.cast(img, tf.float32), target))\n",
        "  #normalization to have input of range [-1,1]\n",
        "  mnist = mnist.map(lambda img, target: ((img/128.)-1., target))\n",
        "  #create one-hot vector targets\n",
        "  #mnist = mnist.map(lambda img, target: (img, tf.one_hot(target, depth=10)))\n",
        "  mnist = tf.data.Dataset.zip((mnist.shuffle(2000), mnist.shuffle(2000)))\n",
        "  #mnist = mnist.map(lambda zip(pic1,pic2): (pic1[0],pic2[0],pic1[1],pic2[1]))\n",
        "  mnist = calc(task,mnist)\n",
        "  #mnist = mnist.map(lambda img, target: (img, target ))\n",
        "  #cache this progress in memory - improve performance\n",
        "  mnist = mnist.cache()\n",
        "  #shuffle, batch, prefetch\n",
        "  mnist = mnist.shuffle(1000)\n",
        "  mnist = mnist.batch(32)\n",
        "  mnist = mnist.prefetch(20)\n",
        "\n",
        "  #return preprocessed dataset\n",
        "  return mnist\n",
        "\n",
        "#apply the preprocessing to both data sets\n",
        "# train_1 = prepare_mnist_data(1,train_ds)\n",
        "# test_1 = prepare_mnist_data(1,test_ds)\n",
        "\n",
        "# train_2 = prepare_mnist_data(2,train_ds)\n",
        "# test_2 = prepare_mnist_data(2,test_ds)"
      ],
      "metadata": {
        "id": "C9keSyWGr_bp"
      },
      "execution_count": null,
      "outputs": []
    },
    {
      "cell_type": "code",
      "source": [
        "def calc(task,mnist):\n",
        "  if task == 1:\n",
        "    mnist = mnist.map(lambda pic1,pic2: (pic1[0],pic2[0],tf.cast((pic1[1] + pic2[1] >= 5), tf.int32)))\n",
        "    return mnist\n",
        "  if task == 2:\n",
        "    mnist = mnist.map(lambda pic1,pic2: (pic1[0],pic2[0], pic1[1]-pic2[1]))\n",
        "    mnist = mnist.map(lambda img1,img2,target: (img1,img2,tf.one_hot(target, depth=19)))\n",
        "    return mnist\n",
        "  \n"
      ],
      "metadata": {
        "id": "FMLYnL5T1CkP"
      },
      "execution_count": null,
      "outputs": []
    },
    {
      "cell_type": "code",
      "source": [
        "for i in train_2.take(1):\n",
        "  print(\"pic1:\", i[0], \"\\npic2: \", i[1], \"\\ntarget: \",i[2])"
      ],
      "metadata": {
        "id": "bnzB_H8_EDnv"
      },
      "execution_count": null,
      "outputs": []
    },
    {
      "cell_type": "code",
      "source": [
        "\"\"\"\n",
        "@authors: faurand, chardes, ehagensieker\n",
        "\"\"\"\n",
        "from tensorflow.keras.layers import Dense\n",
        "\n",
        "class MyModel(tf.keras.Model):\n",
        "    \n",
        "    def __init__(self,task=1):\n",
        "        #initialize the model with n fully connected layer\n",
        "        #inherits from tf.keras.Model\n",
        "        super(MyModel, self).__init__()\n",
        "\n",
        "        self.dense1 = tf.keras.layers.Dense(256, activation=tf.nn.relu)\n",
        "        self.dense2 = tf.keras.layers.Dense(256, activation=tf.nn.relu)\n",
        "        #self.dense3 = tf.keras.layers.Dense(128, activation=tf.nn.relu)\n",
        "        #self.dense1 = tf.keras.layers.Dense(10, activation=tf.nn.relu)\n",
        "        if task==1:\n",
        "          self.metrics_list = [tf.keras.metrics.Mean(name = 'loss'),tf.keras.metrics.BinaryAccuracy(name = \"acc\")]\n",
        "          self.loss_function = tf.keras.losses.BinaryCrossentropy()\n",
        "          self.out_layer = tf.keras.layers.Dense(1, activation=tf.nn.sigmoid)\n",
        "        elif task==2:\n",
        "          self.metrics_list = [tf.keras.metrics.Mean(name = 'loss'),tf.keras.metrics.CategoricalAccuracy(name = \"acc\")]\n",
        "          self.loss_function = tf.keras.losses.CategoricalCrossentropy()\n",
        "          self.out_layer = tf.keras.layers.Dense(19, activation=tf.nn.softmax)\n",
        "        else: print(\"Exception\")\n",
        "\n",
        "        #self.learning_rate = 0.001\n",
        "        self.optimizer = tf.keras.optimizers.Adam()\n",
        "\n",
        "    @tf.function \n",
        "    def call(self, images):\n",
        "      \"\"\"\n",
        "      how to forward the images through the layer\n",
        "      \"\"\"\n",
        "      img1, img2 = images \n",
        "\n",
        "      img1_x = self.dense1(img1)\n",
        "      img1_x = self.dense2(img1_x)\n",
        "\n",
        "      img2_x = self.dense1(img2)\n",
        "      img2_x = self.dense2(img2_x)\n",
        "\n",
        "      combined = tf.concat([img1_x, img2_x], axis = 1)\n",
        "      out = self.out_layer(combined)\n",
        "\n",
        "      return out\n",
        "\n",
        "    @property\n",
        "    def metrics(self):\n",
        "      return self.metrics_list\n",
        "\n",
        "\n",
        "    def reset_metric(self):\n",
        "      for metric in self.metrics: \n",
        "        metric.reset_states()\n",
        "\n",
        "    @tf.function \n",
        "    def train_step(self, data):\n",
        "      img1, img2, t = data\n",
        "\n",
        "      with tf.GradientTape() as tape:\n",
        "        output = self((img1, img2), training = True)\n",
        "        loss = self.loss_function(t, output)\n",
        "\n",
        "      gradients = tape.gradient(loss, self.trainable_variables)\n",
        "      self.optimizer.apply_gradients(zip(gradients, self.trainable_variables))\n",
        "        \n",
        "      self.metrics[0].update_state(loss)\n",
        "      # # for all metrics except loss, update states (accuracy etc.)\n",
        "      for metric in self.metrics[1:]:\n",
        "          metric.update_state(t,output)\n",
        "      \n",
        "      return {metric.name: metric.result() for metric in self.metrics}\n",
        "\n",
        "    @tf.function\n",
        "    def test_step(self, data):\n",
        "      img1,img2, t = data\n",
        "\n",
        "      prediction = self((img1,img2), training = False)\n",
        "      loss = self.loss_function(t, prediction)\n",
        "\n",
        "      self.metrics[0].update_state(loss)\n",
        "      for metric in self.metrics[1:]:\n",
        "          metric.update_state(t, prediction)\n",
        "          \n",
        "      return {metric.name: metric.result() for metric in self.metrics}\n",
        "\n",
        "    "
      ],
      "metadata": {
        "id": "gW2dxVX_sCBh"
      },
      "execution_count": null,
      "outputs": []
    },
    {
      "cell_type": "code",
      "execution_count": null,
      "metadata": {
        "id": "YHVWEvGe1BEq"
      },
      "outputs": [],
      "source": [
        "# Define where to save the log\n",
        "config_name= \"config_name\"\n",
        "current_time = datetime.datetime.now().strftime(\"%Y%m%d-%H%M%S\")\n",
        "\n",
        "train_log_path = f\"logs/{config_name}/{current_time}/train\"\n",
        "val_log_path = f\"logs/{config_name}/{current_time}/val\"\n",
        "\n",
        "# log writer for training metrics\n",
        "train_summary_writer = tf.summary.create_file_writer(train_log_path)\n",
        "\n",
        "# log writer for validation metrics\n",
        "val_summary_writer = tf.summary.create_file_writer(val_log_path)"
      ]
    },
    {
      "cell_type": "code",
      "execution_count": null,
      "metadata": {
        "id": "qwcI76MR1BEr"
      },
      "outputs": [],
      "source": [
        "import pprint\n",
        "import tqdm\n",
        "\n",
        "def training_loop(model, train_ds, val_ds, epochs, train_summary_writer, val_summary_writer):\n",
        "    for epoch in range(epochs):\n",
        "        print(f\"Epoch {epoch}:\")\n",
        "        \n",
        "        # Training:\n",
        "        \n",
        "        for data in tqdm.tqdm(train_ds, position=0, leave=True):\n",
        "            metrics = model.train_step(data)\n",
        "            \n",
        "            # logging the validation metrics to the log file which is used by tensorboard\n",
        "            with train_summary_writer.as_default():\n",
        "                for metric in model.metrics:\n",
        "                    tf.summary.scalar(f\"{metric.name}\", metric.result(), step=epoch)\n",
        "\n",
        "        # print the metrics\n",
        "        print([f\"{key}: {value.numpy()}\" for (key, value) in metrics.items()])\n",
        "\n",
        "        # reset all metrics (requires a reset_metrics method in the model)\n",
        "        model.reset_metrics()    \n",
        "        \n",
        "        # Validation:\n",
        "        for data in val_ds:\n",
        "            metrics = model.test_step(data)\n",
        "        \n",
        "            # logging the validation metrics to the log file which is used by tensorboard\n",
        "            with val_summary_writer.as_default():\n",
        "                for metric in model.metrics:\n",
        "                    tf.summary.scalar(f\"{metric.name}\", metric.result(), step=epoch)\n",
        "                    \n",
        "        print([f\"val_{key}: {value.numpy()}\" for (key, value) in metrics.items()])\n",
        "\n",
        "        # reset all metrics\n",
        "        model.reset_metrics()\n",
        "        print(\"\\n\")"
      ]
    },
    {
      "cell_type": "code",
      "source": [
        "def run(task):\n",
        "  if task == 1:\n",
        "    train = prepare_mnist_data(1,train_ds)\n",
        "    test = prepare_mnist_data(1,test_ds)\n",
        "  if task == 2:\n",
        "    train = prepare_mnist_data(2,train_ds)\n",
        "    test = prepare_mnist_data(2,test_ds)\n",
        "    \n",
        "  train_dataset = train.take(1000)\n",
        "  test_dataset = test.take(100)\n",
        "\n",
        "    ### Hyperparameters\n",
        "  num_epochs = 2\n",
        "  \n",
        "\n",
        "  # Initialize the model.\n",
        "  model = MyModel(task)\n",
        "\n",
        "  training_loop(model,train_dataset,test_dataset,num_epochs,train_summary_writer, val_summary_writer)\n"
      ],
      "metadata": {
        "id": "2amHf4zuxL4n"
      },
      "execution_count": null,
      "outputs": []
    },
    {
      "cell_type": "code",
      "source": [
        "run(2)"
      ],
      "metadata": {
        "colab": {
          "base_uri": "https://localhost:8080/"
        },
        "id": "fHxpRrCKOoFU",
        "outputId": "cb97d739-3ebb-4845-e4c0-9c1315d7e32e"
      },
      "execution_count": null,
      "outputs": [
        {
          "output_type": "stream",
          "name": "stdout",
          "text": [
            "Epoch 0:\n"
          ]
        },
        {
          "output_type": "stream",
          "name": "stderr",
          "text": [
            "100%|██████████| 1000/1000 [00:20<00:00, 48.61it/s]\n"
          ]
        },
        {
          "output_type": "stream",
          "name": "stdout",
          "text": [
            "['loss: 1.0051546096801758', 'acc: 0.47359374165534973']\n",
            "['val_loss: 0.8592202663421631', 'val_acc: 0.5640624761581421']\n",
            "\n",
            "\n",
            "Epoch 1:\n"
          ]
        },
        {
          "output_type": "stream",
          "name": "stderr",
          "text": [
            "100%|██████████| 1000/1000 [00:20<00:00, 49.53it/s]\n"
          ]
        },
        {
          "output_type": "stream",
          "name": "stdout",
          "text": [
            "['loss: 0.8422827124595642', 'acc: 0.5996249914169312']\n",
            "['val_loss: 0.7816745638847351', 'val_acc: 0.6637499928474426']\n",
            "\n",
            "\n"
          ]
        }
      ]
    }
  ]
}