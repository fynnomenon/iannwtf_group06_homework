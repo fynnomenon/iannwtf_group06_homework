{
  "cells": [
    {
      "cell_type": "code",
      "execution_count": 1,
      "metadata": {
        "colab": {
          "base_uri": "https://localhost:8080/",
          "height": 168,
          "referenced_widgets": [
            "1adfba74e8124b38a39d8d55117f52b5",
            "211160977458483b98a50cd7b0c70e1b",
            "f7be84a7778d4c99a048b6e9f81e01cb",
            "fab3fabc89664fa08ac0c914cac06dae",
            "eda20f0ea0254fc2856846e4d3ea196d",
            "00f441b33b6c4bc1a562425432b0d2dc",
            "586f8d8bb94840059f236d6d2cff8cd7",
            "5f8a888418fd4097ac6fb9bda4b2832c",
            "2322ef51df1443ab8616d85280fb8d0c",
            "3dd8391d83824033a49b9676123e5e27",
            "18579e0473d54d4190c1bd46d6d55904",
            "d9f78c475ec1434cbfd819a1694b336e",
            "a80d222d9e88484f9240ce131acb30fb",
            "6ba193b957c64ea59f99e8ee478e09fe",
            "9bbb3952409c4bf89314c7db06d48bb5",
            "16b6eba681394a62b06554d1507e9e69",
            "e8b50033224047cbb0b517372454ca9e",
            "a62e36d678b94fa585e352c922693db3",
            "c2a8e9abaee740129715b5ce884961ea",
            "253f845b227440c2af405ba86110a1d2",
            "8185420c16924f849d7dbb1f30aeaa57",
            "ab4ff34d06014141875deb2b7e1d456f",
            "57d819004e0a4736b767684e57e71447",
            "9b257c3300b54b65bd0d9d80c58c2964",
            "828a3dfcc1dc4624b4bedd03baf0f6c7",
            "95ac3273d84141b5bec5ab2a5bd6db63",
            "ccf65da708584bb7a6c215ef8d9aed41",
            "419be71e6b134856aee0e16a038be277",
            "c9f8ee799697404fb0a877fc4352e2ef",
            "ffb8c19a5e274643a38c769a1ab54669",
            "c1a4ec47f3a34eec9bd8079a45d70afa",
            "d3a17c10086840439f6b4ccdaf5e253b",
            "e08774de1dc248179d1121b81fa5845a",
            "d03cf23ad4584f1cbed504219eb34069",
            "35bf07ce1f3a415884a8df2255d6afd8",
            "23ba958976f64ec4b4c7103f68e7b634",
            "7d5daff8da944c20bc93a5940ea74d3f",
            "d5d15b64eda745b78d2717a1ca315a04",
            "c8e61509cf7b4af2b310e8f4c82dd438",
            "7f30e55364da4cdd8adf3e395a6d2bc4",
            "90d8ba21faea4d6d90697bb9b8a35ff9",
            "00485ff760c04bde9ae60d35d54ebf33",
            "6ba318c5852245d385afe9defd77361c",
            "067b733bdc4346508248a81100d13d57",
            "820a8c379fb24943b430ecb239905a28",
            "29b64dd742eb44b69f6b3ea95e918e56",
            "046edeff8a8e450b876aa3621c9a8e28",
            "6470562adb134d65ae7296228e3b898f",
            "224660ec5ac640178f21f9e50f61c8fb",
            "eaa6caffd3c6410aa72de831f5929b74",
            "bdf135424bb24188b8589ca28dc21f22",
            "3e5b874ade004a67a4fc785ba28266c2",
            "5c49f1fe83484d11a8dfd940824305b0",
            "b33331b74356456a83f3584c90338fa6",
            "deb25b05b6a24cc7957f3be4f746ed58",
            "5979219b47e2466fb0a181ab74c4ee67",
            "6c0b228486524aa4802266ab024b74ca",
            "08639c41a7f5495ba0bd349e99a55218",
            "3918a2f3430d4ebf98f058bd7519c98c",
            "ad51fd8c44f1456f9a2b1f7853ce001c",
            "12f59ddbdbe84750980a53228605076a",
            "0817cb2bf18e4b3b95cacf61420af7e6",
            "df60cab1dbec42368e29719dbd987a53",
            "ba19948ac98c43c7a2387d7bfc17566b",
            "1aec71893a444d77848418b76d03577a",
            "d325a60965cb4a25ab2fad9c280419de",
            "1c34539be9e44ac9896041cfc718c4ae",
            "1310cc8d73b344bf8aeaebfaec7c4dc1",
            "673444e275a7499d86aef03ea44f17a2",
            "160e790bb690451b9a142adb893c2419",
            "fa59cf1715564eec99cf9a6fb1609f83",
            "1e094933ea074dca8bc4ec9e06a4c5a3",
            "4d9dfecdb0604676b6e5c25234a62597",
            "f113ece112744fa8bc3ebc41d27370c9",
            "dcdb9bf795f8468184f6aaeee372a2ff",
            "fb22f324910f495d99c8bbd76b479868",
            "f8b5b6e0b6904175875f10e79324c1cd",
            "c1280c2adf4c4cf193d00bb7ff5dac0b",
            "d9eac89acd99499cadabf0a26425e718",
            "d014a8756e4840d3aad8c784baa69207",
            "e52a84ef0f41429f9c8913403e9b7ff6",
            "58512c632fe24d81993e31e7d0ac2927",
            "b6884079c1a74cf3b101b215382024e3",
            "3a8c9337e37944a7969b6d2467e4c586",
            "8a47b2830bc54459933297664249de46",
            "605b96f80c884a17ad58194b996cb43b",
            "09e6cc3a45e34887b420efb440fe39c8",
            "de9a237cd2fc474b96d146272af389f4"
          ]
        },
        "id": "3eQD_OhqmeeB",
        "outputId": "ee5e2635-189a-4f1d-f356-62a4cec7d8fb"
      },
      "outputs": [
        {
          "name": "stderr",
          "output_type": "stream",
          "text": [
            "c:\\Users\\clara\\anaconda3\\envs\\iannwtf\\lib\\site-packages\\tqdm\\auto.py:22: TqdmWarning: IProgress not found. Please update jupyter and ipywidgets. See https://ipywidgets.readthedocs.io/en/stable/user_install.html\n",
            "  from .autonotebook import tqdm as notebook_tqdm\n",
            "WARNING:absl:Warning: Setting shuffle_files=True because split=TRAIN and shuffle_files=None. This behavior will be deprecated on 2019-08-06, at which point shuffle_files=False will be the default for all splits.\n"
          ]
        }
      ],
      "source": [
        "\"\"\"\n",
        "@authors: faurand, chardes, ehagensieker\n",
        "\"\"\"\n",
        "import tensorflow_datasets as tfds\n",
        "import tensorflow as tf\n",
        "import numpy as np\n",
        "import math\n",
        "import datetime\n",
        "import tqdm\n",
        "import pprint\n",
        "\n",
        "# in a notebook, load the tensorboard extension, not needed for scripts\n",
        "%load_ext tensorboard\n",
        "\n",
        "#load the mnist dataset\n",
        "(train_ds, test_ds) = tfds.load('cifar10', split=['train', 'test'], as_supervised=True)\n"
      ]
    },
    {
      "cell_type": "code",
      "execution_count": 2,
      "metadata": {
        "id": "cu6QEg08F9oO"
      },
      "outputs": [],
      "source": [
        "def prepare_data(batch_size, data): \n",
        "  '''\n",
        "  prepare the dataset to have one-hot-vectors and values between -1 and 1\n",
        "  '''\n",
        "  data = data.map(lambda img, target: (tf.cast(img, tf.float32), tf.cast(target,tf.int32)))\n",
        "  data = data.map(lambda img, target: ((img/128.)-1.0, target))\n",
        "  data = data.map(lambda img, target: (img, tf.one_hot(target, depth=10)))\n",
        "  \n",
        "  data = data.cache()\n",
        "  data = data.shuffle(1000)\n",
        "  data = data.batch(batch_size)\n",
        "  data = data.prefetch(20)\n",
        "\n",
        "  return data\n"
      ]
    },
    {
      "cell_type": "code",
      "execution_count": 3,
      "metadata": {
        "id": "NlczHtedKiWy"
      },
      "outputs": [],
      "source": [
        "from tensorflow.keras.layers import Dense\n",
        "\n",
        "class BasicConv(tf.keras.Model):\n",
        "  '''\n",
        "  create a small network with 2 blocks each having 2 layers and starting with 32 filters in the first layer\n",
        "  '''\n",
        "  def __init__(self,optimizer = tf.keras.optimizers.Adam()):\n",
        "    super(BasicConv, self).__init__()\n",
        "\n",
        "    self.optimizer = optimizer\n",
        "    self.loss_function = tf.keras.losses.CategoricalCrossentropy()\n",
        "\n",
        "    self.metrics_list = [ tf.keras.metrics.Mean(name=\"loss\"),\n",
        "                        tf.keras.metrics.CategoricalAccuracy(name=\"acc\"),\n",
        "    ]\n",
        "\n",
        "    #original input size is 32*32, we have 32 as number of filters\n",
        "    self.l1 = tf.keras.layers.Conv2D(filters = 32, kernel_size = 3, padding = 'same', activation = 'relu')\n",
        "    self.l2 = tf.keras.layers.Conv2D(filters = 32, kernel_size = 3, padding = 'same', activation = 'relu')\n",
        "\n",
        "    self.pooling = tf.keras.layers.MaxPooling2D(pool_size=2, strides=2)\n",
        "\n",
        "    #after pooling the size is reduced to 16*16\n",
        "    self.l3 = tf.keras.layers.Conv2D(filters = 64, kernel_size = 3, padding = 'same', activation = 'relu')\n",
        "    self.l4 = tf.keras.layers.Conv2D(filters = 64, kernel_size = 3, padding = 'same', activation = 'relu')\n",
        "\n",
        "    self.global_pool = tf.keras.layers.GlobalAvgPool2D()\n",
        "\n",
        "    # last layer is a dense layer with softmax activation \n",
        "    self.out = tf.keras.layers.Dense(10, activation = 'softmax')\n",
        "\n",
        "  def call(self, x): \n",
        "    x = self.l1(x)\n",
        "    x = self.l2(x)\n",
        "    x = self.pooling(x)\n",
        "    x = self.l3(x)\n",
        "    x = self.l4(x)\n",
        "    x = self.global_pool(x)\n",
        "    x = self.out(x)\n",
        "\n",
        "    return x\n",
        "\n",
        "\n",
        "  @property\n",
        "  def metrics(self):\n",
        "    return self.metrics_list\n",
        "\n",
        "\n",
        "  def reset_metric(self):\n",
        "    for metric in self.metrics: \n",
        "      metric.reset_states()\n",
        "\n",
        "  @tf.function \n",
        "  def train_step(self, data):\n",
        "    x, t = data\n",
        "    #print(x.shape)\n",
        "\n",
        "    with tf.GradientTape() as tape:\n",
        "      output = self(x, training = True)\n",
        "      loss = self.loss_function(t, output)\n",
        "    \n",
        "    gradients = tape.gradient(loss, self.trainable_variables)\n",
        "    self.optimizer.apply_gradients(zip(gradients, self.trainable_variables))\n",
        "\n",
        "    self.metrics[0].update_state(loss)\n",
        "    \n",
        "    for metric in self.metrics[1:]:\n",
        "          metric.update_state(t,output)\n",
        "\n",
        "    return {metric.name: metric.result() for metric in self.metrics}\n",
        "\n",
        "  @tf.function\n",
        "  def test_step(self, data):\n",
        "    x, t = data\n",
        "\n",
        "    output = self(x, training = False)\n",
        "    loss = self.loss_function(t, output)\n",
        "\n",
        "    self.metrics[0].update_state(loss)\n",
        "    for metric in self.metrics[1:]:\n",
        "          metric.update_state(t,output)\n",
        "\n",
        "    return {metric.name: metric.result() for metric in self.metrics}"
      ]
    },
    {
      "cell_type": "code",
      "execution_count": 5,
      "metadata": {
        "id": "crXguDQtKt_w"
      },
      "outputs": [],
      "source": [
        "from tensorflow.keras.layers import Dense\n",
        "\n",
        "class BasicConvFilter1(tf.keras.Model):\n",
        "  '''\n",
        "  create a small network with 2 blocks each having 2 layers and starting with 64 filters in the first layer\n",
        "  '''\n",
        "  def __init__(self,optimizer = tf.keras.optimizers.Adam()):\n",
        "    super(BasicConvFilter1, self).__init__()\n",
        "\n",
        "    self.optimizer = optimizer\n",
        "    self.loss_function = tf.keras.losses.CategoricalCrossentropy()\n",
        "\n",
        "    self.metrics_list = [ tf.keras.metrics.Mean(name=\"loss\"),\n",
        "                        tf.keras.metrics.CategoricalAccuracy(name=\"acc\"),\n",
        "    ]\n",
        "\n",
        "    #original input size is 32*32, we have 32 as number of filters\n",
        "    self.l1 = tf.keras.layers.Conv2D(filters = 64, kernel_size = 3, padding = 'same', activation = 'relu')\n",
        "    self.l2 = tf.keras.layers.Conv2D(filters = 64, kernel_size = 3, padding = 'same', activation = 'relu')\n",
        "\n",
        "    self.pooling = tf.keras.layers.MaxPooling2D(pool_size=2, strides=2)\n",
        "\n",
        "    #after pooling the size is reduced to 16*16\n",
        "    self.l3 = tf.keras.layers.Conv2D(filters = 128, kernel_size = 3, padding = 'same', activation = 'relu')\n",
        "    self.l4 = tf.keras.layers.Conv2D(filters = 128, kernel_size = 3, padding = 'same', activation = 'relu')\n",
        "\n",
        "    self.global_pool = tf.keras.layers.GlobalAvgPool2D()\n",
        "\n",
        "    # last layer is a dense layer with softmax activation \n",
        "    self.out = tf.keras.layers.Dense(10, activation = 'softmax')\n",
        "\n",
        "  def call(self, x): \n",
        "    x = self.l1(x)\n",
        "    x = self.l2(x)\n",
        "    x = self.pooling(x)\n",
        "    x = self.l3(x)\n",
        "    x = self.l4(x)\n",
        "    x = self.global_pool(x)\n",
        "    x = self.out(x)\n",
        "\n",
        "    return x\n",
        "\n",
        "\n",
        "  @property\n",
        "  def metrics(self):\n",
        "    return self.metrics_list\n",
        "\n",
        "\n",
        "  def reset_metric(self):\n",
        "    for metric in self.metrics: \n",
        "      metric.reset_states()\n",
        "\n",
        "  @tf.function \n",
        "  def train_step(self, data):\n",
        "    x, t = data\n",
        "    #print(x.shape)\n",
        "\n",
        "    with tf.GradientTape() as tape:\n",
        "      output = self(x, training = True)\n",
        "      loss = self.loss_function(t, output)\n",
        "    \n",
        "    gradients = tape.gradient(loss, self.trainable_variables)\n",
        "    self.optimizer.apply_gradients(zip(gradients, self.trainable_variables))\n",
        "\n",
        "    self.metrics[0].update_state(loss)\n",
        "    \n",
        "    for metric in self.metrics[1:]:\n",
        "          metric.update_state(t,output)\n",
        "\n",
        "    return {metric.name: metric.result() for metric in self.metrics}\n",
        "\n",
        "  @tf.function\n",
        "  def test_step(self, data):\n",
        "    x, t = data\n",
        "\n",
        "    output = self(x, training = False)\n",
        "    loss = self.loss_function(t, output)\n",
        "\n",
        "    self.metrics[0].update_state(loss)\n",
        "    for metric in self.metrics[1:]:\n",
        "          metric.update_state(t,output)\n",
        "\n",
        "    return {metric.name: metric.result() for metric in self.metrics}"
      ]
    },
    {
      "cell_type": "code",
      "execution_count": 4,
      "metadata": {
        "id": "sxvgB-FqK4T1"
      },
      "outputs": [],
      "source": [
        "from tensorflow.keras.layers import Dense\n",
        "\n",
        "class BasicConvFilter2(tf.keras.Model):\n",
        "  '''\n",
        "  create a small network with 2 blocks each having 2 layers and starting with 16 filters in the first layer\n",
        "  '''\n",
        "  def __init__(self,optimizer = tf.keras.optimizers.Adam()):\n",
        "    super(BasicConvFilter2, self).__init__()\n",
        "\n",
        "    self.optimizer = optimizer\n",
        "    self.loss_function = tf.keras.losses.CategoricalCrossentropy()\n",
        "\n",
        "    self.metrics_list = [ tf.keras.metrics.Mean(name=\"loss\"),\n",
        "                        tf.keras.metrics.CategoricalAccuracy(name=\"acc\"),\n",
        "    ]\n",
        "\n",
        "    #original input size is 32*32, we have 32 as number of filters\n",
        "    self.l1 = tf.keras.layers.Conv2D(filters = 16, kernel_size = 3, padding = 'same', activation = 'relu')\n",
        "    self.l2 = tf.keras.layers.Conv2D(filters = 16, kernel_size = 3, padding = 'same', activation = 'relu')\n",
        "\n",
        "    self.pooling = tf.keras.layers.MaxPooling2D(pool_size=2, strides=2)\n",
        "\n",
        "    #after pooling the size is reduced to 16*16\n",
        "    self.l3 = tf.keras.layers.Conv2D(filters = 32, kernel_size = 3, padding = 'same', activation = 'relu')\n",
        "    self.l4 = tf.keras.layers.Conv2D(filters = 32, kernel_size = 3, padding = 'same', activation = 'relu')\n",
        "\n",
        "    self.global_pool = tf.keras.layers.GlobalAvgPool2D()\n",
        "\n",
        "    # last layer is a dense layer with softmax activation \n",
        "    self.out = tf.keras.layers.Dense(10, activation = 'softmax')\n",
        "\n",
        "  def call(self, x): \n",
        "    x = self.l1(x)\n",
        "    x = self.l2(x)\n",
        "    x = self.pooling(x)\n",
        "    x = self.l3(x)\n",
        "    x = self.l4(x)\n",
        "    x = self.global_pool(x)\n",
        "    x = self.out(x)\n",
        "\n",
        "    return x\n",
        "\n",
        "\n",
        "  @property\n",
        "  def metrics(self):\n",
        "    return self.metrics_list\n",
        "\n",
        "\n",
        "  def reset_metric(self):\n",
        "    for metric in self.metrics: \n",
        "      metric.reset_states()\n",
        "\n",
        "  @tf.function \n",
        "  def train_step(self, data):\n",
        "    x, t = data\n",
        "    #print(x.shape)\n",
        "\n",
        "    with tf.GradientTape() as tape:\n",
        "      output = self(x, training = True)\n",
        "      loss = self.loss_function(t, output)\n",
        "    \n",
        "    gradients = tape.gradient(loss, self.trainable_variables)\n",
        "    self.optimizer.apply_gradients(zip(gradients, self.trainable_variables))\n",
        "\n",
        "    self.metrics[0].update_state(loss)\n",
        "    \n",
        "    for metric in self.metrics[1:]:\n",
        "          metric.update_state(t,output)\n",
        "\n",
        "    return {metric.name: metric.result() for metric in self.metrics}\n",
        "\n",
        "  @tf.function\n",
        "  def test_step(self, data):\n",
        "    x, t = data\n",
        "\n",
        "    output = self(x, training = False)\n",
        "    loss = self.loss_function(t, output)\n",
        "\n",
        "    self.metrics[0].update_state(loss)\n",
        "    for metric in self.metrics[1:]:\n",
        "          metric.update_state(t,output)\n",
        "\n",
        "    return {metric.name: metric.result() for metric in self.metrics}"
      ]
    },
    {
      "cell_type": "code",
      "execution_count": 14,
      "metadata": {
        "id": "dUQ1Kr1dAPXP"
      },
      "outputs": [],
      "source": [
        "from tensorflow.keras.layers import Dense\n",
        "\n",
        "class BasicConvDeep(tf.keras.Model):\n",
        "  '''\n",
        "  create a deeper network with 4 blocks each having 2 layers and starting with 32 filters in the first layer\n",
        "  '''\n",
        "\n",
        "  def __init__(self,optimizer = tf.keras.optimizers.Adam()):\n",
        "    super(BasicConvDeep, self).__init__()\n",
        "\n",
        "    self.optimizer = optimizer\n",
        "    self.loss_function = tf.keras.losses.CategoricalCrossentropy()\n",
        "\n",
        "    self.metrics_list = [ tf.keras.metrics.Mean(name=\"loss\"),\n",
        "                        tf.keras.metrics.CategoricalAccuracy(name=\"acc\"),\n",
        "    ]\n",
        "\n",
        "    #original input size is 32*32, we have 32 as number of filters\n",
        "    self.l1 = tf.keras.layers.Conv2D(filters = 32, kernel_size = 3, padding = 'same', activation = 'relu')\n",
        "    self.l2 = tf.keras.layers.Conv2D(filters = 32, kernel_size = 3, padding = 'same', activation = 'relu')\n",
        "\n",
        "    self.pooling = tf.keras.layers.MaxPooling2D(pool_size=2, strides=2)\n",
        "\n",
        "    #after pooling the size is reduced to 16*16\n",
        "    self.l3 = tf.keras.layers.Conv2D(filters = 64, kernel_size = 3, padding = 'same', activation = 'relu')\n",
        "    self.l4 = tf.keras.layers.Conv2D(filters = 64, kernel_size = 3, padding = 'same', activation = 'relu')\n",
        "\n",
        "    self.pooling1 = tf.keras.layers.MaxPooling2D(pool_size=2, strides=2)\n",
        "\n",
        "    self.l5 = tf.keras.layers.Conv2D(filters = 128, kernel_size = 3, padding = 'same', activation = 'relu')\n",
        "    self.l6 = tf.keras.layers.Conv2D(filters = 128, kernel_size = 3, padding = 'same', activation = 'relu')\n",
        "\n",
        "    self.pooling2 = tf.keras.layers.MaxPooling2D(pool_size=2, strides=2)\n",
        "\n",
        "    self.l7 = tf.keras.layers.Conv2D(filters = 128, kernel_size = 3, padding = 'same', activation = 'relu')\n",
        "    self.l8 = tf.keras.layers.Conv2D(filters = 128, kernel_size = 3, padding = 'same', activation = 'relu')\n",
        "\n",
        "    self.global_pool = tf.keras.layers.GlobalAvgPool2D()\n",
        "\n",
        "    # last layer is a dense layer with softmax activation \n",
        "    self.out = tf.keras.layers.Dense(10, activation = 'softmax')\n",
        "\n",
        "  def call(self, x): \n",
        "    x = self.l1(x)\n",
        "    x = self.l2(x)\n",
        "    x = self.pooling(x)\n",
        "    x = self.l3(x)\n",
        "    x = self.l4(x)\n",
        "    x = self.pooling1(x)\n",
        "    x = self.l5(x)\n",
        "    x = self.l6(x)\n",
        "    x = self.pooling2(x)\n",
        "    x = self.l7(x)\n",
        "    x = self.l8(x)\n",
        "    x = self.global_pool(x)\n",
        "    x = self.out(x)\n",
        "\n",
        "    return x\n",
        "\n",
        "\n",
        "  @property\n",
        "  def metrics(self):\n",
        "    return self.metrics_list\n",
        "\n",
        "\n",
        "  def reset_metric(self):\n",
        "    for metric in self.metrics: \n",
        "      metric.reset_states()\n",
        "\n",
        "  @tf.function \n",
        "  def train_step(self, data):\n",
        "    x, t = data\n",
        "    #print(x.shape)\n",
        "\n",
        "    with tf.GradientTape() as tape:\n",
        "      output = self(x, training = True)\n",
        "      loss = self.loss_function(t, output)\n",
        "    \n",
        "    gradients = tape.gradient(loss, self.trainable_variables)\n",
        "    self.optimizer.apply_gradients(zip(gradients, self.trainable_variables))\n",
        "\n",
        "    self.metrics[0].update_state(loss)\n",
        "    \n",
        "    for metric in self.metrics[1:]:\n",
        "          metric.update_state(t,output)\n",
        "\n",
        "    return {metric.name: metric.result() for metric in self.metrics}\n",
        "\n",
        "  @tf.function\n",
        "  def test_step(self, data):\n",
        "    x, t = data\n",
        "\n",
        "    output = self(x, training = False)\n",
        "    loss = self.loss_function(t, output)\n",
        "\n",
        "    self.metrics[0].update_state(loss)\n",
        "    for metric in self.metrics[1:]:\n",
        "          metric.update_state(t,output)\n",
        "\n",
        "    return {metric.name: metric.result() for metric in self.metrics}"
      ]
    },
    {
      "cell_type": "code",
      "execution_count": 4,
      "metadata": {
        "id": "nsXHvAwbDD3J"
      },
      "outputs": [],
      "source": [
        "class DenselyConnectedCNNLayer(tf.keras.layers.Layer):\n",
        "  def __init__(self, num_filter): \n",
        "    super(DenselyConnectedCNNLayer, self).__init__()\n",
        "\n",
        "    self.conv = tf.keras.layers.Conv2D(filters = num_filter, kernel_size = 3, padding = \"same\", activation = \"relu\")\n",
        "\n",
        "  def call(self,x): \n",
        "    c = self.conv(x)\n",
        "    #concatenate at last layer - get long stack of all earlier layer\n",
        "    x = tf.concat((x,c), axis = -1)\n",
        "    return x\n",
        "\n",
        "\n",
        "class DenselyConnectedCNNBlock(tf.keras.layers.Layer):\n",
        "  #take all conv layers and create a block we take for one convolution\n",
        "  def __init__(self, num_filters, layers):\n",
        "    super(DenselyConnectedCNNBlock, self).__init__()\n",
        "    self.layers = [DenselyConnectedCNNLayer(num_filters) for _ in range(layers)]\n",
        "\n",
        "  def call(self, x): \n",
        "    #take input and pump it through all layers we have \n",
        "    for l in self.layers:\n",
        "      x = l(x)\n",
        "      return x\n",
        "\n",
        "\n",
        "class DenselyConnectedCNN(tf.keras.Model):\n",
        "  def __init__(self, optimizer = tf.keras.optimizers.Adam()):\n",
        "    super(DenselyConnectedCNN, self).__init__()\n",
        "\n",
        "    self.optimizer = optimizer\n",
        "    self.loss_function = tf.keras.losses.CategoricalCrossentropy()\n",
        "\n",
        "    self.metrics_list = [ tf.keras.metrics.Mean(name=\"loss\"),\n",
        "                        tf.keras.metrics.CategoricalAccuracy(name=\"acc\"),\n",
        "    ]\n",
        "\n",
        "    #4 layers with each of 24 kernels -> get 4 layer in 28*28 resolution \n",
        "    self.denseblock1 = DenselyConnectedCNNBlock(24,4)\n",
        "    #go down to 14*14\n",
        "    self.pooling1 = tf.keras.layers.MaxPooling2D()\n",
        "\n",
        "    self.denseblock2 = DenselyConnectedCNNBlock(24,4)\n",
        "    self.pooling2 = tf.keras.layers.MaxPooling2D()\n",
        "\n",
        "    self.denseblock3 = DenselyConnectedCNNBlock(24,4)\n",
        "    self.globalpooling = tf.keras.layers.GlobalAvgPool2D()\n",
        "    self.out = tf.keras.layers.Dense(10, activation='softmax')\n",
        "\n",
        "  def call(self, x):\n",
        "    x = self.denseblock1(x)\n",
        "    x = self.pooling1(x)\n",
        "    x = self.denseblock2(x)\n",
        "    x = self.pooling2(x)\n",
        "    x = self.denseblock3(x)\n",
        "    x = self.globalpooling(x)\n",
        "    x = self.out(x)\n",
        "    return x\n",
        "\n",
        "  @property\n",
        "  def metrics(self):\n",
        "    return self.metrics_list\n",
        "\n",
        "\n",
        "  def reset_metric(self):\n",
        "    for metric in self.metrics: \n",
        "      metric.reset_states()\n",
        "\n",
        "  @tf.function \n",
        "  def train_step(self, data):\n",
        "    x, t = data\n",
        "    #print(x.shape)\n",
        "\n",
        "    with tf.GradientTape() as tape:\n",
        "      output = self(x, training = True)\n",
        "      loss = self.loss_function(t, output)\n",
        "    \n",
        "    gradients = tape.gradient(loss, self.trainable_variables)\n",
        "    self.optimizer.apply_gradients(zip(gradients, self.trainable_variables))\n",
        "\n",
        "    self.metrics[0].update_state(loss)\n",
        "    \n",
        "    for metric in self.metrics[1:]:\n",
        "          metric.update_state(t,output)\n",
        "\n",
        "    return {metric.name: metric.result() for metric in self.metrics}\n",
        "\n",
        "  @tf.function\n",
        "  def test_step(self, data):\n",
        "    x, t = data\n",
        "\n",
        "    output = self(x, training = False)\n",
        "    loss = self.loss_function(t, output)\n",
        "\n",
        "    self.metrics[0].update_state(loss)\n",
        "    for metric in self.metrics[1:]:\n",
        "          metric.update_state(t,output)\n",
        "\n",
        "    return {metric.name: metric.result() for metric in self.metrics}\n",
        "\n",
        "\n",
        "dense_model = DenselyConnectedCNN()\n"
      ]
    },
    {
      "cell_type": "code",
      "execution_count": null,
      "metadata": {
        "id": "tPL0jxQhDA9K"
      },
      "outputs": [],
      "source": [
        "class ResidualConnectedCNNLayer(tf.keras.layers.Layer):\n",
        "  def __init__(self, num_filters, optimizer = tf.keras.optimizers.Adam()):\n",
        "    super(ResidualConnectedCNNLayer, self).__init__()\n",
        "    self.conv = tf.keras.layers.Conv2D(filters=num_filters, kernel_size=3, padding='same', activation='relu')\n",
        "\n",
        "  def call(self, x):\n",
        "    c = self.conv(x)\n",
        "    #residual connection \n",
        "    x = c+x\n",
        "    return x\n",
        "\n",
        "class ResidualConnectedCNNBlock(tf.keras.layers.Layer):\n",
        "  def __init__(self, depth, layers):\n",
        "    super(ResidualConnectedCNNBlock, self).__init__()\n",
        "    #depth increases in the end of the network (cannot add them with different sizes)\n",
        "    #specify the depth such that they get the same depth \n",
        "    self.deeper_layer = tf.keras.layers.Conv2D(filters=depth, kernel_size=3, padding='same', activation='relu')\n",
        "    #list with many residual connected cnn layer\n",
        "    self.layers = [ResidualConnectedCNNLayer(depth) for _ in range(layers)]\n",
        "\n",
        "  def call(self, x):\n",
        "    #bring it to the correct depth \n",
        "    x = self.deeper_layer(x)\n",
        "    for layer in self.layers:\n",
        "      x = layer(x)\n",
        "    return x\n",
        "\n",
        "\n",
        "class ResidualConnectedCNN(tf.keras.Model):\n",
        "  def __init__(self, optimizer = tf.keras.optimizers.Adam()):\n",
        "    super(ResidualConnectedCNN, self).__init__()\n",
        "    self.optimizer = optimizer\n",
        "    self.loss_function = tf.keras.losses.CategoricalCrossentropy()\n",
        "\n",
        "    self.metrics_list = [ tf.keras.metrics.Mean(name=\"loss\"),\n",
        "                        tf.keras.metrics.CategoricalAccuracy(name=\"acc\"),\n",
        "    ]\n",
        "    self.residualblock1 = ResidualConnectedCNNBlock(24,4)\n",
        "    self.pooling1 = tf.keras.layers.MaxPooling2D(pool_size=2, strides=2)\n",
        "\n",
        "    self.residualblock2 = ResidualConnectedCNNBlock(48,4)\n",
        "    self.pooling2 = tf.keras.layers.MaxPooling2D(pool_size=2, strides=2)\n",
        "\n",
        "    self.residualblock3 = ResidualConnectedCNNBlock(96,4)\n",
        "    self.globalpooling = tf.keras.layers.GlobalAvgPool2D()\n",
        "    \n",
        "    self.out = tf.keras.layers.Dense(10, activation='softmax')\n",
        "\n",
        "  def call(self,x):\n",
        "    x = self.residualblock1(x)\n",
        "    x = self.pooling1(x)\n",
        "    x = self.residualblock2(x)\n",
        "    x = self.pooling2(x)\n",
        "    x = self.residualblock3(x)\n",
        "    x = self.globalpooling(x)\n",
        "    x = self.out(x)\n",
        "    return x\n",
        "\n",
        "  @property\n",
        "  def metrics(self):\n",
        "    return self.metrics_list\n",
        "\n",
        "\n",
        "  def reset_metric(self):\n",
        "    for metric in self.metrics: \n",
        "      metric.reset_states()\n",
        "\n",
        "  @tf.function \n",
        "  def train_step(self, data):\n",
        "    x, t = data\n",
        "    #print(x.shape)\n",
        "\n",
        "    with tf.GradientTape() as tape:\n",
        "      output = self(x, training = True)\n",
        "      loss = self.loss_function(t, output)\n",
        "    \n",
        "    gradients = tape.gradient(loss, self.trainable_variables)\n",
        "    self.optimizer.apply_gradients(zip(gradients, self.trainable_variables))\n",
        "\n",
        "    self.metrics[0].update_state(loss)\n",
        "    \n",
        "    for metric in self.metrics[1:]:\n",
        "          metric.update_state(t,output)\n",
        "\n",
        "    return {metric.name: metric.result() for metric in self.metrics}\n",
        "\n",
        "  @tf.function\n",
        "  def test_step(self, data):\n",
        "    x, t = data\n",
        "\n",
        "    output = self(x, training = False)\n",
        "    loss = self.loss_function(t, output)\n",
        "\n",
        "    self.metrics[0].update_state(loss)\n",
        "    for metric in self.metrics[1:]:\n",
        "          metric.update_state(t,output)\n",
        "\n",
        "    return {metric.name: metric.result() for metric in self.metrics}\n",
        "\n",
        "\n",
        "resnet = ResidualConnectedCNN()"
      ]
    },
    {
      "cell_type": "code",
      "execution_count": 5,
      "metadata": {
        "id": "AI2WJpkkMhEO"
      },
      "outputs": [],
      "source": [
        "def training_loop(model, train_ds, val_ds, epochs, train_summary_writer, val_summary_writer): \n",
        "  '''\n",
        "  create the training loop where the model is trained on the train dataset and afterwards tested on the validation dataset\n",
        "  '''\n",
        "  #iterate over given amount of epochs\n",
        "  for epoch in range(epochs): \n",
        "    print(f\"Epoch {epoch}: \")\n",
        "\n",
        "    #train on all batches of the training data\n",
        "    for data in tqdm.tqdm(train_ds, position = 0, leave = True):\n",
        "\n",
        "      metrics = model.train_step(data)\n",
        "\n",
        "\n",
        "      with train_summary_writer.as_default(): \n",
        "        for metric in model.metrics: \n",
        "          tf.summary.scalar(f\"{metric.name}\", metric.result(), step=epoch)\n",
        "\n",
        "    # print the metrics\n",
        "    print([f\"Train {key}: {value.numpy()}\" for (key, value) in metrics.items()])\n",
        "\n",
        "    #reset metric \n",
        "    model.reset_metrics()\n",
        "  \n",
        "    #evaluation on validation set\n",
        "    for data in val_ds:\n",
        "      metrics = model.test_step(data)\n",
        "\n",
        "      with val_summary_writer.as_default():\n",
        "        for metric in model.metrics:\n",
        "          tf.summary.scalar(f\"{metric.name}\", metric.result(), step=epoch)\n",
        "      \n",
        "    # print the metrics\n",
        "    print([f\"Test {key}: {value.numpy()}\" for (key, value) in metrics.items()])\n",
        "\n",
        "    #reset metric\n",
        "    model.reset_metric()\n",
        "\n",
        "    print(\"\\n\")"
      ]
    },
    {
      "cell_type": "code",
      "execution_count": 6,
      "metadata": {
        "id": "4qLXtIkAFun0"
      },
      "outputs": [],
      "source": [
        "def create_summary_writers(config_name):\n",
        "  '''\n",
        "  create the summary writer to have access to the metrics of the model \n",
        "  '''\n",
        "  current_time = datetime.datetime.now().strftime(\"%Y%m%d-%H%M%S\")\n",
        "\n",
        "  train_log_path = f\"logs/submission/{config_name}/{current_time}/train\"\n",
        "  val_log_path = f\"logs/submission/{config_name}/{current_time}/val\"\n",
        "\n",
        "  # log writer\n",
        "  train_summary_writer = tf.summary.create_file_writer(train_log_path)\n",
        "  val_summary_writer = tf.summary.create_file_writer(val_log_path)\n",
        "    \n",
        "  return train_summary_writer, val_summary_writer"
      ]
    },
    {
      "cell_type": "code",
      "execution_count": 7,
      "metadata": {
        "id": "yh-7_Bnt8xKR"
      },
      "outputs": [],
      "source": [
        "import matplotlib.pyplot as plt \n",
        "def run(model,num_epochs=15,save=True,load=False,config_name = f'RUN'):\n",
        "  '''\n",
        "  run the model and specify the number of epochs, batch_size and prepare the training and testing data\n",
        "  '''\n",
        "\n",
        "  ### Hyperparameters\n",
        "  num_epochs = num_epochs\n",
        "  batch_size = 32\n",
        "  train = prepare_data(batch_size,train_ds)\n",
        "  test = prepare_data(batch_size,test_ds)\n",
        "  \n",
        "  train_summary_writer, val_summary_writer = create_summary_writers(config_name)\n",
        "  if load:\n",
        "    model.load_weights(f\"saved_model_{config_name}\");\n",
        "\n",
        "  training_loop(model,train,test,num_epochs,train_summary_writer, val_summary_writer)\n",
        "  if save:\n",
        "    model.save_weights(f\"saved_model_{config_name}\", save_format=\"tf\")\n",
        "\n",
        "  "
      ]
    },
    {
      "cell_type": "code",
      "execution_count": 9,
      "metadata": {
        "colab": {
          "base_uri": "https://localhost:8080/"
        },
        "id": "0MMWSPGqHPgM",
        "outputId": "c305909f-0490-414d-c217-196e4479bb20"
      },
      "outputs": [
        {
          "name": "stdout",
          "output_type": "stream",
          "text": [
            "BasicConv, optimizer=SGD, learning_rate=0.001, momentum=0.9\n",
            "\n",
            "Epoch 0: \n"
          ]
        },
        {
          "name": "stderr",
          "output_type": "stream",
          "text": [
            "1563it [00:40, 38.37it/s]\n"
          ]
        },
        {
          "name": "stdout",
          "output_type": "stream",
          "text": [
            "['Train loss: 2.2134850025177', 'Train acc: 0.16502000391483307']\n",
            "['Test loss: 2.0349600315093994', 'Test acc: 0.24869999289512634']\n",
            "\n",
            "\n",
            "Epoch 1: \n"
          ]
        },
        {
          "name": "stderr",
          "output_type": "stream",
          "text": [
            "1563it [00:38, 40.57it/s]\n"
          ]
        },
        {
          "name": "stdout",
          "output_type": "stream",
          "text": [
            "['Train loss: 1.9514833688735962', 'Train acc: 0.26660001277923584']\n",
            "['Test loss: 1.848431944847107', 'Test acc: 0.30140000581741333']\n",
            "\n",
            "\n",
            "Epoch 2: \n"
          ]
        },
        {
          "name": "stderr",
          "output_type": "stream",
          "text": [
            "1563it [00:38, 40.44it/s]\n"
          ]
        },
        {
          "name": "stdout",
          "output_type": "stream",
          "text": [
            "['Train loss: 1.7756378650665283', 'Train acc: 0.32429999113082886']\n",
            "['Test loss: 1.6967555284500122', 'Test acc: 0.3619999885559082']\n",
            "\n",
            "\n",
            "Epoch 3: \n"
          ]
        },
        {
          "name": "stderr",
          "output_type": "stream",
          "text": [
            "1563it [00:41, 37.97it/s]\n"
          ]
        },
        {
          "name": "stdout",
          "output_type": "stream",
          "text": [
            "['Train loss: 1.6891220808029175', 'Train acc: 0.36406001448631287']\n",
            "['Test loss: 1.6489534378051758', 'Test acc: 0.3817000091075897']\n",
            "\n",
            "\n",
            "Epoch 4: \n"
          ]
        },
        {
          "name": "stderr",
          "output_type": "stream",
          "text": [
            "1563it [00:43, 36.29it/s]\n"
          ]
        },
        {
          "name": "stdout",
          "output_type": "stream",
          "text": [
            "['Train loss: 1.64059579372406', 'Train acc: 0.383899986743927']\n",
            "['Test loss: 1.6171492338180542', 'Test acc: 0.3919000029563904']\n",
            "\n",
            "\n"
          ]
        }
      ],
      "source": [
        "myMod1 = BasicConv(tf.keras.optimizers.SGD(learning_rate=0.001, momentum = 0.9))\n",
        "print(\"BasicConv, optimizer=SGD, learning_rate=0.001, momentum=0.9\\n\")\n",
        "run(myMod1,num_epochs=5,config_name=f'BASIC1')\n",
        "\n",
        "\n",
        "\n",
        "\n"
      ]
    },
    {
      "cell_type": "code",
      "execution_count": 9,
      "metadata": {
        "colab": {
          "base_uri": "https://localhost:8080/"
        },
        "id": "WL05SJrQp5IY",
        "outputId": "c24f4a36-d5a9-4515-b224-ee0338ce3efd"
      },
      "outputs": [
        {
          "name": "stdout",
          "output_type": "stream",
          "text": [
            "Epoch 0: \n"
          ]
        },
        {
          "name": "stderr",
          "output_type": "stream",
          "text": [
            "1563it [00:46, 33.68it/s]\n"
          ]
        },
        {
          "name": "stdout",
          "output_type": "stream",
          "text": [
            "['Train loss: 1.1866061687469482', 'Train acc: 0.5818399786949158']\n",
            "['Test loss: 1.1931204795837402', 'Test acc: 0.5712000131607056']\n",
            "\n",
            "\n"
          ]
        }
      ],
      "source": [
        "myMod1 = BasicConv(tf.keras.optimizers.SGD(learning_rate=0.001, momentum = 0.9))\n",
        "run(myMod1,num_epochs=1,load=True,config_name=f'BASIC1')"
      ]
    },
    {
      "cell_type": "code",
      "execution_count": 11,
      "metadata": {
        "id": "Xhhx8gfDgNmX"
      },
      "outputs": [
        {
          "name": "stdout",
          "output_type": "stream",
          "text": [
            "\n",
            "BasicConv, optimizer=Adam, learning_rate=0.001\n",
            "\n",
            "Epoch 0: \n"
          ]
        },
        {
          "name": "stderr",
          "output_type": "stream",
          "text": [
            "1563it [00:44, 35.50it/s]\n"
          ]
        },
        {
          "name": "stdout",
          "output_type": "stream",
          "text": [
            "['Train loss: 1.6375659704208374', 'Train acc: 0.3905799984931946']\n",
            "['Test loss: 1.3847239017486572', 'Test acc: 0.5031999945640564']\n",
            "\n",
            "\n",
            "Epoch 1: \n"
          ]
        },
        {
          "name": "stderr",
          "output_type": "stream",
          "text": [
            "1563it [00:41, 37.47it/s]\n"
          ]
        },
        {
          "name": "stdout",
          "output_type": "stream",
          "text": [
            "['Train loss: 1.273235559463501', 'Train acc: 0.5435400009155273']\n",
            "['Test loss: 1.1705288887023926', 'Test acc: 0.5873000025749207']\n",
            "\n",
            "\n",
            "Epoch 2: \n"
          ]
        },
        {
          "name": "stderr",
          "output_type": "stream",
          "text": [
            "1563it [00:46, 33.31it/s]\n"
          ]
        },
        {
          "name": "stdout",
          "output_type": "stream",
          "text": [
            "['Train loss: 1.118261694908142', 'Train acc: 0.6049200296401978']\n",
            "['Test loss: 1.1198749542236328', 'Test acc: 0.5968000292778015']\n",
            "\n",
            "\n",
            "Epoch 3: \n"
          ]
        },
        {
          "name": "stderr",
          "output_type": "stream",
          "text": [
            "1563it [00:42, 37.00it/s]\n"
          ]
        },
        {
          "name": "stdout",
          "output_type": "stream",
          "text": [
            "['Train loss: 1.0256743431091309', 'Train acc: 0.6381000280380249']\n",
            "['Test loss: 0.9862112998962402', 'Test acc: 0.6499000191688538']\n",
            "\n",
            "\n",
            "Epoch 4: \n"
          ]
        },
        {
          "name": "stderr",
          "output_type": "stream",
          "text": [
            "1563it [00:45, 34.06it/s]\n"
          ]
        },
        {
          "name": "stdout",
          "output_type": "stream",
          "text": [
            "['Train loss: 0.9565269351005554', 'Train acc: 0.6654800176620483']\n",
            "['Test loss: 0.9199246764183044', 'Test acc: 0.6754000186920166']\n",
            "\n",
            "\n",
            "Epoch 5: \n"
          ]
        },
        {
          "name": "stderr",
          "output_type": "stream",
          "text": [
            "1563it [00:40, 38.54it/s]\n"
          ]
        },
        {
          "name": "stdout",
          "output_type": "stream",
          "text": [
            "['Train loss: 0.9007455110549927', 'Train acc: 0.6845999956130981']\n",
            "['Test loss: 0.885215699672699', 'Test acc: 0.6890000104904175']\n",
            "\n",
            "\n",
            "Epoch 6: \n"
          ]
        },
        {
          "name": "stderr",
          "output_type": "stream",
          "text": [
            "1563it [00:41, 37.81it/s]\n"
          ]
        },
        {
          "name": "stdout",
          "output_type": "stream",
          "text": [
            "['Train loss: 0.8476739525794983', 'Train acc: 0.7038400173187256']\n",
            "['Test loss: 0.859283447265625', 'Test acc: 0.6984000205993652']\n",
            "\n",
            "\n",
            "Epoch 7: \n"
          ]
        },
        {
          "name": "stderr",
          "output_type": "stream",
          "text": [
            "1563it [00:39, 39.37it/s]\n"
          ]
        },
        {
          "name": "stdout",
          "output_type": "stream",
          "text": [
            "['Train loss: 0.8053713440895081', 'Train acc: 0.7185400128364563']\n",
            "['Test loss: 0.8017879128456116', 'Test acc: 0.7197999954223633']\n",
            "\n",
            "\n",
            "Epoch 8: \n"
          ]
        },
        {
          "name": "stderr",
          "output_type": "stream",
          "text": [
            "1563it [00:40, 39.01it/s]\n"
          ]
        },
        {
          "name": "stdout",
          "output_type": "stream",
          "text": [
            "['Train loss: 0.7610055208206177', 'Train acc: 0.734499990940094']\n",
            "['Test loss: 0.7891982197761536', 'Test acc: 0.7258999943733215']\n",
            "\n",
            "\n",
            "Epoch 9: \n"
          ]
        },
        {
          "name": "stderr",
          "output_type": "stream",
          "text": [
            "1563it [00:43, 35.64it/s]\n"
          ]
        },
        {
          "name": "stdout",
          "output_type": "stream",
          "text": [
            "['Train loss: 0.7312162518501282', 'Train acc: 0.7436800003051758']\n",
            "['Test loss: 0.7528896927833557', 'Test acc: 0.7400000095367432']\n",
            "\n",
            "\n"
          ]
        }
      ],
      "source": [
        "myMod2 = BasicConv(tf.keras.optimizers.Adam(learning_rate=0.001))\n",
        "print(\"\\nBasicConv, optimizer=Adam, learning_rate=0.001\\n\")\n",
        "run(myMod2,num_epochs=10,config_name=f'BASIC2')\n",
        "\n"
      ]
    },
    {
      "cell_type": "code",
      "execution_count": 12,
      "metadata": {},
      "outputs": [
        {
          "name": "stdout",
          "output_type": "stream",
          "text": [
            "saved after epoch 10: \n",
            "Epoch 0: \n"
          ]
        },
        {
          "name": "stderr",
          "output_type": "stream",
          "text": [
            "1563it [00:58, 26.77it/s]\n"
          ]
        },
        {
          "name": "stdout",
          "output_type": "stream",
          "text": [
            "['Train loss: 0.6973021030426025', 'Train acc: 0.7575399875640869']\n",
            "['Test loss: 0.7385714054107666', 'Test acc: 0.7465999722480774']\n",
            "\n",
            "\n",
            "Epoch 1: \n"
          ]
        },
        {
          "name": "stderr",
          "output_type": "stream",
          "text": [
            "1563it [01:02, 25.08it/s]\n"
          ]
        },
        {
          "name": "stdout",
          "output_type": "stream",
          "text": [
            "['Train loss: 0.6687029004096985', 'Train acc: 0.7667999863624573']\n",
            "['Test loss: 0.7558719515800476', 'Test acc: 0.7401000261306763']\n",
            "\n",
            "\n",
            "Epoch 2: \n"
          ]
        },
        {
          "name": "stderr",
          "output_type": "stream",
          "text": [
            "1563it [00:42, 36.56it/s]\n"
          ]
        },
        {
          "name": "stdout",
          "output_type": "stream",
          "text": [
            "['Train loss: 0.644103467464447', 'Train acc: 0.7747600078582764']\n",
            "['Test loss: 0.7481048107147217', 'Test acc: 0.7429999709129333']\n",
            "\n",
            "\n",
            "Epoch 3: \n"
          ]
        },
        {
          "name": "stderr",
          "output_type": "stream",
          "text": [
            "1563it [00:41, 37.44it/s]\n"
          ]
        },
        {
          "name": "stdout",
          "output_type": "stream",
          "text": [
            "['Train loss: 0.6161854267120361', 'Train acc: 0.7854200005531311']\n",
            "['Test loss: 0.7043794393539429', 'Test acc: 0.7609999775886536']\n",
            "\n",
            "\n",
            "Epoch 4: \n"
          ]
        },
        {
          "name": "stderr",
          "output_type": "stream",
          "text": [
            "1563it [00:43, 36.05it/s]\n"
          ]
        },
        {
          "name": "stdout",
          "output_type": "stream",
          "text": [
            "['Train loss: 0.5962586402893066', 'Train acc: 0.7916200160980225']\n",
            "['Test loss: 0.721541702747345', 'Test acc: 0.755299985408783']\n",
            "\n",
            "\n",
            "Epoch 5: \n"
          ]
        },
        {
          "name": "stderr",
          "output_type": "stream",
          "text": [
            "1563it [00:42, 36.41it/s]\n"
          ]
        },
        {
          "name": "stdout",
          "output_type": "stream",
          "text": [
            "['Train loss: 0.5746017694473267', 'Train acc: 0.7991999983787537']\n",
            "['Test loss: 0.726983904838562', 'Test acc: 0.7598999738693237']\n",
            "\n",
            "\n",
            "Epoch 6: \n"
          ]
        },
        {
          "name": "stderr",
          "output_type": "stream",
          "text": [
            "1563it [00:42, 37.02it/s]\n"
          ]
        },
        {
          "name": "stdout",
          "output_type": "stream",
          "text": [
            "['Train loss: 0.5536410212516785', 'Train acc: 0.8081600069999695']\n",
            "['Test loss: 0.6780969500541687', 'Test acc: 0.7756999731063843']\n",
            "\n",
            "\n",
            "Epoch 7: \n"
          ]
        },
        {
          "name": "stderr",
          "output_type": "stream",
          "text": [
            "1563it [00:42, 37.04it/s]\n"
          ]
        },
        {
          "name": "stdout",
          "output_type": "stream",
          "text": [
            "['Train loss: 0.5360148549079895', 'Train acc: 0.8131600022315979']\n",
            "['Test loss: 0.6976509690284729', 'Test acc: 0.765500009059906']\n",
            "\n",
            "\n",
            "Epoch 8: \n"
          ]
        },
        {
          "name": "stderr",
          "output_type": "stream",
          "text": [
            "1563it [00:42, 36.41it/s]\n"
          ]
        },
        {
          "name": "stdout",
          "output_type": "stream",
          "text": [
            "['Train loss: 0.5162753462791443', 'Train acc: 0.819819986820221']\n",
            "['Test loss: 0.7367110848426819', 'Test acc: 0.763700008392334']\n",
            "\n",
            "\n",
            "Epoch 9: \n"
          ]
        },
        {
          "name": "stderr",
          "output_type": "stream",
          "text": [
            "1563it [00:44, 35.11it/s]\n"
          ]
        },
        {
          "name": "stdout",
          "output_type": "stream",
          "text": [
            "['Train loss: 0.49874794483184814', 'Train acc: 0.8247799873352051']\n",
            "['Test loss: 0.7247179746627808', 'Test acc: 0.7627999782562256']\n",
            "\n",
            "\n"
          ]
        }
      ],
      "source": [
        "print(\"saved after epoch 10: \")\n",
        "run(myMod2,num_epochs=10,load=True,config_name=f'BASIC2')"
      ]
    },
    {
      "cell_type": "code",
      "execution_count": 19,
      "metadata": {
        "id": "zcShyJQBgaNM"
      },
      "outputs": [
        {
          "name": "stdout",
          "output_type": "stream",
          "text": [
            "BasicConv, optimizer=RMSProp, learning_rate=0.001\n",
            "\n",
            "Epoch 0: \n"
          ]
        },
        {
          "name": "stderr",
          "output_type": "stream",
          "text": [
            "1563it [01:05, 23.91it/s]\n"
          ]
        },
        {
          "name": "stdout",
          "output_type": "stream",
          "text": [
            "['Train loss: 1.716761589050293', 'Train acc: 0.3566800057888031']\n",
            "['Test loss: 1.4790164232254028', 'Test acc: 0.45660001039505005']\n",
            "\n",
            "\n",
            "Epoch 1: \n"
          ]
        },
        {
          "name": "stderr",
          "output_type": "stream",
          "text": [
            "1563it [01:02, 25.18it/s]\n"
          ]
        },
        {
          "name": "stdout",
          "output_type": "stream",
          "text": [
            "['Train loss: 1.4093519449234009', 'Train acc: 0.49215999245643616']\n",
            "['Test loss: 1.4270565509796143', 'Test acc: 0.4853000044822693']\n",
            "\n",
            "\n"
          ]
        }
      ],
      "source": [
        "myMod3 = BasicConv(tf.keras.optimizers.RMSprop(learning_rate=0.001))\n",
        "print(\"BasicConv, optimizer=RMSProp, learning_rate=0.001\\n\")\n",
        "run(myMod3,num_epochs=2,save=False)\n"
      ]
    },
    {
      "cell_type": "code",
      "execution_count": null,
      "metadata": {
        "id": "Nl0G1eiaghQm"
      },
      "outputs": [],
      "source": [
        "myMod4 = BasicConv(tf.keras.optimizers.Adagrad(learning_rate=0.001))\n",
        "print(\"\\nBasicConv, optimizer=Adagrad, learning_rate=0.001\\n\")\n",
        "run(myMod4,num_epochs=5,save=False)\n"
      ]
    },
    {
      "cell_type": "code",
      "execution_count": null,
      "metadata": {
        "id": "GsImoR2Ogmpm"
      },
      "outputs": [],
      "source": [
        "myMod5 = BasicConv(tf.keras.optimizers.SGD(learning_rate=0.001))\n",
        "\n",
        "print(\"\\BasicConv, optimizer=SGD, learning_rate=0.001\\n\")\n",
        "run(myMod5,num_epochs=5,save=False)"
      ]
    },
    {
      "cell_type": "code",
      "execution_count": null,
      "metadata": {
        "id": "BkC5lhTfL10p"
      },
      "outputs": [],
      "source": [
        "myMod6 = BasicConvFilter1(tf.keras.optimizers.SGD(learning_rate=0.001, momentum = 0.9))\n",
        "myMod7 = BasicConvFilter1(tf.keras.optimizers.Adam(learning_rate=0.001))\n",
        "\n",
        "print(\"BasicConvFilter1 with a higher number of filters, optimizer=SGD, learning_rate=0.001, momentum=0.9\\n\")\n",
        "run(myMod6,num_epochs=5,save=False)\n",
        "print(\"\\nBasicConvFilter1 with a higher number of filters, optimizer=Adam, learning_rate=0.001\\n\")\n",
        "run(myMod7,num_epochs=5,save=False)"
      ]
    },
    {
      "cell_type": "code",
      "execution_count": 10,
      "metadata": {
        "id": "HqB5jwncNQ3v"
      },
      "outputs": [
        {
          "name": "stdout",
          "output_type": "stream",
          "text": [
            "BasicConvFilter2 with a lower number of filters, optimizer=SGD, learning_rate=0.001, momentum=0.9\n",
            "\n",
            "Epoch 0: \n"
          ]
        },
        {
          "name": "stderr",
          "output_type": "stream",
          "text": [
            "1563it [00:40, 38.81it/s]\n"
          ]
        },
        {
          "name": "stdout",
          "output_type": "stream",
          "text": [
            "['Train loss: 1.7304245233535767', 'Train acc: 0.35016000270843506']\n",
            "['Test loss: 1.5244892835617065', 'Test acc: 0.4334000051021576']\n",
            "\n",
            "\n",
            "Epoch 1: \n"
          ]
        },
        {
          "name": "stderr",
          "output_type": "stream",
          "text": [
            "1563it [00:38, 40.54it/s]\n"
          ]
        },
        {
          "name": "stdout",
          "output_type": "stream",
          "text": [
            "['Train loss: 1.4499415159225464', 'Train acc: 0.47648000717163086']\n",
            "['Test loss: 1.3735796213150024', 'Test acc: 0.49540001153945923']\n",
            "\n",
            "\n",
            "Epoch 2: \n"
          ]
        },
        {
          "name": "stderr",
          "output_type": "stream",
          "text": [
            "1563it [00:21, 71.70it/s]\n"
          ]
        },
        {
          "name": "stdout",
          "output_type": "stream",
          "text": [
            "['Train loss: 1.3213595151901245', 'Train acc: 0.528980016708374']\n",
            "['Test loss: 1.2652313709259033', 'Test acc: 0.5479000210762024']\n",
            "\n",
            "\n",
            "Epoch 3: \n"
          ]
        },
        {
          "name": "stderr",
          "output_type": "stream",
          "text": [
            "1563it [00:21, 72.44it/s]\n"
          ]
        },
        {
          "name": "stdout",
          "output_type": "stream",
          "text": [
            "['Train loss: 1.2293720245361328', 'Train acc: 0.5654600262641907']\n",
            "['Test loss: 1.2020410299301147', 'Test acc: 0.5692999958992004']\n",
            "\n",
            "\n",
            "Epoch 4: \n"
          ]
        },
        {
          "name": "stderr",
          "output_type": "stream",
          "text": [
            "1563it [00:24, 63.47it/s]\n"
          ]
        },
        {
          "name": "stdout",
          "output_type": "stream",
          "text": [
            "['Train loss: 1.1637848615646362', 'Train acc: 0.5859000086784363']\n",
            "['Test loss: 1.1675604581832886', 'Test acc: 0.5770000219345093']\n",
            "\n",
            "\n",
            "Epoch 5: \n"
          ]
        },
        {
          "name": "stderr",
          "output_type": "stream",
          "text": [
            "1563it [00:20, 77.81it/s]\n"
          ]
        },
        {
          "name": "stdout",
          "output_type": "stream",
          "text": [
            "['Train loss: 1.113807201385498', 'Train acc: 0.6048200130462646']\n",
            "['Test loss: 1.0934183597564697', 'Test acc: 0.6044999957084656']\n",
            "\n",
            "\n",
            "Epoch 6: \n"
          ]
        },
        {
          "name": "stderr",
          "output_type": "stream",
          "text": [
            "1563it [00:21, 73.59it/s]\n"
          ]
        },
        {
          "name": "stdout",
          "output_type": "stream",
          "text": [
            "['Train loss: 1.0744212865829468', 'Train acc: 0.6186000108718872']\n",
            "['Test loss: 1.1096584796905518', 'Test acc: 0.608299970626831']\n",
            "\n",
            "\n",
            "Epoch 7: \n"
          ]
        },
        {
          "name": "stderr",
          "output_type": "stream",
          "text": [
            "1563it [00:24, 64.15it/s]\n"
          ]
        },
        {
          "name": "stdout",
          "output_type": "stream",
          "text": [
            "['Train loss: 1.043208360671997', 'Train acc: 0.6312800049781799']\n",
            "['Test loss: 1.0550329685211182', 'Test acc: 0.6230999827384949']\n",
            "\n",
            "\n",
            "Epoch 8: \n"
          ]
        },
        {
          "name": "stderr",
          "output_type": "stream",
          "text": [
            "1563it [00:19, 80.02it/s]\n"
          ]
        },
        {
          "name": "stdout",
          "output_type": "stream",
          "text": [
            "['Train loss: 1.0117554664611816', 'Train acc: 0.6416000127792358']\n",
            "['Test loss: 0.9958971738815308', 'Test acc: 0.6431999802589417']\n",
            "\n",
            "\n",
            "Epoch 9: \n"
          ]
        },
        {
          "name": "stderr",
          "output_type": "stream",
          "text": [
            "1563it [00:20, 76.70it/s]\n"
          ]
        },
        {
          "name": "stdout",
          "output_type": "stream",
          "text": [
            "['Train loss: 0.9886159300804138', 'Train acc: 0.6494200229644775']\n",
            "['Test loss: 0.9773367643356323', 'Test acc: 0.6486999988555908']\n",
            "\n",
            "\n"
          ]
        }
      ],
      "source": [
        "#myMod8 = BasicConvFilter2(tf.keras.optimizers.SGD(learning_rate=0.001, momentum = 0.9))\n",
        "myMod9 = BasicConvFilter2(tf.keras.optimizers.Adam(learning_rate=0.001))\n",
        "\n",
        "print(\"BasicConvFilter2 with a lower number of filters, optimizer=SGD, learning_rate=0.001, momentum=0.9\\n\")\n",
        "run(myMod9,num_epochs=10,config_name=f'BASICFILTER2_ADAM')\n",
        "# print(\"\\nBasicConvFilter2 with a lower number of filters, optimizer=Adam, learning_rate=0.001\\n\")\n",
        "# run(myMod9)"
      ]
    },
    {
      "cell_type": "code",
      "execution_count": 12,
      "metadata": {},
      "outputs": [
        {
          "name": "stdout",
          "output_type": "stream",
          "text": [
            "saved after epoch 15\n",
            "Epoch 0: \n"
          ]
        },
        {
          "name": "stderr",
          "output_type": "stream",
          "text": [
            "1563it [00:25, 61.50it/s]\n"
          ]
        },
        {
          "name": "stdout",
          "output_type": "stream",
          "text": [
            "['Train loss: 0.8706306219100952', 'Train acc: 0.693120002746582']\n",
            "['Test loss: 0.8881240487098694', 'Test acc: 0.6865000128746033']\n",
            "\n",
            "\n",
            "Epoch 1: \n"
          ]
        },
        {
          "name": "stderr",
          "output_type": "stream",
          "text": [
            "1563it [00:21, 71.72it/s]\n"
          ]
        },
        {
          "name": "stdout",
          "output_type": "stream",
          "text": [
            "['Train loss: 0.8599962592124939', 'Train acc: 0.6975399851799011']\n",
            "['Test loss: 0.8869524598121643', 'Test acc: 0.6880000233650208']\n",
            "\n",
            "\n",
            "Epoch 2: \n"
          ]
        },
        {
          "name": "stderr",
          "output_type": "stream",
          "text": [
            "1563it [00:21, 74.20it/s]\n"
          ]
        },
        {
          "name": "stdout",
          "output_type": "stream",
          "text": [
            "['Train loss: 0.8448078036308289', 'Train acc: 0.7022600173950195']\n",
            "['Test loss: 0.8831411600112915', 'Test acc: 0.690500020980835']\n",
            "\n",
            "\n",
            "Epoch 3: \n"
          ]
        },
        {
          "name": "stderr",
          "output_type": "stream",
          "text": [
            "1563it [00:19, 78.29it/s]\n"
          ]
        },
        {
          "name": "stdout",
          "output_type": "stream",
          "text": [
            "['Train loss: 0.8350838422775269', 'Train acc: 0.7073000073432922']\n",
            "['Test loss: 0.9358158707618713', 'Test acc: 0.6722999811172485']\n",
            "\n",
            "\n",
            "Epoch 4: \n"
          ]
        },
        {
          "name": "stderr",
          "output_type": "stream",
          "text": [
            "1563it [00:20, 75.32it/s]\n"
          ]
        },
        {
          "name": "stdout",
          "output_type": "stream",
          "text": [
            "['Train loss: 0.8220019340515137', 'Train acc: 0.7103000283241272']\n",
            "['Test loss: 0.8478057384490967', 'Test acc: 0.6988999843597412']\n",
            "\n",
            "\n",
            "Epoch 5: \n"
          ]
        },
        {
          "name": "stderr",
          "output_type": "stream",
          "text": [
            "1563it [00:20, 77.57it/s]\n"
          ]
        },
        {
          "name": "stdout",
          "output_type": "stream",
          "text": [
            "['Train loss: 0.8151190876960754', 'Train acc: 0.7132800221443176']\n",
            "['Test loss: 0.8460813164710999', 'Test acc: 0.7041000127792358']\n",
            "\n",
            "\n",
            "Epoch 6: \n"
          ]
        },
        {
          "name": "stderr",
          "output_type": "stream",
          "text": [
            "1563it [00:19, 79.83it/s]\n"
          ]
        },
        {
          "name": "stdout",
          "output_type": "stream",
          "text": [
            "['Train loss: 0.798457145690918', 'Train acc: 0.7196599841117859']\n",
            "['Test loss: 0.8460760712623596', 'Test acc: 0.7013999819755554']\n",
            "\n",
            "\n",
            "Epoch 7: \n"
          ]
        },
        {
          "name": "stderr",
          "output_type": "stream",
          "text": [
            "1563it [00:19, 79.91it/s]\n"
          ]
        },
        {
          "name": "stdout",
          "output_type": "stream",
          "text": [
            "['Train loss: 0.789778470993042', 'Train acc: 0.7226999998092651']\n",
            "['Test loss: 0.8385594487190247', 'Test acc: 0.7069000005722046']\n",
            "\n",
            "\n",
            "Epoch 8: \n"
          ]
        },
        {
          "name": "stderr",
          "output_type": "stream",
          "text": [
            "1563it [00:20, 75.71it/s]\n"
          ]
        },
        {
          "name": "stdout",
          "output_type": "stream",
          "text": [
            "['Train loss: 0.7765979766845703', 'Train acc: 0.7283999919891357']\n",
            "['Test loss: 0.8523053526878357', 'Test acc: 0.6991999745368958']\n",
            "\n",
            "\n",
            "Epoch 9: \n"
          ]
        },
        {
          "name": "stderr",
          "output_type": "stream",
          "text": [
            "1563it [00:21, 74.01it/s]\n"
          ]
        },
        {
          "name": "stdout",
          "output_type": "stream",
          "text": [
            "['Train loss: 0.7722440361976624', 'Train acc: 0.7299000024795532']\n",
            "['Test loss: 0.8375826478004456', 'Test acc: 0.7074999809265137']\n",
            "\n",
            "\n"
          ]
        }
      ],
      "source": [
        "myMod9 = BasicConvFilter2(tf.keras.optimizers.Adam(learning_rate=0.001))\n",
        "\n",
        "print(\"saved after epoch 15\")\n",
        "run(myMod9,num_epochs=10,load=True,config_name=f'BASICFILTER2_ADAM')"
      ]
    },
    {
      "cell_type": "code",
      "execution_count": 15,
      "metadata": {
        "id": "r56NEqYQNTR9"
      },
      "outputs": [
        {
          "name": "stdout",
          "output_type": "stream",
          "text": [
            "\n",
            "BasicConvDeep with a deeper network, optimizer=Adam, learning_rate=0.001\n",
            "\n",
            "Epoch 0: \n"
          ]
        },
        {
          "name": "stderr",
          "output_type": "stream",
          "text": [
            "1563it [01:07, 23.04it/s]\n"
          ]
        },
        {
          "name": "stdout",
          "output_type": "stream",
          "text": [
            "['Train loss: 1.5317734479904175', 'Train acc: 0.42552000284194946']\n",
            "['Test loss: 1.1670392751693726', 'Test acc: 0.5759999752044678']\n",
            "\n",
            "\n",
            "Epoch 1: \n"
          ]
        },
        {
          "name": "stderr",
          "output_type": "stream",
          "text": [
            "1563it [01:21, 19.17it/s]\n"
          ]
        },
        {
          "name": "stdout",
          "output_type": "stream",
          "text": [
            "['Train loss: 0.9884729981422424', 'Train acc: 0.646619975566864']\n",
            "['Test loss: 0.9020010232925415', 'Test acc: 0.6818000078201294']\n",
            "\n",
            "\n",
            "Epoch 2: \n"
          ]
        },
        {
          "name": "stderr",
          "output_type": "stream",
          "text": [
            "1563it [01:17, 20.25it/s]\n"
          ]
        },
        {
          "name": "stdout",
          "output_type": "stream",
          "text": [
            "['Train loss: 0.7673135995864868', 'Train acc: 0.7305799722671509']\n",
            "['Test loss: 0.7807344794273376', 'Test acc: 0.7272999882698059']\n",
            "\n",
            "\n",
            "Epoch 3: \n"
          ]
        },
        {
          "name": "stderr",
          "output_type": "stream",
          "text": [
            "1563it [01:05, 23.77it/s]\n"
          ]
        },
        {
          "name": "stdout",
          "output_type": "stream",
          "text": [
            "['Train loss: 0.6301100254058838', 'Train acc: 0.7778000235557556']\n",
            "['Test loss: 0.7338329553604126', 'Test acc: 0.753000020980835']\n",
            "\n",
            "\n",
            "Epoch 4: \n"
          ]
        },
        {
          "name": "stderr",
          "output_type": "stream",
          "text": [
            "1563it [01:04, 24.07it/s]\n"
          ]
        },
        {
          "name": "stdout",
          "output_type": "stream",
          "text": [
            "['Train loss: 0.5336644053459167', 'Train acc: 0.8115599751472473']\n",
            "['Test loss: 0.7087927460670471', 'Test acc: 0.7716000080108643']\n",
            "\n",
            "\n",
            "Epoch 5: \n"
          ]
        },
        {
          "name": "stderr",
          "output_type": "stream",
          "text": [
            "1563it [01:09, 22.47it/s]\n"
          ]
        },
        {
          "name": "stdout",
          "output_type": "stream",
          "text": [
            "['Train loss: 0.45072224736213684', 'Train acc: 0.8410199880599976']\n",
            "['Test loss: 0.7467039823532104', 'Test acc: 0.7646999955177307']\n",
            "\n",
            "\n",
            "Epoch 6: \n"
          ]
        },
        {
          "name": "stderr",
          "output_type": "stream",
          "text": [
            "1563it [01:06, 23.49it/s]\n"
          ]
        },
        {
          "name": "stdout",
          "output_type": "stream",
          "text": [
            "['Train loss: 0.37865936756134033', 'Train acc: 0.8637999892234802']\n",
            "['Test loss: 0.807889461517334', 'Test acc: 0.7753999829292297']\n",
            "\n",
            "\n",
            "Epoch 7: \n"
          ]
        },
        {
          "name": "stderr",
          "output_type": "stream",
          "text": [
            "1563it [01:15, 20.81it/s]\n"
          ]
        },
        {
          "name": "stdout",
          "output_type": "stream",
          "text": [
            "['Train loss: 0.3260960876941681', 'Train acc: 0.8835200071334839']\n",
            "['Test loss: 0.861922025680542', 'Test acc: 0.767799973487854']\n",
            "\n",
            "\n",
            "Epoch 8: \n"
          ]
        },
        {
          "name": "stderr",
          "output_type": "stream",
          "text": [
            "1563it [01:11, 21.88it/s]\n"
          ]
        },
        {
          "name": "stdout",
          "output_type": "stream",
          "text": [
            "['Train loss: 0.27957257628440857', 'Train acc: 0.9010800123214722']\n",
            "['Test loss: 0.8676460385322571', 'Test acc: 0.7732999920845032']\n",
            "\n",
            "\n",
            "Epoch 9: \n"
          ]
        },
        {
          "name": "stderr",
          "output_type": "stream",
          "text": [
            "1563it [01:13, 21.39it/s]\n"
          ]
        },
        {
          "name": "stdout",
          "output_type": "stream",
          "text": [
            "['Train loss: 0.2396579533815384', 'Train acc: 0.9145799875259399']\n",
            "['Test loss: 0.9578555226325989', 'Test acc: 0.7767999768257141']\n",
            "\n",
            "\n"
          ]
        }
      ],
      "source": [
        "#myMod10 = BasicConvDeep(tf.keras.optimizers.SGD(learning_rate=0.001, momentum = 0.9))\n",
        "myMod11 = BasicConvDeep(tf.keras.optimizers.Adam(learning_rate=0.001))\n",
        "\n",
        "# print(\"BasicConvDeep with a deeper network, optimizer=SGD, learning_rate=0.001, momentum=0.9\\n\")\n",
        "# run(myMod10)\n",
        "print(\"\\nBasicConvDeep with a deeper network, optimizer=Adam, learning_rate=0.001\\n\")\n",
        "run(myMod11,num_epochs=10,config_name=f'BASICDEEP_ADAM')"
      ]
    },
    {
      "cell_type": "code",
      "execution_count": 16,
      "metadata": {},
      "outputs": [
        {
          "name": "stdout",
          "output_type": "stream",
          "text": [
            "after 10 epochs\n",
            "Epoch 0: \n"
          ]
        },
        {
          "name": "stderr",
          "output_type": "stream",
          "text": [
            "1563it [01:08, 22.94it/s]\n"
          ]
        },
        {
          "name": "stdout",
          "output_type": "stream",
          "text": [
            "['Train loss: 0.2092805653810501', 'Train acc: 0.9253000020980835']\n",
            "['Test loss: 1.0070730447769165', 'Test acc: 0.7756999731063843']\n",
            "\n",
            "\n",
            "Epoch 1: \n"
          ]
        },
        {
          "name": "stderr",
          "output_type": "stream",
          "text": [
            "1563it [01:06, 23.39it/s]\n"
          ]
        },
        {
          "name": "stdout",
          "output_type": "stream",
          "text": [
            "['Train loss: 0.18894332647323608', 'Train acc: 0.9341599941253662']\n",
            "['Test loss: 1.0846259593963623', 'Test acc: 0.7796000242233276']\n",
            "\n",
            "\n",
            "Epoch 2: \n"
          ]
        },
        {
          "name": "stderr",
          "output_type": "stream",
          "text": [
            "1563it [01:07, 23.07it/s]\n"
          ]
        },
        {
          "name": "stdout",
          "output_type": "stream",
          "text": [
            "['Train loss: 0.1796649545431137', 'Train acc: 0.9375200271606445']\n",
            "['Test loss: 1.058705449104309', 'Test acc: 0.7832000255584717']\n",
            "\n",
            "\n",
            "Epoch 3: \n"
          ]
        },
        {
          "name": "stderr",
          "output_type": "stream",
          "text": [
            "1563it [01:09, 22.45it/s]\n"
          ]
        },
        {
          "name": "stdout",
          "output_type": "stream",
          "text": [
            "['Train loss: 0.16614237427711487', 'Train acc: 0.94132000207901']\n",
            "['Test loss: 1.001442313194275', 'Test acc: 0.7712000012397766']\n",
            "\n",
            "\n",
            "Epoch 4: \n"
          ]
        },
        {
          "name": "stderr",
          "output_type": "stream",
          "text": [
            "1563it [01:09, 22.51it/s]\n"
          ]
        },
        {
          "name": "stdout",
          "output_type": "stream",
          "text": [
            "['Train loss: 0.15666665136814117', 'Train acc: 0.9456200003623962']\n",
            "['Test loss: 1.1458014249801636', 'Test acc: 0.7754999995231628']\n",
            "\n",
            "\n"
          ]
        }
      ],
      "source": [
        "print(\"after 10 epochs\")\n",
        "run(myMod11,num_epochs=5,load=True,config_name=f'BASICDEEP_ADAM')"
      ]
    },
    {
      "cell_type": "code",
      "execution_count": null,
      "metadata": {
        "id": "5NNPqRX7NU36"
      },
      "outputs": [],
      "source": [
        "myMod12 = ResidualConnectedCNN(tf.keras.optimizers.SGD(learning_rate=0.001))\n",
        "\n",
        "print(\"Residual Convolutional Network, optimizer=SGD, learning_rate=0.001\")\n",
        "run(myMod12,num_epochs=5,save=False)"
      ]
    },
    {
      "cell_type": "code",
      "execution_count": 9,
      "metadata": {
        "colab": {
          "base_uri": "https://localhost:8080/"
        },
        "id": "cr0LlXEjNYkp",
        "outputId": "447cba44-d6ea-4ccb-b13e-da86fe627a00"
      },
      "outputs": [
        {
          "name": "stdout",
          "output_type": "stream",
          "text": [
            "Densely Connected Convolutional Network, optimizer=SGD\n",
            "\n",
            "Epoch 0: \n"
          ]
        },
        {
          "name": "stderr",
          "output_type": "stream",
          "text": [
            "100%|██████████| 1563/1563 [01:34<00:00, 16.52it/s]\n"
          ]
        },
        {
          "name": "stdout",
          "output_type": "stream",
          "text": [
            "['Train loss: 2.292332410812378', 'Train acc: 0.12451999634504318']\n",
            "['Test loss: 2.264366626739502', 'Test acc: 0.1712000072002411']\n",
            "\n",
            "\n",
            "Epoch 1: \n"
          ]
        },
        {
          "name": "stderr",
          "output_type": "stream",
          "text": [
            "100%|██████████| 1563/1563 [02:21<00:00, 11.01it/s]\n"
          ]
        },
        {
          "name": "stdout",
          "output_type": "stream",
          "text": [
            "['Train loss: 2.245129108428955', 'Train acc: 0.18014000356197357']\n",
            "['Test loss: 2.218503952026367', 'Test acc: 0.19349999725818634']\n",
            "\n",
            "\n",
            "Epoch 2: \n"
          ]
        },
        {
          "name": "stderr",
          "output_type": "stream",
          "text": [
            "100%|██████████| 1563/1563 [01:28<00:00, 17.74it/s]\n"
          ]
        },
        {
          "name": "stdout",
          "output_type": "stream",
          "text": [
            "['Train loss: 2.2026288509368896', 'Train acc: 0.19562000036239624']\n",
            "['Test loss: 2.175246477127075', 'Test acc: 0.20980000495910645']\n",
            "\n",
            "\n",
            "Epoch 3: \n"
          ]
        },
        {
          "name": "stderr",
          "output_type": "stream",
          "text": [
            "100%|██████████| 1563/1563 [02:21<00:00, 11.01it/s]\n"
          ]
        },
        {
          "name": "stdout",
          "output_type": "stream",
          "text": [
            "['Train loss: 2.162001609802246', 'Train acc: 0.21828000247478485']\n",
            "['Test loss: 2.1345627307891846', 'Test acc: 0.2264000028371811']\n",
            "\n",
            "\n",
            "Epoch 4: \n"
          ]
        },
        {
          "name": "stderr",
          "output_type": "stream",
          "text": [
            "100%|██████████| 1563/1563 [01:24<00:00, 18.44it/s]\n"
          ]
        },
        {
          "name": "stdout",
          "output_type": "stream",
          "text": [
            "['Train loss: 2.124032735824585', 'Train acc: 0.2292799949645996']\n",
            "['Test loss: 2.098832607269287', 'Test acc: 0.23919999599456787']\n",
            "\n",
            "\n"
          ]
        }
      ],
      "source": [
        "myMod13 = DenselyConnectedCNN(tf.keras.optimizers.SGD(learning_rate=0.001))\n",
        "\n",
        "print(\"Densely Connected Convolutional Network, optimizer=SGD\\n\")\n",
        "run(myMod13,num_epochs=5)\n",
        "\n"
      ]
    },
    {
      "cell_type": "code",
      "execution_count": 13,
      "metadata": {
        "colab": {
          "base_uri": "https://localhost:8080/"
        },
        "id": "PkA6nPcEnYvE",
        "outputId": "5f92bf03-4274-4352-9afb-3d19953b5498"
      },
      "outputs": [
        {
          "name": "stdout",
          "output_type": "stream",
          "text": [
            "Epoch 0: \n"
          ]
        },
        {
          "name": "stderr",
          "output_type": "stream",
          "text": [
            "100%|██████████| 1563/1563 [02:21<00:00, 11.01it/s]\n"
          ]
        },
        {
          "name": "stdout",
          "output_type": "stream",
          "text": [
            "['Train loss: 2.091501235961914', 'Train acc: 0.23739999532699585']\n",
            "['Test loss: 2.0699949264526367', 'Test acc: 0.24899999797344208']\n",
            "\n",
            "\n",
            "Epoch 1: \n"
          ]
        },
        {
          "name": "stderr",
          "output_type": "stream",
          "text": [
            "100%|██████████| 1563/1563 [02:21<00:00, 11.01it/s]\n"
          ]
        },
        {
          "name": "stdout",
          "output_type": "stream",
          "text": [
            "['Train loss: 2.0656793117523193', 'Train acc: 0.24422000348567963']\n",
            "['Test loss: 2.047729015350342', 'Test acc: 0.2563000023365021']\n",
            "\n",
            "\n",
            "Epoch 2: \n"
          ]
        },
        {
          "name": "stderr",
          "output_type": "stream",
          "text": [
            "100%|██████████| 1563/1563 [02:21<00:00, 11.01it/s]\n"
          ]
        },
        {
          "name": "stdout",
          "output_type": "stream",
          "text": [
            "['Train loss: 2.0448079109191895', 'Train acc: 0.250900000333786']\n",
            "['Test loss: 2.029047966003418', 'Test acc: 0.26420000195503235']\n",
            "\n",
            "\n",
            "Epoch 3: \n"
          ]
        },
        {
          "name": "stderr",
          "output_type": "stream",
          "text": [
            "100%|██████████| 1563/1563 [02:21<00:00, 11.01it/s]\n"
          ]
        },
        {
          "name": "stdout",
          "output_type": "stream",
          "text": [
            "['Train loss: 2.0262889862060547', 'Train acc: 0.2581999897956848']\n",
            "['Test loss: 2.011230230331421', 'Test acc: 0.2705000042915344']\n",
            "\n",
            "\n",
            "Epoch 4: \n"
          ]
        },
        {
          "name": "stderr",
          "output_type": "stream",
          "text": [
            "100%|██████████| 1563/1563 [02:21<00:00, 11.01it/s]\n"
          ]
        },
        {
          "name": "stdout",
          "output_type": "stream",
          "text": [
            "['Train loss: 2.009009838104248', 'Train acc: 0.2677200138568878']\n",
            "['Test loss: 1.9943252801895142', 'Test acc: 0.28200000524520874']\n",
            "\n",
            "\n"
          ]
        }
      ],
      "source": [
        "run(myMod13,num_epochs=5,load=True)"
      ]
    },
    {
      "cell_type": "code",
      "execution_count": 17,
      "metadata": {
        "id": "tUQwXJh3E0PP"
      },
      "outputs": [
        {
          "data": {
            "text/html": [
              "\n",
              "      <iframe id=\"tensorboard-frame-d3dbbfdcc3ab88f9\" width=\"100%\" height=\"800\" frameborder=\"0\">\n",
              "      </iframe>\n",
              "      <script>\n",
              "        (function() {\n",
              "          const frame = document.getElementById(\"tensorboard-frame-d3dbbfdcc3ab88f9\");\n",
              "          const url = new URL(\"/\", window.location);\n",
              "          const port = 6006;\n",
              "          if (port) {\n",
              "            url.port = port;\n",
              "          }\n",
              "          frame.src = url;\n",
              "        })();\n",
              "      </script>\n",
              "    "
            ],
            "text/plain": [
              "<IPython.core.display.HTML object>"
            ]
          },
          "metadata": {},
          "output_type": "display_data"
        }
      ],
      "source": [
        "%tensorboard --logdir logs/submission/"
      ]
    }
  ],
  "metadata": {
    "colab": {
      "provenance": []
    },
    "kernelspec": {
      "display_name": "Python 3.7.13 ('iannwtf')",
      "language": "python",
      "name": "python3"
    },
    "language_info": {
      "codemirror_mode": {
        "name": "ipython",
        "version": 3
      },
      "file_extension": ".py",
      "mimetype": "text/x-python",
      "name": "python",
      "nbconvert_exporter": "python",
      "pygments_lexer": "ipython3",
      "version": "3.7.13"
    },
    "vscode": {
      "interpreter": {
        "hash": "b015d8d08444dc4076b7f7e69cbb056b1f734af5c92891b9dbfabb6849c170fe"
      }
    },
    "widgets": {
      "application/vnd.jupyter.widget-state+json": {
        "00485ff760c04bde9ae60d35d54ebf33": {
          "model_module": "@jupyter-widgets/controls",
          "model_module_version": "1.5.0",
          "model_name": "ProgressStyleModel",
          "state": {
            "_model_module": "@jupyter-widgets/controls",
            "_model_module_version": "1.5.0",
            "_model_name": "ProgressStyleModel",
            "_view_count": null,
            "_view_module": "@jupyter-widgets/base",
            "_view_module_version": "1.2.0",
            "_view_name": "StyleView",
            "bar_color": null,
            "description_width": ""
          }
        },
        "00f441b33b6c4bc1a562425432b0d2dc": {
          "model_module": "@jupyter-widgets/base",
          "model_module_version": "1.2.0",
          "model_name": "LayoutModel",
          "state": {
            "_model_module": "@jupyter-widgets/base",
            "_model_module_version": "1.2.0",
            "_model_name": "LayoutModel",
            "_view_count": null,
            "_view_module": "@jupyter-widgets/base",
            "_view_module_version": "1.2.0",
            "_view_name": "LayoutView",
            "align_content": null,
            "align_items": null,
            "align_self": null,
            "border": null,
            "bottom": null,
            "display": null,
            "flex": null,
            "flex_flow": null,
            "grid_area": null,
            "grid_auto_columns": null,
            "grid_auto_flow": null,
            "grid_auto_rows": null,
            "grid_column": null,
            "grid_gap": null,
            "grid_row": null,
            "grid_template_areas": null,
            "grid_template_columns": null,
            "grid_template_rows": null,
            "height": null,
            "justify_content": null,
            "justify_items": null,
            "left": null,
            "margin": null,
            "max_height": null,
            "max_width": null,
            "min_height": null,
            "min_width": null,
            "object_fit": null,
            "object_position": null,
            "order": null,
            "overflow": null,
            "overflow_x": null,
            "overflow_y": null,
            "padding": null,
            "right": null,
            "top": null,
            "visibility": null,
            "width": null
          }
        },
        "046edeff8a8e450b876aa3621c9a8e28": {
          "model_module": "@jupyter-widgets/controls",
          "model_module_version": "1.5.0",
          "model_name": "FloatProgressModel",
          "state": {
            "_dom_classes": [],
            "_model_module": "@jupyter-widgets/controls",
            "_model_module_version": "1.5.0",
            "_model_name": "FloatProgressModel",
            "_view_count": null,
            "_view_module": "@jupyter-widgets/controls",
            "_view_module_version": "1.5.0",
            "_view_name": "ProgressView",
            "bar_style": "",
            "description": "",
            "description_tooltip": null,
            "layout": "IPY_MODEL_3e5b874ade004a67a4fc785ba28266c2",
            "max": 50000,
            "min": 0,
            "orientation": "horizontal",
            "style": "IPY_MODEL_5c49f1fe83484d11a8dfd940824305b0",
            "value": 50000
          }
        },
        "067b733bdc4346508248a81100d13d57": {
          "model_module": "@jupyter-widgets/controls",
          "model_module_version": "1.5.0",
          "model_name": "DescriptionStyleModel",
          "state": {
            "_model_module": "@jupyter-widgets/controls",
            "_model_module_version": "1.5.0",
            "_model_name": "DescriptionStyleModel",
            "_view_count": null,
            "_view_module": "@jupyter-widgets/base",
            "_view_module_version": "1.2.0",
            "_view_name": "StyleView",
            "description_width": ""
          }
        },
        "0817cb2bf18e4b3b95cacf61420af7e6": {
          "model_module": "@jupyter-widgets/controls",
          "model_module_version": "1.5.0",
          "model_name": "DescriptionStyleModel",
          "state": {
            "_model_module": "@jupyter-widgets/controls",
            "_model_module_version": "1.5.0",
            "_model_name": "DescriptionStyleModel",
            "_view_count": null,
            "_view_module": "@jupyter-widgets/base",
            "_view_module_version": "1.2.0",
            "_view_name": "StyleView",
            "description_width": ""
          }
        },
        "08639c41a7f5495ba0bd349e99a55218": {
          "model_module": "@jupyter-widgets/controls",
          "model_module_version": "1.5.0",
          "model_name": "FloatProgressModel",
          "state": {
            "_dom_classes": [],
            "_model_module": "@jupyter-widgets/controls",
            "_model_module_version": "1.5.0",
            "_model_name": "FloatProgressModel",
            "_view_count": null,
            "_view_module": "@jupyter-widgets/controls",
            "_view_module_version": "1.5.0",
            "_view_name": "ProgressView",
            "bar_style": "",
            "description": "",
            "description_tooltip": null,
            "layout": "IPY_MODEL_df60cab1dbec42368e29719dbd987a53",
            "max": 50000,
            "min": 0,
            "orientation": "horizontal",
            "style": "IPY_MODEL_ba19948ac98c43c7a2387d7bfc17566b",
            "value": 50000
          }
        },
        "09e6cc3a45e34887b420efb440fe39c8": {
          "model_module": "@jupyter-widgets/base",
          "model_module_version": "1.2.0",
          "model_name": "LayoutModel",
          "state": {
            "_model_module": "@jupyter-widgets/base",
            "_model_module_version": "1.2.0",
            "_model_name": "LayoutModel",
            "_view_count": null,
            "_view_module": "@jupyter-widgets/base",
            "_view_module_version": "1.2.0",
            "_view_name": "LayoutView",
            "align_content": null,
            "align_items": null,
            "align_self": null,
            "border": null,
            "bottom": null,
            "display": null,
            "flex": null,
            "flex_flow": null,
            "grid_area": null,
            "grid_auto_columns": null,
            "grid_auto_flow": null,
            "grid_auto_rows": null,
            "grid_column": null,
            "grid_gap": null,
            "grid_row": null,
            "grid_template_areas": null,
            "grid_template_columns": null,
            "grid_template_rows": null,
            "height": null,
            "justify_content": null,
            "justify_items": null,
            "left": null,
            "margin": null,
            "max_height": null,
            "max_width": null,
            "min_height": null,
            "min_width": null,
            "object_fit": null,
            "object_position": null,
            "order": null,
            "overflow": null,
            "overflow_x": null,
            "overflow_y": null,
            "padding": null,
            "right": null,
            "top": null,
            "visibility": null,
            "width": null
          }
        },
        "12f59ddbdbe84750980a53228605076a": {
          "model_module": "@jupyter-widgets/base",
          "model_module_version": "1.2.0",
          "model_name": "LayoutModel",
          "state": {
            "_model_module": "@jupyter-widgets/base",
            "_model_module_version": "1.2.0",
            "_model_name": "LayoutModel",
            "_view_count": null,
            "_view_module": "@jupyter-widgets/base",
            "_view_module_version": "1.2.0",
            "_view_name": "LayoutView",
            "align_content": null,
            "align_items": null,
            "align_self": null,
            "border": null,
            "bottom": null,
            "display": null,
            "flex": null,
            "flex_flow": null,
            "grid_area": null,
            "grid_auto_columns": null,
            "grid_auto_flow": null,
            "grid_auto_rows": null,
            "grid_column": null,
            "grid_gap": null,
            "grid_row": null,
            "grid_template_areas": null,
            "grid_template_columns": null,
            "grid_template_rows": null,
            "height": null,
            "justify_content": null,
            "justify_items": null,
            "left": null,
            "margin": null,
            "max_height": null,
            "max_width": null,
            "min_height": null,
            "min_width": null,
            "object_fit": null,
            "object_position": null,
            "order": null,
            "overflow": null,
            "overflow_x": null,
            "overflow_y": null,
            "padding": null,
            "right": null,
            "top": null,
            "visibility": null,
            "width": null
          }
        },
        "1310cc8d73b344bf8aeaebfaec7c4dc1": {
          "model_module": "@jupyter-widgets/controls",
          "model_module_version": "1.5.0",
          "model_name": "HTMLModel",
          "state": {
            "_dom_classes": [],
            "_model_module": "@jupyter-widgets/controls",
            "_model_module_version": "1.5.0",
            "_model_name": "HTMLModel",
            "_view_count": null,
            "_view_module": "@jupyter-widgets/controls",
            "_view_module_version": "1.5.0",
            "_view_name": "HTMLView",
            "description": "",
            "description_tooltip": null,
            "layout": "IPY_MODEL_1e094933ea074dca8bc4ec9e06a4c5a3",
            "placeholder": "​",
            "style": "IPY_MODEL_4d9dfecdb0604676b6e5c25234a62597",
            "value": "Generating test examples...: 100%"
          }
        },
        "160e790bb690451b9a142adb893c2419": {
          "model_module": "@jupyter-widgets/controls",
          "model_module_version": "1.5.0",
          "model_name": "HTMLModel",
          "state": {
            "_dom_classes": [],
            "_model_module": "@jupyter-widgets/controls",
            "_model_module_version": "1.5.0",
            "_model_name": "HTMLModel",
            "_view_count": null,
            "_view_module": "@jupyter-widgets/controls",
            "_view_module_version": "1.5.0",
            "_view_name": "HTMLView",
            "description": "",
            "description_tooltip": null,
            "layout": "IPY_MODEL_fb22f324910f495d99c8bbd76b479868",
            "placeholder": "​",
            "style": "IPY_MODEL_f8b5b6e0b6904175875f10e79324c1cd",
            "value": " 9964/10000 [00:10&lt;00:00, 745.04 examples/s]"
          }
        },
        "16b6eba681394a62b06554d1507e9e69": {
          "model_module": "@jupyter-widgets/base",
          "model_module_version": "1.2.0",
          "model_name": "LayoutModel",
          "state": {
            "_model_module": "@jupyter-widgets/base",
            "_model_module_version": "1.2.0",
            "_model_name": "LayoutModel",
            "_view_count": null,
            "_view_module": "@jupyter-widgets/base",
            "_view_module_version": "1.2.0",
            "_view_name": "LayoutView",
            "align_content": null,
            "align_items": null,
            "align_self": null,
            "border": null,
            "bottom": null,
            "display": null,
            "flex": null,
            "flex_flow": null,
            "grid_area": null,
            "grid_auto_columns": null,
            "grid_auto_flow": null,
            "grid_auto_rows": null,
            "grid_column": null,
            "grid_gap": null,
            "grid_row": null,
            "grid_template_areas": null,
            "grid_template_columns": null,
            "grid_template_rows": null,
            "height": null,
            "justify_content": null,
            "justify_items": null,
            "left": null,
            "margin": null,
            "max_height": null,
            "max_width": null,
            "min_height": null,
            "min_width": null,
            "object_fit": null,
            "object_position": null,
            "order": null,
            "overflow": null,
            "overflow_x": null,
            "overflow_y": null,
            "padding": null,
            "right": null,
            "top": null,
            "visibility": null,
            "width": null
          }
        },
        "18579e0473d54d4190c1bd46d6d55904": {
          "model_module": "@jupyter-widgets/controls",
          "model_module_version": "1.5.0",
          "model_name": "DescriptionStyleModel",
          "state": {
            "_model_module": "@jupyter-widgets/controls",
            "_model_module_version": "1.5.0",
            "_model_name": "DescriptionStyleModel",
            "_view_count": null,
            "_view_module": "@jupyter-widgets/base",
            "_view_module_version": "1.2.0",
            "_view_name": "StyleView",
            "description_width": ""
          }
        },
        "1adfba74e8124b38a39d8d55117f52b5": {
          "model_module": "@jupyter-widgets/controls",
          "model_module_version": "1.5.0",
          "model_name": "HBoxModel",
          "state": {
            "_dom_classes": [],
            "_model_module": "@jupyter-widgets/controls",
            "_model_module_version": "1.5.0",
            "_model_name": "HBoxModel",
            "_view_count": null,
            "_view_module": "@jupyter-widgets/controls",
            "_view_module_version": "1.5.0",
            "_view_name": "HBoxView",
            "box_style": "",
            "children": [
              "IPY_MODEL_211160977458483b98a50cd7b0c70e1b",
              "IPY_MODEL_f7be84a7778d4c99a048b6e9f81e01cb",
              "IPY_MODEL_fab3fabc89664fa08ac0c914cac06dae"
            ],
            "layout": "IPY_MODEL_eda20f0ea0254fc2856846e4d3ea196d"
          }
        },
        "1aec71893a444d77848418b76d03577a": {
          "model_module": "@jupyter-widgets/base",
          "model_module_version": "1.2.0",
          "model_name": "LayoutModel",
          "state": {
            "_model_module": "@jupyter-widgets/base",
            "_model_module_version": "1.2.0",
            "_model_name": "LayoutModel",
            "_view_count": null,
            "_view_module": "@jupyter-widgets/base",
            "_view_module_version": "1.2.0",
            "_view_name": "LayoutView",
            "align_content": null,
            "align_items": null,
            "align_self": null,
            "border": null,
            "bottom": null,
            "display": null,
            "flex": null,
            "flex_flow": null,
            "grid_area": null,
            "grid_auto_columns": null,
            "grid_auto_flow": null,
            "grid_auto_rows": null,
            "grid_column": null,
            "grid_gap": null,
            "grid_row": null,
            "grid_template_areas": null,
            "grid_template_columns": null,
            "grid_template_rows": null,
            "height": null,
            "justify_content": null,
            "justify_items": null,
            "left": null,
            "margin": null,
            "max_height": null,
            "max_width": null,
            "min_height": null,
            "min_width": null,
            "object_fit": null,
            "object_position": null,
            "order": null,
            "overflow": null,
            "overflow_x": null,
            "overflow_y": null,
            "padding": null,
            "right": null,
            "top": null,
            "visibility": null,
            "width": null
          }
        },
        "1c34539be9e44ac9896041cfc718c4ae": {
          "model_module": "@jupyter-widgets/controls",
          "model_module_version": "1.5.0",
          "model_name": "HBoxModel",
          "state": {
            "_dom_classes": [],
            "_model_module": "@jupyter-widgets/controls",
            "_model_module_version": "1.5.0",
            "_model_name": "HBoxModel",
            "_view_count": null,
            "_view_module": "@jupyter-widgets/controls",
            "_view_module_version": "1.5.0",
            "_view_name": "HBoxView",
            "box_style": "",
            "children": [
              "IPY_MODEL_1310cc8d73b344bf8aeaebfaec7c4dc1",
              "IPY_MODEL_673444e275a7499d86aef03ea44f17a2",
              "IPY_MODEL_160e790bb690451b9a142adb893c2419"
            ],
            "layout": "IPY_MODEL_fa59cf1715564eec99cf9a6fb1609f83"
          }
        },
        "1e094933ea074dca8bc4ec9e06a4c5a3": {
          "model_module": "@jupyter-widgets/base",
          "model_module_version": "1.2.0",
          "model_name": "LayoutModel",
          "state": {
            "_model_module": "@jupyter-widgets/base",
            "_model_module_version": "1.2.0",
            "_model_name": "LayoutModel",
            "_view_count": null,
            "_view_module": "@jupyter-widgets/base",
            "_view_module_version": "1.2.0",
            "_view_name": "LayoutView",
            "align_content": null,
            "align_items": null,
            "align_self": null,
            "border": null,
            "bottom": null,
            "display": null,
            "flex": null,
            "flex_flow": null,
            "grid_area": null,
            "grid_auto_columns": null,
            "grid_auto_flow": null,
            "grid_auto_rows": null,
            "grid_column": null,
            "grid_gap": null,
            "grid_row": null,
            "grid_template_areas": null,
            "grid_template_columns": null,
            "grid_template_rows": null,
            "height": null,
            "justify_content": null,
            "justify_items": null,
            "left": null,
            "margin": null,
            "max_height": null,
            "max_width": null,
            "min_height": null,
            "min_width": null,
            "object_fit": null,
            "object_position": null,
            "order": null,
            "overflow": null,
            "overflow_x": null,
            "overflow_y": null,
            "padding": null,
            "right": null,
            "top": null,
            "visibility": null,
            "width": null
          }
        },
        "211160977458483b98a50cd7b0c70e1b": {
          "model_module": "@jupyter-widgets/controls",
          "model_module_version": "1.5.0",
          "model_name": "HTMLModel",
          "state": {
            "_dom_classes": [],
            "_model_module": "@jupyter-widgets/controls",
            "_model_module_version": "1.5.0",
            "_model_name": "HTMLModel",
            "_view_count": null,
            "_view_module": "@jupyter-widgets/controls",
            "_view_module_version": "1.5.0",
            "_view_name": "HTMLView",
            "description": "",
            "description_tooltip": null,
            "layout": "IPY_MODEL_00f441b33b6c4bc1a562425432b0d2dc",
            "placeholder": "​",
            "style": "IPY_MODEL_586f8d8bb94840059f236d6d2cff8cd7",
            "value": "Dl Completed...: 100%"
          }
        },
        "224660ec5ac640178f21f9e50f61c8fb": {
          "model_module": "@jupyter-widgets/base",
          "model_module_version": "1.2.0",
          "model_name": "LayoutModel",
          "state": {
            "_model_module": "@jupyter-widgets/base",
            "_model_module_version": "1.2.0",
            "_model_name": "LayoutModel",
            "_view_count": null,
            "_view_module": "@jupyter-widgets/base",
            "_view_module_version": "1.2.0",
            "_view_name": "LayoutView",
            "align_content": null,
            "align_items": null,
            "align_self": null,
            "border": null,
            "bottom": null,
            "display": null,
            "flex": null,
            "flex_flow": null,
            "grid_area": null,
            "grid_auto_columns": null,
            "grid_auto_flow": null,
            "grid_auto_rows": null,
            "grid_column": null,
            "grid_gap": null,
            "grid_row": null,
            "grid_template_areas": null,
            "grid_template_columns": null,
            "grid_template_rows": null,
            "height": null,
            "justify_content": null,
            "justify_items": null,
            "left": null,
            "margin": null,
            "max_height": null,
            "max_width": null,
            "min_height": null,
            "min_width": null,
            "object_fit": null,
            "object_position": null,
            "order": null,
            "overflow": null,
            "overflow_x": null,
            "overflow_y": null,
            "padding": null,
            "right": null,
            "top": null,
            "visibility": "hidden",
            "width": null
          }
        },
        "2322ef51df1443ab8616d85280fb8d0c": {
          "model_module": "@jupyter-widgets/controls",
          "model_module_version": "1.5.0",
          "model_name": "ProgressStyleModel",
          "state": {
            "_model_module": "@jupyter-widgets/controls",
            "_model_module_version": "1.5.0",
            "_model_name": "ProgressStyleModel",
            "_view_count": null,
            "_view_module": "@jupyter-widgets/base",
            "_view_module_version": "1.2.0",
            "_view_name": "StyleView",
            "bar_color": null,
            "description_width": ""
          }
        },
        "23ba958976f64ec4b4c7103f68e7b634": {
          "model_module": "@jupyter-widgets/controls",
          "model_module_version": "1.5.0",
          "model_name": "FloatProgressModel",
          "state": {
            "_dom_classes": [],
            "_model_module": "@jupyter-widgets/controls",
            "_model_module_version": "1.5.0",
            "_model_name": "FloatProgressModel",
            "_view_count": null,
            "_view_module": "@jupyter-widgets/controls",
            "_view_module_version": "1.5.0",
            "_view_name": "ProgressView",
            "bar_style": "",
            "description": "",
            "description_tooltip": null,
            "layout": "IPY_MODEL_90d8ba21faea4d6d90697bb9b8a35ff9",
            "max": 2,
            "min": 0,
            "orientation": "horizontal",
            "style": "IPY_MODEL_00485ff760c04bde9ae60d35d54ebf33",
            "value": 2
          }
        },
        "253f845b227440c2af405ba86110a1d2": {
          "model_module": "@jupyter-widgets/controls",
          "model_module_version": "1.5.0",
          "model_name": "ProgressStyleModel",
          "state": {
            "_model_module": "@jupyter-widgets/controls",
            "_model_module_version": "1.5.0",
            "_model_name": "ProgressStyleModel",
            "_view_count": null,
            "_view_module": "@jupyter-widgets/base",
            "_view_module_version": "1.2.0",
            "_view_name": "StyleView",
            "bar_color": null,
            "description_width": ""
          }
        },
        "29b64dd742eb44b69f6b3ea95e918e56": {
          "model_module": "@jupyter-widgets/controls",
          "model_module_version": "1.5.0",
          "model_name": "HTMLModel",
          "state": {
            "_dom_classes": [],
            "_model_module": "@jupyter-widgets/controls",
            "_model_module_version": "1.5.0",
            "_model_name": "HTMLModel",
            "_view_count": null,
            "_view_module": "@jupyter-widgets/controls",
            "_view_module_version": "1.5.0",
            "_view_name": "HTMLView",
            "description": "",
            "description_tooltip": null,
            "layout": "IPY_MODEL_eaa6caffd3c6410aa72de831f5929b74",
            "placeholder": "​",
            "style": "IPY_MODEL_bdf135424bb24188b8589ca28dc21f22",
            "value": "Generating train examples...: 100%"
          }
        },
        "35bf07ce1f3a415884a8df2255d6afd8": {
          "model_module": "@jupyter-widgets/controls",
          "model_module_version": "1.5.0",
          "model_name": "HTMLModel",
          "state": {
            "_dom_classes": [],
            "_model_module": "@jupyter-widgets/controls",
            "_model_module_version": "1.5.0",
            "_model_name": "HTMLModel",
            "_view_count": null,
            "_view_module": "@jupyter-widgets/controls",
            "_view_module_version": "1.5.0",
            "_view_name": "HTMLView",
            "description": "",
            "description_tooltip": null,
            "layout": "IPY_MODEL_c8e61509cf7b4af2b310e8f4c82dd438",
            "placeholder": "​",
            "style": "IPY_MODEL_7f30e55364da4cdd8adf3e395a6d2bc4",
            "value": "Generating splits...: 100%"
          }
        },
        "3918a2f3430d4ebf98f058bd7519c98c": {
          "model_module": "@jupyter-widgets/controls",
          "model_module_version": "1.5.0",
          "model_name": "HTMLModel",
          "state": {
            "_dom_classes": [],
            "_model_module": "@jupyter-widgets/controls",
            "_model_module_version": "1.5.0",
            "_model_name": "HTMLModel",
            "_view_count": null,
            "_view_module": "@jupyter-widgets/controls",
            "_view_module_version": "1.5.0",
            "_view_name": "HTMLView",
            "description": "",
            "description_tooltip": null,
            "layout": "IPY_MODEL_1aec71893a444d77848418b76d03577a",
            "placeholder": "​",
            "style": "IPY_MODEL_d325a60965cb4a25ab2fad9c280419de",
            "value": " 45085/50000 [00:00&lt;00:00, 99776.14 examples/s]"
          }
        },
        "3a8c9337e37944a7969b6d2467e4c586": {
          "model_module": "@jupyter-widgets/controls",
          "model_module_version": "1.5.0",
          "model_name": "DescriptionStyleModel",
          "state": {
            "_model_module": "@jupyter-widgets/controls",
            "_model_module_version": "1.5.0",
            "_model_name": "DescriptionStyleModel",
            "_view_count": null,
            "_view_module": "@jupyter-widgets/base",
            "_view_module_version": "1.2.0",
            "_view_name": "StyleView",
            "description_width": ""
          }
        },
        "3dd8391d83824033a49b9676123e5e27": {
          "model_module": "@jupyter-widgets/base",
          "model_module_version": "1.2.0",
          "model_name": "LayoutModel",
          "state": {
            "_model_module": "@jupyter-widgets/base",
            "_model_module_version": "1.2.0",
            "_model_name": "LayoutModel",
            "_view_count": null,
            "_view_module": "@jupyter-widgets/base",
            "_view_module_version": "1.2.0",
            "_view_name": "LayoutView",
            "align_content": null,
            "align_items": null,
            "align_self": null,
            "border": null,
            "bottom": null,
            "display": null,
            "flex": null,
            "flex_flow": null,
            "grid_area": null,
            "grid_auto_columns": null,
            "grid_auto_flow": null,
            "grid_auto_rows": null,
            "grid_column": null,
            "grid_gap": null,
            "grid_row": null,
            "grid_template_areas": null,
            "grid_template_columns": null,
            "grid_template_rows": null,
            "height": null,
            "justify_content": null,
            "justify_items": null,
            "left": null,
            "margin": null,
            "max_height": null,
            "max_width": null,
            "min_height": null,
            "min_width": null,
            "object_fit": null,
            "object_position": null,
            "order": null,
            "overflow": null,
            "overflow_x": null,
            "overflow_y": null,
            "padding": null,
            "right": null,
            "top": null,
            "visibility": null,
            "width": null
          }
        },
        "3e5b874ade004a67a4fc785ba28266c2": {
          "model_module": "@jupyter-widgets/base",
          "model_module_version": "1.2.0",
          "model_name": "LayoutModel",
          "state": {
            "_model_module": "@jupyter-widgets/base",
            "_model_module_version": "1.2.0",
            "_model_name": "LayoutModel",
            "_view_count": null,
            "_view_module": "@jupyter-widgets/base",
            "_view_module_version": "1.2.0",
            "_view_name": "LayoutView",
            "align_content": null,
            "align_items": null,
            "align_self": null,
            "border": null,
            "bottom": null,
            "display": null,
            "flex": null,
            "flex_flow": null,
            "grid_area": null,
            "grid_auto_columns": null,
            "grid_auto_flow": null,
            "grid_auto_rows": null,
            "grid_column": null,
            "grid_gap": null,
            "grid_row": null,
            "grid_template_areas": null,
            "grid_template_columns": null,
            "grid_template_rows": null,
            "height": null,
            "justify_content": null,
            "justify_items": null,
            "left": null,
            "margin": null,
            "max_height": null,
            "max_width": null,
            "min_height": null,
            "min_width": null,
            "object_fit": null,
            "object_position": null,
            "order": null,
            "overflow": null,
            "overflow_x": null,
            "overflow_y": null,
            "padding": null,
            "right": null,
            "top": null,
            "visibility": null,
            "width": null
          }
        },
        "419be71e6b134856aee0e16a038be277": {
          "model_module": "@jupyter-widgets/base",
          "model_module_version": "1.2.0",
          "model_name": "LayoutModel",
          "state": {
            "_model_module": "@jupyter-widgets/base",
            "_model_module_version": "1.2.0",
            "_model_name": "LayoutModel",
            "_view_count": null,
            "_view_module": "@jupyter-widgets/base",
            "_view_module_version": "1.2.0",
            "_view_name": "LayoutView",
            "align_content": null,
            "align_items": null,
            "align_self": null,
            "border": null,
            "bottom": null,
            "display": null,
            "flex": null,
            "flex_flow": null,
            "grid_area": null,
            "grid_auto_columns": null,
            "grid_auto_flow": null,
            "grid_auto_rows": null,
            "grid_column": null,
            "grid_gap": null,
            "grid_row": null,
            "grid_template_areas": null,
            "grid_template_columns": null,
            "grid_template_rows": null,
            "height": null,
            "justify_content": null,
            "justify_items": null,
            "left": null,
            "margin": null,
            "max_height": null,
            "max_width": null,
            "min_height": null,
            "min_width": null,
            "object_fit": null,
            "object_position": null,
            "order": null,
            "overflow": null,
            "overflow_x": null,
            "overflow_y": null,
            "padding": null,
            "right": null,
            "top": null,
            "visibility": null,
            "width": null
          }
        },
        "4d9dfecdb0604676b6e5c25234a62597": {
          "model_module": "@jupyter-widgets/controls",
          "model_module_version": "1.5.0",
          "model_name": "DescriptionStyleModel",
          "state": {
            "_model_module": "@jupyter-widgets/controls",
            "_model_module_version": "1.5.0",
            "_model_name": "DescriptionStyleModel",
            "_view_count": null,
            "_view_module": "@jupyter-widgets/base",
            "_view_module_version": "1.2.0",
            "_view_name": "StyleView",
            "description_width": ""
          }
        },
        "57d819004e0a4736b767684e57e71447": {
          "model_module": "@jupyter-widgets/controls",
          "model_module_version": "1.5.0",
          "model_name": "HBoxModel",
          "state": {
            "_dom_classes": [],
            "_model_module": "@jupyter-widgets/controls",
            "_model_module_version": "1.5.0",
            "_model_name": "HBoxModel",
            "_view_count": null,
            "_view_module": "@jupyter-widgets/controls",
            "_view_module_version": "1.5.0",
            "_view_name": "HBoxView",
            "box_style": "",
            "children": [
              "IPY_MODEL_9b257c3300b54b65bd0d9d80c58c2964",
              "IPY_MODEL_828a3dfcc1dc4624b4bedd03baf0f6c7",
              "IPY_MODEL_95ac3273d84141b5bec5ab2a5bd6db63"
            ],
            "layout": "IPY_MODEL_ccf65da708584bb7a6c215ef8d9aed41"
          }
        },
        "58512c632fe24d81993e31e7d0ac2927": {
          "model_module": "@jupyter-widgets/base",
          "model_module_version": "1.2.0",
          "model_name": "LayoutModel",
          "state": {
            "_model_module": "@jupyter-widgets/base",
            "_model_module_version": "1.2.0",
            "_model_name": "LayoutModel",
            "_view_count": null,
            "_view_module": "@jupyter-widgets/base",
            "_view_module_version": "1.2.0",
            "_view_name": "LayoutView",
            "align_content": null,
            "align_items": null,
            "align_self": null,
            "border": null,
            "bottom": null,
            "display": null,
            "flex": null,
            "flex_flow": null,
            "grid_area": null,
            "grid_auto_columns": null,
            "grid_auto_flow": null,
            "grid_auto_rows": null,
            "grid_column": null,
            "grid_gap": null,
            "grid_row": null,
            "grid_template_areas": null,
            "grid_template_columns": null,
            "grid_template_rows": null,
            "height": null,
            "justify_content": null,
            "justify_items": null,
            "left": null,
            "margin": null,
            "max_height": null,
            "max_width": null,
            "min_height": null,
            "min_width": null,
            "object_fit": null,
            "object_position": null,
            "order": null,
            "overflow": null,
            "overflow_x": null,
            "overflow_y": null,
            "padding": null,
            "right": null,
            "top": null,
            "visibility": "hidden",
            "width": null
          }
        },
        "586f8d8bb94840059f236d6d2cff8cd7": {
          "model_module": "@jupyter-widgets/controls",
          "model_module_version": "1.5.0",
          "model_name": "DescriptionStyleModel",
          "state": {
            "_model_module": "@jupyter-widgets/controls",
            "_model_module_version": "1.5.0",
            "_model_name": "DescriptionStyleModel",
            "_view_count": null,
            "_view_module": "@jupyter-widgets/base",
            "_view_module_version": "1.2.0",
            "_view_name": "StyleView",
            "description_width": ""
          }
        },
        "5979219b47e2466fb0a181ab74c4ee67": {
          "model_module": "@jupyter-widgets/controls",
          "model_module_version": "1.5.0",
          "model_name": "HBoxModel",
          "state": {
            "_dom_classes": [],
            "_model_module": "@jupyter-widgets/controls",
            "_model_module_version": "1.5.0",
            "_model_name": "HBoxModel",
            "_view_count": null,
            "_view_module": "@jupyter-widgets/controls",
            "_view_module_version": "1.5.0",
            "_view_name": "HBoxView",
            "box_style": "",
            "children": [
              "IPY_MODEL_6c0b228486524aa4802266ab024b74ca",
              "IPY_MODEL_08639c41a7f5495ba0bd349e99a55218",
              "IPY_MODEL_3918a2f3430d4ebf98f058bd7519c98c"
            ],
            "layout": "IPY_MODEL_ad51fd8c44f1456f9a2b1f7853ce001c"
          }
        },
        "5c49f1fe83484d11a8dfd940824305b0": {
          "model_module": "@jupyter-widgets/controls",
          "model_module_version": "1.5.0",
          "model_name": "ProgressStyleModel",
          "state": {
            "_model_module": "@jupyter-widgets/controls",
            "_model_module_version": "1.5.0",
            "_model_name": "ProgressStyleModel",
            "_view_count": null,
            "_view_module": "@jupyter-widgets/base",
            "_view_module_version": "1.2.0",
            "_view_name": "StyleView",
            "bar_color": null,
            "description_width": ""
          }
        },
        "5f8a888418fd4097ac6fb9bda4b2832c": {
          "model_module": "@jupyter-widgets/base",
          "model_module_version": "1.2.0",
          "model_name": "LayoutModel",
          "state": {
            "_model_module": "@jupyter-widgets/base",
            "_model_module_version": "1.2.0",
            "_model_name": "LayoutModel",
            "_view_count": null,
            "_view_module": "@jupyter-widgets/base",
            "_view_module_version": "1.2.0",
            "_view_name": "LayoutView",
            "align_content": null,
            "align_items": null,
            "align_self": null,
            "border": null,
            "bottom": null,
            "display": null,
            "flex": null,
            "flex_flow": null,
            "grid_area": null,
            "grid_auto_columns": null,
            "grid_auto_flow": null,
            "grid_auto_rows": null,
            "grid_column": null,
            "grid_gap": null,
            "grid_row": null,
            "grid_template_areas": null,
            "grid_template_columns": null,
            "grid_template_rows": null,
            "height": null,
            "justify_content": null,
            "justify_items": null,
            "left": null,
            "margin": null,
            "max_height": null,
            "max_width": null,
            "min_height": null,
            "min_width": null,
            "object_fit": null,
            "object_position": null,
            "order": null,
            "overflow": null,
            "overflow_x": null,
            "overflow_y": null,
            "padding": null,
            "right": null,
            "top": null,
            "visibility": null,
            "width": "20px"
          }
        },
        "605b96f80c884a17ad58194b996cb43b": {
          "model_module": "@jupyter-widgets/controls",
          "model_module_version": "1.5.0",
          "model_name": "ProgressStyleModel",
          "state": {
            "_model_module": "@jupyter-widgets/controls",
            "_model_module_version": "1.5.0",
            "_model_name": "ProgressStyleModel",
            "_view_count": null,
            "_view_module": "@jupyter-widgets/base",
            "_view_module_version": "1.2.0",
            "_view_name": "StyleView",
            "bar_color": null,
            "description_width": ""
          }
        },
        "6470562adb134d65ae7296228e3b898f": {
          "model_module": "@jupyter-widgets/controls",
          "model_module_version": "1.5.0",
          "model_name": "HTMLModel",
          "state": {
            "_dom_classes": [],
            "_model_module": "@jupyter-widgets/controls",
            "_model_module_version": "1.5.0",
            "_model_name": "HTMLModel",
            "_view_count": null,
            "_view_module": "@jupyter-widgets/controls",
            "_view_module_version": "1.5.0",
            "_view_name": "HTMLView",
            "description": "",
            "description_tooltip": null,
            "layout": "IPY_MODEL_b33331b74356456a83f3584c90338fa6",
            "placeholder": "​",
            "style": "IPY_MODEL_deb25b05b6a24cc7957f3be4f746ed58",
            "value": " 49934/50000 [00:36&lt;00:00, 1680.88 examples/s]"
          }
        },
        "673444e275a7499d86aef03ea44f17a2": {
          "model_module": "@jupyter-widgets/controls",
          "model_module_version": "1.5.0",
          "model_name": "FloatProgressModel",
          "state": {
            "_dom_classes": [],
            "_model_module": "@jupyter-widgets/controls",
            "_model_module_version": "1.5.0",
            "_model_name": "FloatProgressModel",
            "_view_count": null,
            "_view_module": "@jupyter-widgets/controls",
            "_view_module_version": "1.5.0",
            "_view_name": "ProgressView",
            "bar_style": "",
            "description": "",
            "description_tooltip": null,
            "layout": "IPY_MODEL_f113ece112744fa8bc3ebc41d27370c9",
            "max": 10000,
            "min": 0,
            "orientation": "horizontal",
            "style": "IPY_MODEL_dcdb9bf795f8468184f6aaeee372a2ff",
            "value": 10000
          }
        },
        "6ba193b957c64ea59f99e8ee478e09fe": {
          "model_module": "@jupyter-widgets/controls",
          "model_module_version": "1.5.0",
          "model_name": "FloatProgressModel",
          "state": {
            "_dom_classes": [],
            "_model_module": "@jupyter-widgets/controls",
            "_model_module_version": "1.5.0",
            "_model_name": "FloatProgressModel",
            "_view_count": null,
            "_view_module": "@jupyter-widgets/controls",
            "_view_module_version": "1.5.0",
            "_view_name": "ProgressView",
            "bar_style": "success",
            "description": "",
            "description_tooltip": null,
            "layout": "IPY_MODEL_c2a8e9abaee740129715b5ce884961ea",
            "max": 1,
            "min": 0,
            "orientation": "horizontal",
            "style": "IPY_MODEL_253f845b227440c2af405ba86110a1d2",
            "value": 1
          }
        },
        "6ba318c5852245d385afe9defd77361c": {
          "model_module": "@jupyter-widgets/base",
          "model_module_version": "1.2.0",
          "model_name": "LayoutModel",
          "state": {
            "_model_module": "@jupyter-widgets/base",
            "_model_module_version": "1.2.0",
            "_model_name": "LayoutModel",
            "_view_count": null,
            "_view_module": "@jupyter-widgets/base",
            "_view_module_version": "1.2.0",
            "_view_name": "LayoutView",
            "align_content": null,
            "align_items": null,
            "align_self": null,
            "border": null,
            "bottom": null,
            "display": null,
            "flex": null,
            "flex_flow": null,
            "grid_area": null,
            "grid_auto_columns": null,
            "grid_auto_flow": null,
            "grid_auto_rows": null,
            "grid_column": null,
            "grid_gap": null,
            "grid_row": null,
            "grid_template_areas": null,
            "grid_template_columns": null,
            "grid_template_rows": null,
            "height": null,
            "justify_content": null,
            "justify_items": null,
            "left": null,
            "margin": null,
            "max_height": null,
            "max_width": null,
            "min_height": null,
            "min_width": null,
            "object_fit": null,
            "object_position": null,
            "order": null,
            "overflow": null,
            "overflow_x": null,
            "overflow_y": null,
            "padding": null,
            "right": null,
            "top": null,
            "visibility": null,
            "width": null
          }
        },
        "6c0b228486524aa4802266ab024b74ca": {
          "model_module": "@jupyter-widgets/controls",
          "model_module_version": "1.5.0",
          "model_name": "HTMLModel",
          "state": {
            "_dom_classes": [],
            "_model_module": "@jupyter-widgets/controls",
            "_model_module_version": "1.5.0",
            "_model_name": "HTMLModel",
            "_view_count": null,
            "_view_module": "@jupyter-widgets/controls",
            "_view_module_version": "1.5.0",
            "_view_name": "HTMLView",
            "description": "",
            "description_tooltip": null,
            "layout": "IPY_MODEL_12f59ddbdbe84750980a53228605076a",
            "placeholder": "​",
            "style": "IPY_MODEL_0817cb2bf18e4b3b95cacf61420af7e6",
            "value": "Shuffling ~/tensorflow_datasets/cifar10/3.0.2.incompleteC93K4K/cifar10-train.tfrecord*...:  90%"
          }
        },
        "7d5daff8da944c20bc93a5940ea74d3f": {
          "model_module": "@jupyter-widgets/controls",
          "model_module_version": "1.5.0",
          "model_name": "HTMLModel",
          "state": {
            "_dom_classes": [],
            "_model_module": "@jupyter-widgets/controls",
            "_model_module_version": "1.5.0",
            "_model_name": "HTMLModel",
            "_view_count": null,
            "_view_module": "@jupyter-widgets/controls",
            "_view_module_version": "1.5.0",
            "_view_name": "HTMLView",
            "description": "",
            "description_tooltip": null,
            "layout": "IPY_MODEL_6ba318c5852245d385afe9defd77361c",
            "placeholder": "​",
            "style": "IPY_MODEL_067b733bdc4346508248a81100d13d57",
            "value": " 2/2 [00:47&lt;00:00, 21.69s/ splits]"
          }
        },
        "7f30e55364da4cdd8adf3e395a6d2bc4": {
          "model_module": "@jupyter-widgets/controls",
          "model_module_version": "1.5.0",
          "model_name": "DescriptionStyleModel",
          "state": {
            "_model_module": "@jupyter-widgets/controls",
            "_model_module_version": "1.5.0",
            "_model_name": "DescriptionStyleModel",
            "_view_count": null,
            "_view_module": "@jupyter-widgets/base",
            "_view_module_version": "1.2.0",
            "_view_name": "StyleView",
            "description_width": ""
          }
        },
        "8185420c16924f849d7dbb1f30aeaa57": {
          "model_module": "@jupyter-widgets/base",
          "model_module_version": "1.2.0",
          "model_name": "LayoutModel",
          "state": {
            "_model_module": "@jupyter-widgets/base",
            "_model_module_version": "1.2.0",
            "_model_name": "LayoutModel",
            "_view_count": null,
            "_view_module": "@jupyter-widgets/base",
            "_view_module_version": "1.2.0",
            "_view_name": "LayoutView",
            "align_content": null,
            "align_items": null,
            "align_self": null,
            "border": null,
            "bottom": null,
            "display": null,
            "flex": null,
            "flex_flow": null,
            "grid_area": null,
            "grid_auto_columns": null,
            "grid_auto_flow": null,
            "grid_auto_rows": null,
            "grid_column": null,
            "grid_gap": null,
            "grid_row": null,
            "grid_template_areas": null,
            "grid_template_columns": null,
            "grid_template_rows": null,
            "height": null,
            "justify_content": null,
            "justify_items": null,
            "left": null,
            "margin": null,
            "max_height": null,
            "max_width": null,
            "min_height": null,
            "min_width": null,
            "object_fit": null,
            "object_position": null,
            "order": null,
            "overflow": null,
            "overflow_x": null,
            "overflow_y": null,
            "padding": null,
            "right": null,
            "top": null,
            "visibility": null,
            "width": null
          }
        },
        "820a8c379fb24943b430ecb239905a28": {
          "model_module": "@jupyter-widgets/controls",
          "model_module_version": "1.5.0",
          "model_name": "HBoxModel",
          "state": {
            "_dom_classes": [],
            "_model_module": "@jupyter-widgets/controls",
            "_model_module_version": "1.5.0",
            "_model_name": "HBoxModel",
            "_view_count": null,
            "_view_module": "@jupyter-widgets/controls",
            "_view_module_version": "1.5.0",
            "_view_name": "HBoxView",
            "box_style": "",
            "children": [
              "IPY_MODEL_29b64dd742eb44b69f6b3ea95e918e56",
              "IPY_MODEL_046edeff8a8e450b876aa3621c9a8e28",
              "IPY_MODEL_6470562adb134d65ae7296228e3b898f"
            ],
            "layout": "IPY_MODEL_224660ec5ac640178f21f9e50f61c8fb"
          }
        },
        "828a3dfcc1dc4624b4bedd03baf0f6c7": {
          "model_module": "@jupyter-widgets/controls",
          "model_module_version": "1.5.0",
          "model_name": "FloatProgressModel",
          "state": {
            "_dom_classes": [],
            "_model_module": "@jupyter-widgets/controls",
            "_model_module_version": "1.5.0",
            "_model_name": "FloatProgressModel",
            "_view_count": null,
            "_view_module": "@jupyter-widgets/controls",
            "_view_module_version": "1.5.0",
            "_view_name": "ProgressView",
            "bar_style": "success",
            "description": "",
            "description_tooltip": null,
            "layout": "IPY_MODEL_ffb8c19a5e274643a38c769a1ab54669",
            "max": 1,
            "min": 0,
            "orientation": "horizontal",
            "style": "IPY_MODEL_c1a4ec47f3a34eec9bd8079a45d70afa",
            "value": 1
          }
        },
        "8a47b2830bc54459933297664249de46": {
          "model_module": "@jupyter-widgets/base",
          "model_module_version": "1.2.0",
          "model_name": "LayoutModel",
          "state": {
            "_model_module": "@jupyter-widgets/base",
            "_model_module_version": "1.2.0",
            "_model_name": "LayoutModel",
            "_view_count": null,
            "_view_module": "@jupyter-widgets/base",
            "_view_module_version": "1.2.0",
            "_view_name": "LayoutView",
            "align_content": null,
            "align_items": null,
            "align_self": null,
            "border": null,
            "bottom": null,
            "display": null,
            "flex": null,
            "flex_flow": null,
            "grid_area": null,
            "grid_auto_columns": null,
            "grid_auto_flow": null,
            "grid_auto_rows": null,
            "grid_column": null,
            "grid_gap": null,
            "grid_row": null,
            "grid_template_areas": null,
            "grid_template_columns": null,
            "grid_template_rows": null,
            "height": null,
            "justify_content": null,
            "justify_items": null,
            "left": null,
            "margin": null,
            "max_height": null,
            "max_width": null,
            "min_height": null,
            "min_width": null,
            "object_fit": null,
            "object_position": null,
            "order": null,
            "overflow": null,
            "overflow_x": null,
            "overflow_y": null,
            "padding": null,
            "right": null,
            "top": null,
            "visibility": null,
            "width": null
          }
        },
        "90d8ba21faea4d6d90697bb9b8a35ff9": {
          "model_module": "@jupyter-widgets/base",
          "model_module_version": "1.2.0",
          "model_name": "LayoutModel",
          "state": {
            "_model_module": "@jupyter-widgets/base",
            "_model_module_version": "1.2.0",
            "_model_name": "LayoutModel",
            "_view_count": null,
            "_view_module": "@jupyter-widgets/base",
            "_view_module_version": "1.2.0",
            "_view_name": "LayoutView",
            "align_content": null,
            "align_items": null,
            "align_self": null,
            "border": null,
            "bottom": null,
            "display": null,
            "flex": null,
            "flex_flow": null,
            "grid_area": null,
            "grid_auto_columns": null,
            "grid_auto_flow": null,
            "grid_auto_rows": null,
            "grid_column": null,
            "grid_gap": null,
            "grid_row": null,
            "grid_template_areas": null,
            "grid_template_columns": null,
            "grid_template_rows": null,
            "height": null,
            "justify_content": null,
            "justify_items": null,
            "left": null,
            "margin": null,
            "max_height": null,
            "max_width": null,
            "min_height": null,
            "min_width": null,
            "object_fit": null,
            "object_position": null,
            "order": null,
            "overflow": null,
            "overflow_x": null,
            "overflow_y": null,
            "padding": null,
            "right": null,
            "top": null,
            "visibility": null,
            "width": null
          }
        },
        "95ac3273d84141b5bec5ab2a5bd6db63": {
          "model_module": "@jupyter-widgets/controls",
          "model_module_version": "1.5.0",
          "model_name": "HTMLModel",
          "state": {
            "_dom_classes": [],
            "_model_module": "@jupyter-widgets/controls",
            "_model_module_version": "1.5.0",
            "_model_name": "HTMLModel",
            "_view_count": null,
            "_view_module": "@jupyter-widgets/controls",
            "_view_module_version": "1.5.0",
            "_view_name": "HTMLView",
            "description": "",
            "description_tooltip": null,
            "layout": "IPY_MODEL_d3a17c10086840439f6b4ccdaf5e253b",
            "placeholder": "​",
            "style": "IPY_MODEL_e08774de1dc248179d1121b81fa5845a",
            "value": " 1/1 [00:14&lt;00:00, 14.40s/ file]"
          }
        },
        "9b257c3300b54b65bd0d9d80c58c2964": {
          "model_module": "@jupyter-widgets/controls",
          "model_module_version": "1.5.0",
          "model_name": "HTMLModel",
          "state": {
            "_dom_classes": [],
            "_model_module": "@jupyter-widgets/controls",
            "_model_module_version": "1.5.0",
            "_model_name": "HTMLModel",
            "_view_count": null,
            "_view_module": "@jupyter-widgets/controls",
            "_view_module_version": "1.5.0",
            "_view_name": "HTMLView",
            "description": "",
            "description_tooltip": null,
            "layout": "IPY_MODEL_419be71e6b134856aee0e16a038be277",
            "placeholder": "​",
            "style": "IPY_MODEL_c9f8ee799697404fb0a877fc4352e2ef",
            "value": "Extraction completed...: 100%"
          }
        },
        "9bbb3952409c4bf89314c7db06d48bb5": {
          "model_module": "@jupyter-widgets/controls",
          "model_module_version": "1.5.0",
          "model_name": "HTMLModel",
          "state": {
            "_dom_classes": [],
            "_model_module": "@jupyter-widgets/controls",
            "_model_module_version": "1.5.0",
            "_model_name": "HTMLModel",
            "_view_count": null,
            "_view_module": "@jupyter-widgets/controls",
            "_view_module_version": "1.5.0",
            "_view_name": "HTMLView",
            "description": "",
            "description_tooltip": null,
            "layout": "IPY_MODEL_8185420c16924f849d7dbb1f30aeaa57",
            "placeholder": "​",
            "style": "IPY_MODEL_ab4ff34d06014141875deb2b7e1d456f",
            "value": " 162/162 [00:14&lt;00:00, 25.57 MiB/s]"
          }
        },
        "a62e36d678b94fa585e352c922693db3": {
          "model_module": "@jupyter-widgets/controls",
          "model_module_version": "1.5.0",
          "model_name": "DescriptionStyleModel",
          "state": {
            "_model_module": "@jupyter-widgets/controls",
            "_model_module_version": "1.5.0",
            "_model_name": "DescriptionStyleModel",
            "_view_count": null,
            "_view_module": "@jupyter-widgets/base",
            "_view_module_version": "1.2.0",
            "_view_name": "StyleView",
            "description_width": ""
          }
        },
        "a80d222d9e88484f9240ce131acb30fb": {
          "model_module": "@jupyter-widgets/controls",
          "model_module_version": "1.5.0",
          "model_name": "HTMLModel",
          "state": {
            "_dom_classes": [],
            "_model_module": "@jupyter-widgets/controls",
            "_model_module_version": "1.5.0",
            "_model_name": "HTMLModel",
            "_view_count": null,
            "_view_module": "@jupyter-widgets/controls",
            "_view_module_version": "1.5.0",
            "_view_name": "HTMLView",
            "description": "",
            "description_tooltip": null,
            "layout": "IPY_MODEL_e8b50033224047cbb0b517372454ca9e",
            "placeholder": "​",
            "style": "IPY_MODEL_a62e36d678b94fa585e352c922693db3",
            "value": "Dl Size...: 100%"
          }
        },
        "ab4ff34d06014141875deb2b7e1d456f": {
          "model_module": "@jupyter-widgets/controls",
          "model_module_version": "1.5.0",
          "model_name": "DescriptionStyleModel",
          "state": {
            "_model_module": "@jupyter-widgets/controls",
            "_model_module_version": "1.5.0",
            "_model_name": "DescriptionStyleModel",
            "_view_count": null,
            "_view_module": "@jupyter-widgets/base",
            "_view_module_version": "1.2.0",
            "_view_name": "StyleView",
            "description_width": ""
          }
        },
        "ad51fd8c44f1456f9a2b1f7853ce001c": {
          "model_module": "@jupyter-widgets/base",
          "model_module_version": "1.2.0",
          "model_name": "LayoutModel",
          "state": {
            "_model_module": "@jupyter-widgets/base",
            "_model_module_version": "1.2.0",
            "_model_name": "LayoutModel",
            "_view_count": null,
            "_view_module": "@jupyter-widgets/base",
            "_view_module_version": "1.2.0",
            "_view_name": "LayoutView",
            "align_content": null,
            "align_items": null,
            "align_self": null,
            "border": null,
            "bottom": null,
            "display": null,
            "flex": null,
            "flex_flow": null,
            "grid_area": null,
            "grid_auto_columns": null,
            "grid_auto_flow": null,
            "grid_auto_rows": null,
            "grid_column": null,
            "grid_gap": null,
            "grid_row": null,
            "grid_template_areas": null,
            "grid_template_columns": null,
            "grid_template_rows": null,
            "height": null,
            "justify_content": null,
            "justify_items": null,
            "left": null,
            "margin": null,
            "max_height": null,
            "max_width": null,
            "min_height": null,
            "min_width": null,
            "object_fit": null,
            "object_position": null,
            "order": null,
            "overflow": null,
            "overflow_x": null,
            "overflow_y": null,
            "padding": null,
            "right": null,
            "top": null,
            "visibility": "hidden",
            "width": null
          }
        },
        "b33331b74356456a83f3584c90338fa6": {
          "model_module": "@jupyter-widgets/base",
          "model_module_version": "1.2.0",
          "model_name": "LayoutModel",
          "state": {
            "_model_module": "@jupyter-widgets/base",
            "_model_module_version": "1.2.0",
            "_model_name": "LayoutModel",
            "_view_count": null,
            "_view_module": "@jupyter-widgets/base",
            "_view_module_version": "1.2.0",
            "_view_name": "LayoutView",
            "align_content": null,
            "align_items": null,
            "align_self": null,
            "border": null,
            "bottom": null,
            "display": null,
            "flex": null,
            "flex_flow": null,
            "grid_area": null,
            "grid_auto_columns": null,
            "grid_auto_flow": null,
            "grid_auto_rows": null,
            "grid_column": null,
            "grid_gap": null,
            "grid_row": null,
            "grid_template_areas": null,
            "grid_template_columns": null,
            "grid_template_rows": null,
            "height": null,
            "justify_content": null,
            "justify_items": null,
            "left": null,
            "margin": null,
            "max_height": null,
            "max_width": null,
            "min_height": null,
            "min_width": null,
            "object_fit": null,
            "object_position": null,
            "order": null,
            "overflow": null,
            "overflow_x": null,
            "overflow_y": null,
            "padding": null,
            "right": null,
            "top": null,
            "visibility": null,
            "width": null
          }
        },
        "b6884079c1a74cf3b101b215382024e3": {
          "model_module": "@jupyter-widgets/base",
          "model_module_version": "1.2.0",
          "model_name": "LayoutModel",
          "state": {
            "_model_module": "@jupyter-widgets/base",
            "_model_module_version": "1.2.0",
            "_model_name": "LayoutModel",
            "_view_count": null,
            "_view_module": "@jupyter-widgets/base",
            "_view_module_version": "1.2.0",
            "_view_name": "LayoutView",
            "align_content": null,
            "align_items": null,
            "align_self": null,
            "border": null,
            "bottom": null,
            "display": null,
            "flex": null,
            "flex_flow": null,
            "grid_area": null,
            "grid_auto_columns": null,
            "grid_auto_flow": null,
            "grid_auto_rows": null,
            "grid_column": null,
            "grid_gap": null,
            "grid_row": null,
            "grid_template_areas": null,
            "grid_template_columns": null,
            "grid_template_rows": null,
            "height": null,
            "justify_content": null,
            "justify_items": null,
            "left": null,
            "margin": null,
            "max_height": null,
            "max_width": null,
            "min_height": null,
            "min_width": null,
            "object_fit": null,
            "object_position": null,
            "order": null,
            "overflow": null,
            "overflow_x": null,
            "overflow_y": null,
            "padding": null,
            "right": null,
            "top": null,
            "visibility": null,
            "width": null
          }
        },
        "ba19948ac98c43c7a2387d7bfc17566b": {
          "model_module": "@jupyter-widgets/controls",
          "model_module_version": "1.5.0",
          "model_name": "ProgressStyleModel",
          "state": {
            "_model_module": "@jupyter-widgets/controls",
            "_model_module_version": "1.5.0",
            "_model_name": "ProgressStyleModel",
            "_view_count": null,
            "_view_module": "@jupyter-widgets/base",
            "_view_module_version": "1.2.0",
            "_view_name": "StyleView",
            "bar_color": null,
            "description_width": ""
          }
        },
        "bdf135424bb24188b8589ca28dc21f22": {
          "model_module": "@jupyter-widgets/controls",
          "model_module_version": "1.5.0",
          "model_name": "DescriptionStyleModel",
          "state": {
            "_model_module": "@jupyter-widgets/controls",
            "_model_module_version": "1.5.0",
            "_model_name": "DescriptionStyleModel",
            "_view_count": null,
            "_view_module": "@jupyter-widgets/base",
            "_view_module_version": "1.2.0",
            "_view_name": "StyleView",
            "description_width": ""
          }
        },
        "c1280c2adf4c4cf193d00bb7ff5dac0b": {
          "model_module": "@jupyter-widgets/controls",
          "model_module_version": "1.5.0",
          "model_name": "HBoxModel",
          "state": {
            "_dom_classes": [],
            "_model_module": "@jupyter-widgets/controls",
            "_model_module_version": "1.5.0",
            "_model_name": "HBoxModel",
            "_view_count": null,
            "_view_module": "@jupyter-widgets/controls",
            "_view_module_version": "1.5.0",
            "_view_name": "HBoxView",
            "box_style": "",
            "children": [
              "IPY_MODEL_d9eac89acd99499cadabf0a26425e718",
              "IPY_MODEL_d014a8756e4840d3aad8c784baa69207",
              "IPY_MODEL_e52a84ef0f41429f9c8913403e9b7ff6"
            ],
            "layout": "IPY_MODEL_58512c632fe24d81993e31e7d0ac2927"
          }
        },
        "c1a4ec47f3a34eec9bd8079a45d70afa": {
          "model_module": "@jupyter-widgets/controls",
          "model_module_version": "1.5.0",
          "model_name": "ProgressStyleModel",
          "state": {
            "_model_module": "@jupyter-widgets/controls",
            "_model_module_version": "1.5.0",
            "_model_name": "ProgressStyleModel",
            "_view_count": null,
            "_view_module": "@jupyter-widgets/base",
            "_view_module_version": "1.2.0",
            "_view_name": "StyleView",
            "bar_color": null,
            "description_width": ""
          }
        },
        "c2a8e9abaee740129715b5ce884961ea": {
          "model_module": "@jupyter-widgets/base",
          "model_module_version": "1.2.0",
          "model_name": "LayoutModel",
          "state": {
            "_model_module": "@jupyter-widgets/base",
            "_model_module_version": "1.2.0",
            "_model_name": "LayoutModel",
            "_view_count": null,
            "_view_module": "@jupyter-widgets/base",
            "_view_module_version": "1.2.0",
            "_view_name": "LayoutView",
            "align_content": null,
            "align_items": null,
            "align_self": null,
            "border": null,
            "bottom": null,
            "display": null,
            "flex": null,
            "flex_flow": null,
            "grid_area": null,
            "grid_auto_columns": null,
            "grid_auto_flow": null,
            "grid_auto_rows": null,
            "grid_column": null,
            "grid_gap": null,
            "grid_row": null,
            "grid_template_areas": null,
            "grid_template_columns": null,
            "grid_template_rows": null,
            "height": null,
            "justify_content": null,
            "justify_items": null,
            "left": null,
            "margin": null,
            "max_height": null,
            "max_width": null,
            "min_height": null,
            "min_width": null,
            "object_fit": null,
            "object_position": null,
            "order": null,
            "overflow": null,
            "overflow_x": null,
            "overflow_y": null,
            "padding": null,
            "right": null,
            "top": null,
            "visibility": null,
            "width": "20px"
          }
        },
        "c8e61509cf7b4af2b310e8f4c82dd438": {
          "model_module": "@jupyter-widgets/base",
          "model_module_version": "1.2.0",
          "model_name": "LayoutModel",
          "state": {
            "_model_module": "@jupyter-widgets/base",
            "_model_module_version": "1.2.0",
            "_model_name": "LayoutModel",
            "_view_count": null,
            "_view_module": "@jupyter-widgets/base",
            "_view_module_version": "1.2.0",
            "_view_name": "LayoutView",
            "align_content": null,
            "align_items": null,
            "align_self": null,
            "border": null,
            "bottom": null,
            "display": null,
            "flex": null,
            "flex_flow": null,
            "grid_area": null,
            "grid_auto_columns": null,
            "grid_auto_flow": null,
            "grid_auto_rows": null,
            "grid_column": null,
            "grid_gap": null,
            "grid_row": null,
            "grid_template_areas": null,
            "grid_template_columns": null,
            "grid_template_rows": null,
            "height": null,
            "justify_content": null,
            "justify_items": null,
            "left": null,
            "margin": null,
            "max_height": null,
            "max_width": null,
            "min_height": null,
            "min_width": null,
            "object_fit": null,
            "object_position": null,
            "order": null,
            "overflow": null,
            "overflow_x": null,
            "overflow_y": null,
            "padding": null,
            "right": null,
            "top": null,
            "visibility": null,
            "width": null
          }
        },
        "c9f8ee799697404fb0a877fc4352e2ef": {
          "model_module": "@jupyter-widgets/controls",
          "model_module_version": "1.5.0",
          "model_name": "DescriptionStyleModel",
          "state": {
            "_model_module": "@jupyter-widgets/controls",
            "_model_module_version": "1.5.0",
            "_model_name": "DescriptionStyleModel",
            "_view_count": null,
            "_view_module": "@jupyter-widgets/base",
            "_view_module_version": "1.2.0",
            "_view_name": "StyleView",
            "description_width": ""
          }
        },
        "ccf65da708584bb7a6c215ef8d9aed41": {
          "model_module": "@jupyter-widgets/base",
          "model_module_version": "1.2.0",
          "model_name": "LayoutModel",
          "state": {
            "_model_module": "@jupyter-widgets/base",
            "_model_module_version": "1.2.0",
            "_model_name": "LayoutModel",
            "_view_count": null,
            "_view_module": "@jupyter-widgets/base",
            "_view_module_version": "1.2.0",
            "_view_name": "LayoutView",
            "align_content": null,
            "align_items": null,
            "align_self": null,
            "border": null,
            "bottom": null,
            "display": null,
            "flex": null,
            "flex_flow": null,
            "grid_area": null,
            "grid_auto_columns": null,
            "grid_auto_flow": null,
            "grid_auto_rows": null,
            "grid_column": null,
            "grid_gap": null,
            "grid_row": null,
            "grid_template_areas": null,
            "grid_template_columns": null,
            "grid_template_rows": null,
            "height": null,
            "justify_content": null,
            "justify_items": null,
            "left": null,
            "margin": null,
            "max_height": null,
            "max_width": null,
            "min_height": null,
            "min_width": null,
            "object_fit": null,
            "object_position": null,
            "order": null,
            "overflow": null,
            "overflow_x": null,
            "overflow_y": null,
            "padding": null,
            "right": null,
            "top": null,
            "visibility": null,
            "width": null
          }
        },
        "d014a8756e4840d3aad8c784baa69207": {
          "model_module": "@jupyter-widgets/controls",
          "model_module_version": "1.5.0",
          "model_name": "FloatProgressModel",
          "state": {
            "_dom_classes": [],
            "_model_module": "@jupyter-widgets/controls",
            "_model_module_version": "1.5.0",
            "_model_name": "FloatProgressModel",
            "_view_count": null,
            "_view_module": "@jupyter-widgets/controls",
            "_view_module_version": "1.5.0",
            "_view_name": "ProgressView",
            "bar_style": "",
            "description": "",
            "description_tooltip": null,
            "layout": "IPY_MODEL_8a47b2830bc54459933297664249de46",
            "max": 10000,
            "min": 0,
            "orientation": "horizontal",
            "style": "IPY_MODEL_605b96f80c884a17ad58194b996cb43b",
            "value": 10000
          }
        },
        "d03cf23ad4584f1cbed504219eb34069": {
          "model_module": "@jupyter-widgets/controls",
          "model_module_version": "1.5.0",
          "model_name": "HBoxModel",
          "state": {
            "_dom_classes": [],
            "_model_module": "@jupyter-widgets/controls",
            "_model_module_version": "1.5.0",
            "_model_name": "HBoxModel",
            "_view_count": null,
            "_view_module": "@jupyter-widgets/controls",
            "_view_module_version": "1.5.0",
            "_view_name": "HBoxView",
            "box_style": "",
            "children": [
              "IPY_MODEL_35bf07ce1f3a415884a8df2255d6afd8",
              "IPY_MODEL_23ba958976f64ec4b4c7103f68e7b634",
              "IPY_MODEL_7d5daff8da944c20bc93a5940ea74d3f"
            ],
            "layout": "IPY_MODEL_d5d15b64eda745b78d2717a1ca315a04"
          }
        },
        "d325a60965cb4a25ab2fad9c280419de": {
          "model_module": "@jupyter-widgets/controls",
          "model_module_version": "1.5.0",
          "model_name": "DescriptionStyleModel",
          "state": {
            "_model_module": "@jupyter-widgets/controls",
            "_model_module_version": "1.5.0",
            "_model_name": "DescriptionStyleModel",
            "_view_count": null,
            "_view_module": "@jupyter-widgets/base",
            "_view_module_version": "1.2.0",
            "_view_name": "StyleView",
            "description_width": ""
          }
        },
        "d3a17c10086840439f6b4ccdaf5e253b": {
          "model_module": "@jupyter-widgets/base",
          "model_module_version": "1.2.0",
          "model_name": "LayoutModel",
          "state": {
            "_model_module": "@jupyter-widgets/base",
            "_model_module_version": "1.2.0",
            "_model_name": "LayoutModel",
            "_view_count": null,
            "_view_module": "@jupyter-widgets/base",
            "_view_module_version": "1.2.0",
            "_view_name": "LayoutView",
            "align_content": null,
            "align_items": null,
            "align_self": null,
            "border": null,
            "bottom": null,
            "display": null,
            "flex": null,
            "flex_flow": null,
            "grid_area": null,
            "grid_auto_columns": null,
            "grid_auto_flow": null,
            "grid_auto_rows": null,
            "grid_column": null,
            "grid_gap": null,
            "grid_row": null,
            "grid_template_areas": null,
            "grid_template_columns": null,
            "grid_template_rows": null,
            "height": null,
            "justify_content": null,
            "justify_items": null,
            "left": null,
            "margin": null,
            "max_height": null,
            "max_width": null,
            "min_height": null,
            "min_width": null,
            "object_fit": null,
            "object_position": null,
            "order": null,
            "overflow": null,
            "overflow_x": null,
            "overflow_y": null,
            "padding": null,
            "right": null,
            "top": null,
            "visibility": null,
            "width": null
          }
        },
        "d5d15b64eda745b78d2717a1ca315a04": {
          "model_module": "@jupyter-widgets/base",
          "model_module_version": "1.2.0",
          "model_name": "LayoutModel",
          "state": {
            "_model_module": "@jupyter-widgets/base",
            "_model_module_version": "1.2.0",
            "_model_name": "LayoutModel",
            "_view_count": null,
            "_view_module": "@jupyter-widgets/base",
            "_view_module_version": "1.2.0",
            "_view_name": "LayoutView",
            "align_content": null,
            "align_items": null,
            "align_self": null,
            "border": null,
            "bottom": null,
            "display": null,
            "flex": null,
            "flex_flow": null,
            "grid_area": null,
            "grid_auto_columns": null,
            "grid_auto_flow": null,
            "grid_auto_rows": null,
            "grid_column": null,
            "grid_gap": null,
            "grid_row": null,
            "grid_template_areas": null,
            "grid_template_columns": null,
            "grid_template_rows": null,
            "height": null,
            "justify_content": null,
            "justify_items": null,
            "left": null,
            "margin": null,
            "max_height": null,
            "max_width": null,
            "min_height": null,
            "min_width": null,
            "object_fit": null,
            "object_position": null,
            "order": null,
            "overflow": null,
            "overflow_x": null,
            "overflow_y": null,
            "padding": null,
            "right": null,
            "top": null,
            "visibility": "hidden",
            "width": null
          }
        },
        "d9eac89acd99499cadabf0a26425e718": {
          "model_module": "@jupyter-widgets/controls",
          "model_module_version": "1.5.0",
          "model_name": "HTMLModel",
          "state": {
            "_dom_classes": [],
            "_model_module": "@jupyter-widgets/controls",
            "_model_module_version": "1.5.0",
            "_model_name": "HTMLModel",
            "_view_count": null,
            "_view_module": "@jupyter-widgets/controls",
            "_view_module_version": "1.5.0",
            "_view_name": "HTMLView",
            "description": "",
            "description_tooltip": null,
            "layout": "IPY_MODEL_b6884079c1a74cf3b101b215382024e3",
            "placeholder": "​",
            "style": "IPY_MODEL_3a8c9337e37944a7969b6d2467e4c586",
            "value": "Shuffling ~/tensorflow_datasets/cifar10/3.0.2.incompleteC93K4K/cifar10-test.tfrecord*...:  86%"
          }
        },
        "d9f78c475ec1434cbfd819a1694b336e": {
          "model_module": "@jupyter-widgets/controls",
          "model_module_version": "1.5.0",
          "model_name": "HBoxModel",
          "state": {
            "_dom_classes": [],
            "_model_module": "@jupyter-widgets/controls",
            "_model_module_version": "1.5.0",
            "_model_name": "HBoxModel",
            "_view_count": null,
            "_view_module": "@jupyter-widgets/controls",
            "_view_module_version": "1.5.0",
            "_view_name": "HBoxView",
            "box_style": "",
            "children": [
              "IPY_MODEL_a80d222d9e88484f9240ce131acb30fb",
              "IPY_MODEL_6ba193b957c64ea59f99e8ee478e09fe",
              "IPY_MODEL_9bbb3952409c4bf89314c7db06d48bb5"
            ],
            "layout": "IPY_MODEL_16b6eba681394a62b06554d1507e9e69"
          }
        },
        "dcdb9bf795f8468184f6aaeee372a2ff": {
          "model_module": "@jupyter-widgets/controls",
          "model_module_version": "1.5.0",
          "model_name": "ProgressStyleModel",
          "state": {
            "_model_module": "@jupyter-widgets/controls",
            "_model_module_version": "1.5.0",
            "_model_name": "ProgressStyleModel",
            "_view_count": null,
            "_view_module": "@jupyter-widgets/base",
            "_view_module_version": "1.2.0",
            "_view_name": "StyleView",
            "bar_color": null,
            "description_width": ""
          }
        },
        "de9a237cd2fc474b96d146272af389f4": {
          "model_module": "@jupyter-widgets/controls",
          "model_module_version": "1.5.0",
          "model_name": "DescriptionStyleModel",
          "state": {
            "_model_module": "@jupyter-widgets/controls",
            "_model_module_version": "1.5.0",
            "_model_name": "DescriptionStyleModel",
            "_view_count": null,
            "_view_module": "@jupyter-widgets/base",
            "_view_module_version": "1.2.0",
            "_view_name": "StyleView",
            "description_width": ""
          }
        },
        "deb25b05b6a24cc7957f3be4f746ed58": {
          "model_module": "@jupyter-widgets/controls",
          "model_module_version": "1.5.0",
          "model_name": "DescriptionStyleModel",
          "state": {
            "_model_module": "@jupyter-widgets/controls",
            "_model_module_version": "1.5.0",
            "_model_name": "DescriptionStyleModel",
            "_view_count": null,
            "_view_module": "@jupyter-widgets/base",
            "_view_module_version": "1.2.0",
            "_view_name": "StyleView",
            "description_width": ""
          }
        },
        "df60cab1dbec42368e29719dbd987a53": {
          "model_module": "@jupyter-widgets/base",
          "model_module_version": "1.2.0",
          "model_name": "LayoutModel",
          "state": {
            "_model_module": "@jupyter-widgets/base",
            "_model_module_version": "1.2.0",
            "_model_name": "LayoutModel",
            "_view_count": null,
            "_view_module": "@jupyter-widgets/base",
            "_view_module_version": "1.2.0",
            "_view_name": "LayoutView",
            "align_content": null,
            "align_items": null,
            "align_self": null,
            "border": null,
            "bottom": null,
            "display": null,
            "flex": null,
            "flex_flow": null,
            "grid_area": null,
            "grid_auto_columns": null,
            "grid_auto_flow": null,
            "grid_auto_rows": null,
            "grid_column": null,
            "grid_gap": null,
            "grid_row": null,
            "grid_template_areas": null,
            "grid_template_columns": null,
            "grid_template_rows": null,
            "height": null,
            "justify_content": null,
            "justify_items": null,
            "left": null,
            "margin": null,
            "max_height": null,
            "max_width": null,
            "min_height": null,
            "min_width": null,
            "object_fit": null,
            "object_position": null,
            "order": null,
            "overflow": null,
            "overflow_x": null,
            "overflow_y": null,
            "padding": null,
            "right": null,
            "top": null,
            "visibility": null,
            "width": null
          }
        },
        "e08774de1dc248179d1121b81fa5845a": {
          "model_module": "@jupyter-widgets/controls",
          "model_module_version": "1.5.0",
          "model_name": "DescriptionStyleModel",
          "state": {
            "_model_module": "@jupyter-widgets/controls",
            "_model_module_version": "1.5.0",
            "_model_name": "DescriptionStyleModel",
            "_view_count": null,
            "_view_module": "@jupyter-widgets/base",
            "_view_module_version": "1.2.0",
            "_view_name": "StyleView",
            "description_width": ""
          }
        },
        "e52a84ef0f41429f9c8913403e9b7ff6": {
          "model_module": "@jupyter-widgets/controls",
          "model_module_version": "1.5.0",
          "model_name": "HTMLModel",
          "state": {
            "_dom_classes": [],
            "_model_module": "@jupyter-widgets/controls",
            "_model_module_version": "1.5.0",
            "_model_name": "HTMLModel",
            "_view_count": null,
            "_view_module": "@jupyter-widgets/controls",
            "_view_module_version": "1.5.0",
            "_view_name": "HTMLView",
            "description": "",
            "description_tooltip": null,
            "layout": "IPY_MODEL_09e6cc3a45e34887b420efb440fe39c8",
            "placeholder": "​",
            "style": "IPY_MODEL_de9a237cd2fc474b96d146272af389f4",
            "value": " 8551/10000 [00:00&lt;00:00, 41357.58 examples/s]"
          }
        },
        "e8b50033224047cbb0b517372454ca9e": {
          "model_module": "@jupyter-widgets/base",
          "model_module_version": "1.2.0",
          "model_name": "LayoutModel",
          "state": {
            "_model_module": "@jupyter-widgets/base",
            "_model_module_version": "1.2.0",
            "_model_name": "LayoutModel",
            "_view_count": null,
            "_view_module": "@jupyter-widgets/base",
            "_view_module_version": "1.2.0",
            "_view_name": "LayoutView",
            "align_content": null,
            "align_items": null,
            "align_self": null,
            "border": null,
            "bottom": null,
            "display": null,
            "flex": null,
            "flex_flow": null,
            "grid_area": null,
            "grid_auto_columns": null,
            "grid_auto_flow": null,
            "grid_auto_rows": null,
            "grid_column": null,
            "grid_gap": null,
            "grid_row": null,
            "grid_template_areas": null,
            "grid_template_columns": null,
            "grid_template_rows": null,
            "height": null,
            "justify_content": null,
            "justify_items": null,
            "left": null,
            "margin": null,
            "max_height": null,
            "max_width": null,
            "min_height": null,
            "min_width": null,
            "object_fit": null,
            "object_position": null,
            "order": null,
            "overflow": null,
            "overflow_x": null,
            "overflow_y": null,
            "padding": null,
            "right": null,
            "top": null,
            "visibility": null,
            "width": null
          }
        },
        "eaa6caffd3c6410aa72de831f5929b74": {
          "model_module": "@jupyter-widgets/base",
          "model_module_version": "1.2.0",
          "model_name": "LayoutModel",
          "state": {
            "_model_module": "@jupyter-widgets/base",
            "_model_module_version": "1.2.0",
            "_model_name": "LayoutModel",
            "_view_count": null,
            "_view_module": "@jupyter-widgets/base",
            "_view_module_version": "1.2.0",
            "_view_name": "LayoutView",
            "align_content": null,
            "align_items": null,
            "align_self": null,
            "border": null,
            "bottom": null,
            "display": null,
            "flex": null,
            "flex_flow": null,
            "grid_area": null,
            "grid_auto_columns": null,
            "grid_auto_flow": null,
            "grid_auto_rows": null,
            "grid_column": null,
            "grid_gap": null,
            "grid_row": null,
            "grid_template_areas": null,
            "grid_template_columns": null,
            "grid_template_rows": null,
            "height": null,
            "justify_content": null,
            "justify_items": null,
            "left": null,
            "margin": null,
            "max_height": null,
            "max_width": null,
            "min_height": null,
            "min_width": null,
            "object_fit": null,
            "object_position": null,
            "order": null,
            "overflow": null,
            "overflow_x": null,
            "overflow_y": null,
            "padding": null,
            "right": null,
            "top": null,
            "visibility": null,
            "width": null
          }
        },
        "eda20f0ea0254fc2856846e4d3ea196d": {
          "model_module": "@jupyter-widgets/base",
          "model_module_version": "1.2.0",
          "model_name": "LayoutModel",
          "state": {
            "_model_module": "@jupyter-widgets/base",
            "_model_module_version": "1.2.0",
            "_model_name": "LayoutModel",
            "_view_count": null,
            "_view_module": "@jupyter-widgets/base",
            "_view_module_version": "1.2.0",
            "_view_name": "LayoutView",
            "align_content": null,
            "align_items": null,
            "align_self": null,
            "border": null,
            "bottom": null,
            "display": null,
            "flex": null,
            "flex_flow": null,
            "grid_area": null,
            "grid_auto_columns": null,
            "grid_auto_flow": null,
            "grid_auto_rows": null,
            "grid_column": null,
            "grid_gap": null,
            "grid_row": null,
            "grid_template_areas": null,
            "grid_template_columns": null,
            "grid_template_rows": null,
            "height": null,
            "justify_content": null,
            "justify_items": null,
            "left": null,
            "margin": null,
            "max_height": null,
            "max_width": null,
            "min_height": null,
            "min_width": null,
            "object_fit": null,
            "object_position": null,
            "order": null,
            "overflow": null,
            "overflow_x": null,
            "overflow_y": null,
            "padding": null,
            "right": null,
            "top": null,
            "visibility": null,
            "width": null
          }
        },
        "f113ece112744fa8bc3ebc41d27370c9": {
          "model_module": "@jupyter-widgets/base",
          "model_module_version": "1.2.0",
          "model_name": "LayoutModel",
          "state": {
            "_model_module": "@jupyter-widgets/base",
            "_model_module_version": "1.2.0",
            "_model_name": "LayoutModel",
            "_view_count": null,
            "_view_module": "@jupyter-widgets/base",
            "_view_module_version": "1.2.0",
            "_view_name": "LayoutView",
            "align_content": null,
            "align_items": null,
            "align_self": null,
            "border": null,
            "bottom": null,
            "display": null,
            "flex": null,
            "flex_flow": null,
            "grid_area": null,
            "grid_auto_columns": null,
            "grid_auto_flow": null,
            "grid_auto_rows": null,
            "grid_column": null,
            "grid_gap": null,
            "grid_row": null,
            "grid_template_areas": null,
            "grid_template_columns": null,
            "grid_template_rows": null,
            "height": null,
            "justify_content": null,
            "justify_items": null,
            "left": null,
            "margin": null,
            "max_height": null,
            "max_width": null,
            "min_height": null,
            "min_width": null,
            "object_fit": null,
            "object_position": null,
            "order": null,
            "overflow": null,
            "overflow_x": null,
            "overflow_y": null,
            "padding": null,
            "right": null,
            "top": null,
            "visibility": null,
            "width": null
          }
        },
        "f7be84a7778d4c99a048b6e9f81e01cb": {
          "model_module": "@jupyter-widgets/controls",
          "model_module_version": "1.5.0",
          "model_name": "FloatProgressModel",
          "state": {
            "_dom_classes": [],
            "_model_module": "@jupyter-widgets/controls",
            "_model_module_version": "1.5.0",
            "_model_name": "FloatProgressModel",
            "_view_count": null,
            "_view_module": "@jupyter-widgets/controls",
            "_view_module_version": "1.5.0",
            "_view_name": "ProgressView",
            "bar_style": "success",
            "description": "",
            "description_tooltip": null,
            "layout": "IPY_MODEL_5f8a888418fd4097ac6fb9bda4b2832c",
            "max": 1,
            "min": 0,
            "orientation": "horizontal",
            "style": "IPY_MODEL_2322ef51df1443ab8616d85280fb8d0c",
            "value": 1
          }
        },
        "f8b5b6e0b6904175875f10e79324c1cd": {
          "model_module": "@jupyter-widgets/controls",
          "model_module_version": "1.5.0",
          "model_name": "DescriptionStyleModel",
          "state": {
            "_model_module": "@jupyter-widgets/controls",
            "_model_module_version": "1.5.0",
            "_model_name": "DescriptionStyleModel",
            "_view_count": null,
            "_view_module": "@jupyter-widgets/base",
            "_view_module_version": "1.2.0",
            "_view_name": "StyleView",
            "description_width": ""
          }
        },
        "fa59cf1715564eec99cf9a6fb1609f83": {
          "model_module": "@jupyter-widgets/base",
          "model_module_version": "1.2.0",
          "model_name": "LayoutModel",
          "state": {
            "_model_module": "@jupyter-widgets/base",
            "_model_module_version": "1.2.0",
            "_model_name": "LayoutModel",
            "_view_count": null,
            "_view_module": "@jupyter-widgets/base",
            "_view_module_version": "1.2.0",
            "_view_name": "LayoutView",
            "align_content": null,
            "align_items": null,
            "align_self": null,
            "border": null,
            "bottom": null,
            "display": null,
            "flex": null,
            "flex_flow": null,
            "grid_area": null,
            "grid_auto_columns": null,
            "grid_auto_flow": null,
            "grid_auto_rows": null,
            "grid_column": null,
            "grid_gap": null,
            "grid_row": null,
            "grid_template_areas": null,
            "grid_template_columns": null,
            "grid_template_rows": null,
            "height": null,
            "justify_content": null,
            "justify_items": null,
            "left": null,
            "margin": null,
            "max_height": null,
            "max_width": null,
            "min_height": null,
            "min_width": null,
            "object_fit": null,
            "object_position": null,
            "order": null,
            "overflow": null,
            "overflow_x": null,
            "overflow_y": null,
            "padding": null,
            "right": null,
            "top": null,
            "visibility": "hidden",
            "width": null
          }
        },
        "fab3fabc89664fa08ac0c914cac06dae": {
          "model_module": "@jupyter-widgets/controls",
          "model_module_version": "1.5.0",
          "model_name": "HTMLModel",
          "state": {
            "_dom_classes": [],
            "_model_module": "@jupyter-widgets/controls",
            "_model_module_version": "1.5.0",
            "_model_name": "HTMLModel",
            "_view_count": null,
            "_view_module": "@jupyter-widgets/controls",
            "_view_module_version": "1.5.0",
            "_view_name": "HTMLView",
            "description": "",
            "description_tooltip": null,
            "layout": "IPY_MODEL_3dd8391d83824033a49b9676123e5e27",
            "placeholder": "​",
            "style": "IPY_MODEL_18579e0473d54d4190c1bd46d6d55904",
            "value": " 1/1 [00:14&lt;00:00,  8.50s/ url]"
          }
        },
        "fb22f324910f495d99c8bbd76b479868": {
          "model_module": "@jupyter-widgets/base",
          "model_module_version": "1.2.0",
          "model_name": "LayoutModel",
          "state": {
            "_model_module": "@jupyter-widgets/base",
            "_model_module_version": "1.2.0",
            "_model_name": "LayoutModel",
            "_view_count": null,
            "_view_module": "@jupyter-widgets/base",
            "_view_module_version": "1.2.0",
            "_view_name": "LayoutView",
            "align_content": null,
            "align_items": null,
            "align_self": null,
            "border": null,
            "bottom": null,
            "display": null,
            "flex": null,
            "flex_flow": null,
            "grid_area": null,
            "grid_auto_columns": null,
            "grid_auto_flow": null,
            "grid_auto_rows": null,
            "grid_column": null,
            "grid_gap": null,
            "grid_row": null,
            "grid_template_areas": null,
            "grid_template_columns": null,
            "grid_template_rows": null,
            "height": null,
            "justify_content": null,
            "justify_items": null,
            "left": null,
            "margin": null,
            "max_height": null,
            "max_width": null,
            "min_height": null,
            "min_width": null,
            "object_fit": null,
            "object_position": null,
            "order": null,
            "overflow": null,
            "overflow_x": null,
            "overflow_y": null,
            "padding": null,
            "right": null,
            "top": null,
            "visibility": null,
            "width": null
          }
        },
        "ffb8c19a5e274643a38c769a1ab54669": {
          "model_module": "@jupyter-widgets/base",
          "model_module_version": "1.2.0",
          "model_name": "LayoutModel",
          "state": {
            "_model_module": "@jupyter-widgets/base",
            "_model_module_version": "1.2.0",
            "_model_name": "LayoutModel",
            "_view_count": null,
            "_view_module": "@jupyter-widgets/base",
            "_view_module_version": "1.2.0",
            "_view_name": "LayoutView",
            "align_content": null,
            "align_items": null,
            "align_self": null,
            "border": null,
            "bottom": null,
            "display": null,
            "flex": null,
            "flex_flow": null,
            "grid_area": null,
            "grid_auto_columns": null,
            "grid_auto_flow": null,
            "grid_auto_rows": null,
            "grid_column": null,
            "grid_gap": null,
            "grid_row": null,
            "grid_template_areas": null,
            "grid_template_columns": null,
            "grid_template_rows": null,
            "height": null,
            "justify_content": null,
            "justify_items": null,
            "left": null,
            "margin": null,
            "max_height": null,
            "max_width": null,
            "min_height": null,
            "min_width": null,
            "object_fit": null,
            "object_position": null,
            "order": null,
            "overflow": null,
            "overflow_x": null,
            "overflow_y": null,
            "padding": null,
            "right": null,
            "top": null,
            "visibility": null,
            "width": "20px"
          }
        }
      }
    }
  },
  "nbformat": 4,
  "nbformat_minor": 0
}
