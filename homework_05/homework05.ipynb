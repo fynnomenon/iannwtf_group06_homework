{
 "cells": [
  {
   "cell_type": "code",
   "execution_count": 1,
   "metadata": {
    "colab": {
     "base_uri": "https://localhost:8080/"
    },
    "id": "3eQD_OhqmeeB",
    "outputId": "855470c2-1ea4-4717-8eab-4aac9286d1ea"
   },
   "outputs": [
    {
     "name": "stderr",
     "output_type": "stream",
     "text": [
      "2022-12-04 18:11:32.233909: W tensorflow/compiler/xla/stream_executor/platform/default/dso_loader.cc:64] Could not load dynamic library 'libnvinfer.so.7'; dlerror: libnvinfer.so.7: cannot open shared object file: No such file or directory; LD_LIBRARY_PATH: /usr/local/nvidia/lib:/usr/local/nvidia/lib64\n",
      "2022-12-04 18:11:32.233986: W tensorflow/compiler/xla/stream_executor/platform/default/dso_loader.cc:64] Could not load dynamic library 'libnvinfer_plugin.so.7'; dlerror: libnvinfer_plugin.so.7: cannot open shared object file: No such file or directory; LD_LIBRARY_PATH: /usr/local/nvidia/lib:/usr/local/nvidia/lib64\n",
      "2022-12-04 18:11:32.233994: W tensorflow/compiler/tf2tensorrt/utils/py_utils.cc:38] TF-TRT Warning: Cannot dlopen some TensorRT libraries. If you would like to use Nvidia GPU with TensorRT, please make sure the missing libraries mentioned above are installed properly.\n"
     ]
    }
   ],
   "source": [
    "\"\"\"\n",
    "@authors: faurand, chardes, ehagensieker\n",
    "\"\"\"\n",
    "import tensorflow_datasets as tfds\n",
    "import tensorflow as tf\n",
    "import numpy as np\n",
    "import matplotlib.pyplot as plt\n",
    "import math\n",
    "import datetime\n",
    "import tqdm\n",
    "import pprint\n",
    "\n",
    "# in a notebook, load the tensorboard extension, not needed for scripts\n",
    "%load_ext tensorboard\n",
    "\n",
    "#load the mnist dataset\n",
    "(train_ds, test_ds) = tfds.load('Cifar10', split=['train[:75%]', 'test[:25%]'], as_supervised=True)"
   ]
  },
  {
   "cell_type": "code",
   "execution_count": 2,
   "metadata": {},
   "outputs": [
    {
     "data": {
      "image/png": "[encoded data removed]",
      "text/plain": [
       "<Figure size 216x216 with 1 Axes>"
      ]
     },
     "metadata": {
      "needs_background": "light"
     },
     "output_type": "display_data"
    }
   ],
   "source": [
    "train = list(train_ds)\n",
    "class_names = ['airplane', 'automobile', 'bird', 'cat', 'deer','dog', 'frog', 'horse', 'ship', 'truck']\n",
    "\n",
    "plt.figure(figsize=(3,3))\n",
    "plt.imshow(train[0][0])\n",
    "plt.xlabel(class_names[int(train[0][1])])\n",
    "plt.show()"
   ]
  },
  {
   "cell_type": "code",
   "execution_count": 3,
   "metadata": {
    "id": "cu6QEg08F9oO"
   },
   "outputs": [],
   "source": [
    "def prepare_data(batch_size, data): \n",
    "    '''\n",
    "    prepare the dataset to have one-hot-vectors and values between -1 and 1\n",
    "    '''\n",
    "    data = data.map(lambda img, target: (tf.cast(img, tf.float32), tf.cast(target,tf.int32)))\n",
    "    data = data.map(lambda img, target: (img/128.0-1.0,target))\n",
    "    data = data.map(lambda img, target: (img, tf.one_hot(target, depth=10)))\n",
    "\n",
    "    data = data.cache()\n",
    "    data = data.shuffle(1000)\n",
    "    data = data.batch(batch_size)\n",
    "    data = data.prefetch(tf.data.AUTOTUNE)\n",
    "\n",
    "    return data"
   ]
  },
  {
   "cell_type": "code",
   "execution_count": 4,
   "metadata": {},
   "outputs": [],
   "source": [
    "class CNNLayer(tf.keras.layers.Layer):\n",
    "    def __init__(self, num_filter):\n",
    "        super(CNNLayer, self).__init__()\n",
    "        self.conv = tf.keras.layers.Conv2D(filters = num_filter, kernel_size = 3, padding = 'same', activation = 'relu')\n",
    "        \n",
    "    def call(self, x):\n",
    "        c = self.conv(x)\n",
    "        return c\n",
    "    \n",
    "class CNNBlock(tf.keras.layers.Layer):\n",
    "    def __init__(self, num_filter, layers):\n",
    "        super(CNNBlock, self).__init__()\n",
    "        self.layers = [CNNLayer(num_filter) for _ in range(layers)]\n",
    "    \n",
    "    def call(self,x):\n",
    "        for layer in self.layers:\n",
    "            x = layer(x)\n",
    "            return x"
   ]
  },
  {
   "cell_type": "code",
   "execution_count": 5,
   "metadata": {},
   "outputs": [],
   "source": [
    "class DenseCNNLayer(tf.keras.layers.Layer):\n",
    "    def __init__(self, num_filter):\n",
    "        super(DenseCNNLayer, self).__init__()\n",
    "        self.conv = tf.keras.layers.Conv2D(filters = num_filter, kernel_size = 3, padding = 'same', activation = 'relu')\n",
    "        \n",
    "    def call(self, x):\n",
    "        c = self.conv(x)\n",
    "        x = tf.concat((x,c),axis=-1)\n",
    "        return x\n",
    "    \n",
    "class DenseCNNBlock(tf.keras.layers.Layer):\n",
    "    def __init__(self, num_filter, layers):\n",
    "        super(DenseCNNBlock, self).__init__()\n",
    "        self.layers = [CNNLayer(num_filter) for _ in range(layers)]\n",
    "    \n",
    "    def call(self,x):\n",
    "        for layer in self.layers:\n",
    "            x = layer(x)\n",
    "            return x"
   ]
  },
  {
   "cell_type": "code",
   "execution_count": 6,
   "metadata": {},
   "outputs": [],
   "source": [
    "class ResidualCNNLayer(tf.keras.layers.Layer):\n",
    "    def __init__(self, num_filter):\n",
    "        super(ResidualCNNLayer, self).__init__()\n",
    "        self.conv = tf.keras.layers.Conv2D(filters = num_filter, kernel_size = 3, padding = 'same', activation = 'relu')\n",
    "        \n",
    "    def call(self, x):\n",
    "        c = self.conv(x)\n",
    "        x = c+x\n",
    "        return x\n",
    "    \n",
    "class ResidualCNNBlock(tf.keras.layers.Layer):\n",
    "    def __init__(self, num_filter, layers):\n",
    "        super(ResidualCNNBlock, self).__init__()\n",
    "        self.deeper_layer = tf.keras.layers.Conv2D(filters=num_filter, kernel_size=3, padding='same', activation='relu')\n",
    "        self.layers = [CNNLayer(num_filter) for _ in range(layers)]\n",
    "    \n",
    "    def call(self,x):\n",
    "        x = self.deeper_layer(x)\n",
    "        for layer in self.layers:\n",
    "            x = layer(x)\n",
    "            return x"
   ]
  },
  {
   "cell_type": "code",
   "execution_count": 7,
   "metadata": {
    "id": "dUQ1Kr1dAPXP"
   },
   "outputs": [],
   "source": [
    "from tensorflow.keras.layers import Dense\n",
    "\n",
    "class ConvModel(tf.keras.Model):\n",
    "    '''\n",
    "    create a deeper network with 4 blocks each having 2 layers and starting with 32 filters in the first layer\n",
    "    '''\n",
    "    def __init__(self,optimizer = tf.keras.optimizers.Adam()):\n",
    "        super(ConvModel, self).__init__()\n",
    "\n",
    "        self.optimizer = optimizer\n",
    "        self.loss_function = tf.keras.losses.CategoricalCrossentropy()\n",
    "\n",
    "        self.metrics_list = [ tf.keras.metrics.Mean(name=\"loss\"),\n",
    "                            tf.keras.metrics.CategoricalAccuracy(name=\"acc\"),\n",
    "        ]\n",
    "\n",
    "        #original input size is 32*32, we have 32 as number of filters\n",
    "        self.block1 = ResidualCNNBlock(32, 2)\n",
    "        self.pooling1 = tf.keras.layers.MaxPooling2D(pool_size=2, strides=2)\n",
    "\n",
    "        #after pooling the size is reduced to 16*16\n",
    "        self.block2 = ResidualCNNBlock(64, 3)\n",
    "        self.pooling2 = tf.keras.layers.MaxPooling2D(pool_size=2, strides=2)\n",
    "\n",
    "        #after pooling the size is reduced to 8*8\n",
    "        self.block3 = ResidualCNNBlock(128, 3)\n",
    "        self.global_pool = tf.keras.layers.GlobalAvgPool2D()\n",
    "\n",
    "        # one fully connected layer\n",
    "        self.fc1 = tf.keras.layers.Dense(256, activation='relu')\n",
    "        # last layer is a dense layer with softmax activation \n",
    "        self.out = tf.keras.layers.Dense(10, activation = 'softmax')\n",
    "\n",
    "    def call(self, x): \n",
    "        x = self.block1(x)\n",
    "        x = self.pooling1(x)\n",
    "        x = self.block2(x)\n",
    "        x = self.pooling2(x)\n",
    "        x = self.block3(x)\n",
    "        x = self.global_pool(x)\n",
    "        x = self.fc1(x)\n",
    "        x = self.out(x)\n",
    "\n",
    "        return x\n",
    "\n",
    "    @property\n",
    "    def metrics(self):\n",
    "        return self.metrics_list\n",
    "\n",
    "\n",
    "    def reset_metric(self):\n",
    "        for metric in self.metrics:\n",
    "            metric.reset_states()\n",
    "\n",
    "    @tf.function \n",
    "    def train_step(self, data):\n",
    "        x, t = data\n",
    "\n",
    "        with tf.GradientTape() as tape:\n",
    "            output = self(x, training = True)\n",
    "            loss = self.loss_function(t, output)\n",
    "\n",
    "        gradients = tape.gradient(loss, self.trainable_variables)\n",
    "        self.optimizer.apply_gradients(zip(gradients, self.trainable_variables))\n",
    "\n",
    "        self.metrics[0].update_state(loss)\n",
    "\n",
    "        for metric in self.metrics[1:]:\n",
    "            metric.update_state(t,output)\n",
    "\n",
    "        return {metric.name: metric.result() for metric in self.metrics}\n",
    "\n",
    "    @tf.function\n",
    "    def test_step(self, data):\n",
    "        x, t = data\n",
    "\n",
    "        output = self(x, training = False)\n",
    "        loss = self.loss_function(t, output)\n",
    "\n",
    "        self.metrics[0].update_state(loss)\n",
    "        for metric in self.metrics[1:]:\n",
    "            metric.update_state(t,output)\n",
    "\n",
    "        return {metric.name: metric.result() for metric in self.metrics}"
   ]
  },
  {
   "cell_type": "code",
   "execution_count": 8,
   "metadata": {
    "id": "AI2WJpkkMhEO"
   },
   "outputs": [],
   "source": [
    "def training_loop(model, train_ds, val_ds, epochs, train_summary_writer, val_summary_writer): \n",
    "    '''\n",
    "    create the training loop where the model is trained on the train dataset and afterwards tested on the validation dataset\n",
    "    '''\n",
    "    hist = {\"train_loss\":[],\"train_acc\":[],\"test_loss\":[], \"test_acc\":[]}\n",
    "    #iterate over given amount of epochs\n",
    "    for epoch in range(epochs): \n",
    "        print(f\"Epoch {epoch}: \")\n",
    "\n",
    "        #train on all batches of the training data\n",
    "        for data in tqdm.tqdm(train_ds, position = 0, leave = True):\n",
    "            metrics = model.train_step(data)\n",
    "\n",
    "            with train_summary_writer.as_default(): \n",
    "                for metric in model.metrics: \n",
    "                    tf.summary.scalar(f\"{metric.name}\", metric.result(), step=epoch)\n",
    "\n",
    "        # print the metrics and add to history element\n",
    "        for key, value in metrics.items():\n",
    "            hist[f\"train_{key}\"].append(value.numpy())\n",
    "            print(f\"train_{key}: {value.numpy()}\")\n",
    "\n",
    "        #reset metric \n",
    "        model.reset_metrics()\n",
    "\n",
    "        #evaluation on validation set\n",
    "        for data in val_ds:\n",
    "            metrics = model.test_step(data)\n",
    "\n",
    "            with val_summary_writer.as_default():\n",
    "                for metric in model.metrics:\n",
    "                    tf.summary.scalar(f\"{metric.name}\", metric.result(), step=epoch)\n",
    "\n",
    "        # print the metrics and add to history element\n",
    "        for key, value in metrics.items():\n",
    "            hist[f\"test_{key}\"].append(value.numpy())\n",
    "            print(f\"test_{key}: {value.numpy()}\")\n",
    "\n",
    "        #reset metric\n",
    "        model.reset_metric()\n",
    "        print(\"\\n\")\n",
    "    \n",
    "    return hist"
   ]
  },
  {
   "cell_type": "code",
   "execution_count": 9,
   "metadata": {
    "id": "4qLXtIkAFun0"
   },
   "outputs": [],
   "source": [
    "def create_summary_writers(config_name):\n",
    "    '''\n",
    "    create the summary writer to have access to the metrics of the model \n",
    "    '''\n",
    "    current_time = datetime.datetime.now().strftime(\"%Y%m%d-%H%M%S\")\n",
    "\n",
    "    train_log_path = f\"logs/tests/{config_name}/{current_time}/train\"\n",
    "    val_log_path = f\"logs/tests/{config_name}/{current_time}/val\"\n",
    "\n",
    "    # log writer\n",
    "    train_summary_writer = tf.summary.create_file_writer(train_log_path)\n",
    "    val_summary_writer = tf.summary.create_file_writer(val_log_path)\n",
    "\n",
    "    return train_summary_writer, val_summary_writer"
   ]
  },
  {
   "cell_type": "code",
   "execution_count": 10,
   "metadata": {
    "id": "yh-7_Bnt8xKR"
   },
   "outputs": [],
   "source": [
    "import matplotlib.pyplot as plt \n",
    "def run(model):\n",
    "    '''\n",
    "    run the model and specify the number of epochs, batch_size and prepare the training and testing data\n",
    "    '''\n",
    "\n",
    "    ### Hyperparameters\n",
    "    num_epochs = 15\n",
    "    batch_size = 32\n",
    "    train = prepare_data(batch_size,train_ds)\n",
    "    test = prepare_data(batch_size,test_ds)\n",
    "\n",
    "    train_summary_writer, val_summary_writer = create_summary_writers(config_name = f'RUN')\n",
    "    hist = training_loop(model,train,test,num_epochs,train_summary_writer, val_summary_writer)\n",
    "    \n",
    "    fig, ax = plt.subplots(1,2, figsize=(10,10))\n",
    "\n",
    "    ax[0].plot(hist['train_acc'], label='train accuracy')\n",
    "    ax[0].plot(hist['test_acc'], label='test accuracy')\n",
    "    ax[0].legend()\n",
    "\n",
    "    ax[1].plot(hist['train_loss'], label='train loss')\n",
    "    ax[1].plot(hist['test_loss'], label='test loss')\n",
    "    ax[1].legend();"
   ]
  },
  {
   "cell_type": "code",
   "execution_count": 11,
   "metadata": {
    "colab": {
     "base_uri": "https://localhost:8080/"
    },
    "id": "0MMWSPGqHPgM",
    "outputId": "1ded9d4a-0fd6-44b1-df66-13f465b22448"
   },
   "outputs": [
    {
     "name": "stdout",
     "output_type": "stream",
     "text": [
      "WARNING:tensorflow:From /home/studio-lab-user/.conda/envs/default/lib/python3.9/site-packages/tensorflow/python/autograph/pyct/static_analysis/liveness.py:83: Analyzer.lamba_check (from tensorflow.python.autograph.pyct.static_analysis.liveness) is deprecated and will be removed after 2023-09-23.\n",
      "Instructions for updating:\n",
      "Lambda fuctions will be no more assumed to be used in the statement where they are used, or at least in the same block. https://github.com/tensorflow/tensorflow/issues/56089\n"
     ]
    },
    {
     "name": "stderr",
     "output_type": "stream",
     "text": [
      "WARNING:tensorflow:From /home/studio-lab-user/.conda/envs/default/lib/python3.9/site-packages/tensorflow/python/autograph/pyct/static_analysis/liveness.py:83: Analyzer.lamba_check (from tensorflow.python.autograph.pyct.static_analysis.liveness) is deprecated and will be removed after 2023-09-23.\n",
      "Instructions for updating:\n",
      "Lambda fuctions will be no more assumed to be used in the statement where they are used, or at least in the same block. https://github.com/tensorflow/tensorflow/issues/56089\n"
     ]
    },
    {
     "name": "stdout",
     "output_type": "stream",
     "text": [
      "Epoch 0: \n"
     ]
    },
    {
     "name": "stderr",
     "output_type": "stream",
     "text": [
      "100%|██████████| 1172/1172 [00:14<00:00, 83.64it/s] \n"
     ]
    },
    {
     "name": "stdout",
     "output_type": "stream",
     "text": [
      "train_loss: 1.687070608139038\n",
      "train_acc: 0.3503466546535492\n",
      "test_loss: 1.3145540952682495\n",
      "test_acc: 0.5076000094413757\n",
      "\n",
      "\n",
      "Epoch 1: \n"
     ]
    },
    {
     "name": "stderr",
     "output_type": "stream",
     "text": [
      "100%|██████████| 1172/1172 [00:06<00:00, 169.89it/s]\n"
     ]
    },
    {
     "name": "stdout",
     "output_type": "stream",
     "text": [
      "train_loss: 1.194753646850586\n",
      "train_acc: 0.5689866542816162\n",
      "test_loss: 1.0087833404541016\n",
      "test_acc: 0.6420000195503235\n",
      "\n",
      "\n",
      "Epoch 2: \n"
     ]
    },
    {
     "name": "stderr",
     "output_type": "stream",
     "text": [
      "100%|██████████| 1172/1172 [00:06<00:00, 170.70it/s]\n"
     ]
    },
    {
     "name": "stdout",
     "output_type": "stream",
     "text": [
      "train_loss: 0.9707219004631042\n",
      "train_acc: 0.6541333198547363\n",
      "test_loss: 0.8822507262229919\n",
      "test_acc: 0.6880000233650208\n",
      "\n",
      "\n",
      "Epoch 3: \n"
     ]
    },
    {
     "name": "stderr",
     "output_type": "stream",
     "text": [
      "100%|██████████| 1172/1172 [00:06<00:00, 169.95it/s]\n"
     ]
    },
    {
     "name": "stdout",
     "output_type": "stream",
     "text": [
      "train_loss: 0.8186164498329163\n",
      "train_acc: 0.7108266949653625\n",
      "test_loss: 0.920491099357605\n",
      "test_acc: 0.6823999881744385\n",
      "\n",
      "\n",
      "Epoch 4: \n"
     ]
    },
    {
     "name": "stderr",
     "output_type": "stream",
     "text": [
      "100%|██████████| 1172/1172 [00:06<00:00, 170.77it/s]\n"
     ]
    },
    {
     "name": "stdout",
     "output_type": "stream",
     "text": [
      "train_loss: 0.7181201577186584\n",
      "train_acc: 0.7487199902534485\n",
      "test_loss: 0.7309390902519226\n",
      "test_acc: 0.7423999905586243\n",
      "\n",
      "\n",
      "Epoch 5: \n"
     ]
    },
    {
     "name": "stderr",
     "output_type": "stream",
     "text": [
      "100%|██████████| 1172/1172 [00:06<00:00, 169.25it/s]\n"
     ]
    },
    {
     "name": "stdout",
     "output_type": "stream",
     "text": [
      "train_loss: 0.6316601037979126\n",
      "train_acc: 0.7788800001144409\n",
      "test_loss: 0.730984091758728\n",
      "test_acc: 0.75\n",
      "\n",
      "\n",
      "Epoch 6: \n"
     ]
    },
    {
     "name": "stderr",
     "output_type": "stream",
     "text": [
      "100%|██████████| 1172/1172 [00:06<00:00, 169.55it/s]\n"
     ]
    },
    {
     "name": "stdout",
     "output_type": "stream",
     "text": [
      "train_loss: 0.5580097436904907\n",
      "train_acc: 0.8062133193016052\n",
      "test_loss: 0.6701480746269226\n",
      "test_acc: 0.7627999782562256\n",
      "\n",
      "\n",
      "Epoch 7: \n"
     ]
    },
    {
     "name": "stderr",
     "output_type": "stream",
     "text": [
      "100%|██████████| 1172/1172 [00:06<00:00, 170.48it/s]\n"
     ]
    },
    {
     "name": "stdout",
     "output_type": "stream",
     "text": [
      "train_loss: 0.4939102232456207\n",
      "train_acc: 0.8267199993133545\n",
      "test_loss: 0.7158233523368835\n",
      "test_acc: 0.7699999809265137\n",
      "\n",
      "\n",
      "Epoch 8: \n"
     ]
    },
    {
     "name": "stderr",
     "output_type": "stream",
     "text": [
      "100%|██████████| 1172/1172 [00:06<00:00, 169.84it/s]\n"
     ]
    },
    {
     "name": "stdout",
     "output_type": "stream",
     "text": [
      "train_loss: 0.43505460023880005\n",
      "train_acc: 0.8460000157356262\n",
      "test_loss: 0.7938447594642639\n",
      "test_acc: 0.7688000202178955\n",
      "\n",
      "\n",
      "Epoch 9: \n"
     ]
    },
    {
     "name": "stderr",
     "output_type": "stream",
     "text": [
      "100%|██████████| 1172/1172 [00:06<00:00, 170.46it/s]\n"
     ]
    },
    {
     "name": "stdout",
     "output_type": "stream",
     "text": [
      "train_loss: 0.38427266478538513\n",
      "train_acc: 0.864026665687561\n",
      "test_loss: 0.7729116678237915\n",
      "test_acc: 0.7675999999046326\n",
      "\n",
      "\n",
      "Epoch 10: \n"
     ]
    },
    {
     "name": "stderr",
     "output_type": "stream",
     "text": [
      "100%|██████████| 1172/1172 [00:06<00:00, 169.90it/s]\n"
     ]
    },
    {
     "name": "stdout",
     "output_type": "stream",
     "text": [
      "train_loss: 0.33890068531036377\n",
      "train_acc: 0.8795199990272522\n",
      "test_loss: 0.7659239172935486\n",
      "test_acc: 0.7635999917984009\n",
      "\n",
      "\n",
      "Epoch 11: \n"
     ]
    },
    {
     "name": "stderr",
     "output_type": "stream",
     "text": [
      "100%|██████████| 1172/1172 [00:06<00:00, 169.51it/s]\n"
     ]
    },
    {
     "name": "stdout",
     "output_type": "stream",
     "text": [
      "train_loss: 0.2889866530895233\n",
      "train_acc: 0.8961066603660583\n",
      "test_loss: 0.8279606103897095\n",
      "test_acc: 0.7716000080108643\n",
      "\n",
      "\n",
      "Epoch 12: \n"
     ]
    },
    {
     "name": "stderr",
     "output_type": "stream",
     "text": [
      "100%|██████████| 1172/1172 [00:06<00:00, 170.14it/s]\n"
     ]
    },
    {
     "name": "stdout",
     "output_type": "stream",
     "text": [
      "train_loss: 0.25159066915512085\n",
      "train_acc: 0.909280002117157\n",
      "test_loss: 0.8631571531295776\n",
      "test_acc: 0.7648000121116638\n",
      "\n",
      "\n",
      "Epoch 13: \n"
     ]
    },
    {
     "name": "stderr",
     "output_type": "stream",
     "text": [
      "100%|██████████| 1172/1172 [00:06<00:00, 168.35it/s]\n"
     ]
    },
    {
     "name": "stdout",
     "output_type": "stream",
     "text": [
      "train_loss: 0.21575860679149628\n",
      "train_acc: 0.9226400256156921\n",
      "test_loss: 0.9681366682052612\n",
      "test_acc: 0.7652000188827515\n",
      "\n",
      "\n",
      "Epoch 14: \n"
     ]
    },
    {
     "name": "stderr",
     "output_type": "stream",
     "text": [
      "100%|██████████| 1172/1172 [00:06<00:00, 168.94it/s]\n"
     ]
    },
    {
     "name": "stdout",
     "output_type": "stream",
     "text": [
      "train_loss: 0.1899624615907669\n",
      "train_acc: 0.930453360080719\n",
      "test_loss: 0.9285558462142944\n",
      "test_acc: 0.7832000255584717\n",
      "\n",
      "\n"
     ]
    },
    {
     "data": {
      "image/png": "[encoded data removed]",
      "text/plain": [
       "<Figure size 720x720 with 2 Axes>"
      ]
     },
     "metadata": {
      "needs_background": "light"
     },
     "output_type": "display_data"
    }
   ],
   "source": [
    "myMod1 = ConvModel(tf.keras.optimizers.Adam(learning_rate=0.001))\n",
    "hist = run(myMod1)"
   ]
  },
  {
   "cell_type": "markdown",
   "metadata": {},
   "source": [
    "Regardless of the model architecture we tend to overfit to the trainings data after roughly 7 epochs. To further improve the model we would need to do batch normalization or dropout. "
   ]
  },
  {
   "cell_type": "code",
   "execution_count": 12,
   "metadata": {
    "id": "tUQwXJh3E0PP"
   },
   "outputs": [
    {
     "data": {
      "text/html": [
       "\n",
       "      <iframe id=\"tensorboard-frame-50211743610f13b3\" width=\"100%\" height=\"800\" frameborder=\"0\">\n",
       "      </iframe>\n",
       "      <script>\n",
       "        (function() {\n",
       "          const frame = document.getElementById(\"tensorboard-frame-50211743610f13b3\");\n",
       "          const url = new URL(\"/\", window.location);\n",
       "          const port = 6006;\n",
       "          if (port) {\n",
       "            url.port = port;\n",
       "          }\n",
       "          frame.src = url;\n",
       "        })();\n",
       "      </script>\n",
       "    "
      ],
      "text/plain": [
       "<IPython.core.display.HTML object>"
      ]
     },
     "metadata": {},
     "output_type": "display_data"
    }
   ],
   "source": [
    "%tensorboard --logdir logs/tests/"
   ]
  }
 ],
 "metadata": {
  "colab": {
   "provenance": []
  },
  "kernelspec": {
   "display_name": "default:Python",
   "language": "python",
   "name": "conda-env-default-py"
  },
  "language_info": {
   "codemirror_mode": {
    "name": "ipython",
    "version": 3
   },
   "file_extension": ".py",
   "mimetype": "text/x-python",
   "name": "python",
   "nbconvert_exporter": "python",
   "pygments_lexer": "ipython3",
   "version": "3.9.7"
  }
 },
 "nbformat": 4,
 "nbformat_minor": 4
}
